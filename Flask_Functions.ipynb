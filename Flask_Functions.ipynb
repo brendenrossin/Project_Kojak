{
 "cells": [
  {
   "cell_type": "code",
   "execution_count": 1,
   "metadata": {
    "ExecuteTime": {
     "end_time": "2018-09-13T00:31:13.791283Z",
     "start_time": "2018-09-13T00:31:11.969162Z"
    }
   },
   "outputs": [],
   "source": [
    "import numpy as np\n",
    "import pickle\n",
    "import pandas as pd\n",
    "import datetime\n",
    "from fbprophet import Prophet\n",
    "from fbprophet.plot import add_changepoints_to_plot\n",
    "from fbprophet.diagnostics import performance_metrics\n",
    "\n",
    "prophet_final = pickle.load(open('Models/Prophet_Final.pkl', 'rb'))\n",
    "df = pd.read_pickle(\"Data/Prophet_Forecast_DF.pkl\")"
   ]
  },
  {
   "cell_type": "code",
   "execution_count": 2,
   "metadata": {
    "ExecuteTime": {
     "end_time": "2018-09-13T00:31:13.973750Z",
     "start_time": "2018-09-13T00:31:13.853846Z"
    }
   },
   "outputs": [],
   "source": [
    "def nutritional_breakdown(df, converted_data):\n",
    "\n",
    "    total_calories = converted_data['Daily_Calories']\n",
    "    percent_fat = converted_data['Daily_Fat']\n",
    "    percent_protein = converted_data['Daily_Protein']\n",
    "    percent_carb = converted_data['Daily_Carbs']\n",
    "    percent_breakfast = converted_data['Percent_Breakfast']\n",
    "    percent_lunch = converted_data['Percent_Lunch']\n",
    "    percent_dinner = converted_data['Percent_Dinner']\n",
    "\n",
    "    nutrient_breakdown = {\n",
    "        'Calories_Breakfast': np.mean(df['Calories_Breakfast']),\n",
    "        'Saturated_Fat_Breakfast': np.mean(df['Saturated_Fat_Breakfast']),\n",
    "        'Cholesterol_Breakfast': np.mean(df['Cholesterol_Breakfast']),\n",
    "        'Polyunsaturated_Fat_Breakfast': np.mean(df['Polyunsaturated_Fat_Breakfast']),\n",
    "        'Monounsaturated_Fat_Breakfast': np.mean(df['Monounsaturated_Fat_Breakfast']),\n",
    "        'Trans_Fat_Breakfast': np.mean(df['Trans_Fat_Breakfast']),\n",
    "        'Carbohydrates_(g)_Breakfast': np.mean(df['Carbohydrates_(g)_Breakfast']),\n",
    "        'Sugar_Breakfast': np.mean(df['Sugar_Breakfast']),\n",
    "        'Sodium_(mg)_Breakfast': np.mean(df['Sodium_(mg)_Breakfast']),\n",
    "        'Protein_(g)_Breakfast': np.mean(df['Protein_(g)_Breakfast']),\n",
    "        'Calories_Lunch': np.mean(df['Calories_Lunch']),\n",
    "        'Saturated_Fat_Lunch': np.mean(df['Saturated_Fat_Lunch']),\n",
    "        'Polyunsaturated_Fat_Lunch': np.mean(df['Polyunsaturated_Fat_Lunch']),\n",
    "        'Monounsaturated_Fat_Lunch': np.mean(df['Monounsaturated_Fat_Lunch']),\n",
    "        'Trans_Fat_Lunch': np.mean(df['Trans_Fat_Lunch']),\n",
    "        'Cholesterol_Lunch': np.mean(df['Cholesterol_Lunch']),\n",
    "        'Sodium_(mg)_Lunch': np.mean(df['Sodium_(mg)_Lunch']),\n",
    "        'Carbohydrates_(g)_Lunch': np.mean(df['Carbohydrates_(g)_Lunch']),\n",
    "        'Sugar_Lunch': np.mean(df['Sugar_Lunch']),\n",
    "        'Protein_(g)_Lunch': np.mean(df['Protein_(g)_Lunch']),\n",
    "        'Calories_Dinner': np.mean(df['Calories_Dinner']),\n",
    "        'Saturated_Fat_Dinner': np.mean(df['Saturated_Fat_Dinner']),\n",
    "        'Polyunsaturated_Fat_Dinner': np.mean(df['Polyunsaturated_Fat_Dinner']),\n",
    "        'Monounsaturated_Fat_Dinner': np.mean(df['Monounsaturated_Fat_Dinner']),\n",
    "        'Trans_Fat_Dinner': np.mean(df['Trans_Fat_Dinner']),\n",
    "        'Cholesterol_Dinner': np.mean(df['Cholesterol_Dinner']),\n",
    "        'Sodium_(mg)_Dinner': np.mean(df['Sodium_(mg)_Dinner']),\n",
    "        'Carbohydrates_(g)_Dinner': np.mean(df['Carbohydrates_(g)_Dinner']),\n",
    "        'Sugar_Dinner': np.mean(df['Sugar_Dinner']),\n",
    "        'Protein_(g)_Dinner': np.mean(df['Protein_(g)_Dinner'])\n",
    "    }\n",
    "\n",
    "    cals_per_g_fat = 9\n",
    "    cals_per_g_protein = 4\n",
    "    cals_per_g_carb = 4\n",
    "    \n",
    "    percent_breakfast = percent_breakfast / 100\n",
    "    percent_lunch = percent_lunch / 100\n",
    "    percent_dinner = percent_dinner / 100\n",
    "    \n",
    "    percent_fat = percent_fat / 100\n",
    "    percent_protein = percent_protein / 100\n",
    "    percent_carb = percent_carb / 100\n",
    "\n",
    "    breakfast_multiplier = percent_breakfast / np.mean(df['Calories_Breakfast'] / df['Calories'])\n",
    "    lunch_multiplier = percent_lunch / np.mean(df['Calories_Lunch'] / df['Calories'])\n",
    "    dinner_multiplier = percent_dinner / np.mean(df['Calories_Dinner'] / df['Calories'])\n",
    "\n",
    "    g_fat = total_calories * percent_fat / cals_per_g_fat\n",
    "    g_protein = total_calories * percent_protein / cals_per_g_protein\n",
    "    g_carbs = total_calories * percent_carb / cals_per_g_carb\n",
    "\n",
    "    fat_multiplier = g_fat / np.mean(df['Fat (g)'])\n",
    "    protein_multiplier = g_protein / np.mean(df['Protein (g)'])\n",
    "    carb_multiplier = g_carbs / np.mean(df['Carbohydrates (g)'])\n",
    "\n",
    "    fat_breakdown = {}\n",
    "\n",
    "    fat_columns = ['Saturated_Fat_Breakfast', 'Cholesterol_Breakfast',\n",
    "                   'Polyunsaturated_Fat_Breakfast', 'Monounsaturated_Fat_Breakfast',\n",
    "                   'Trans_Fat_Breakfast', 'Sodium_(mg)_Breakfast', 'Saturated_Fat_Lunch',\n",
    "                   'Polyunsaturated_Fat_Lunch', 'Monounsaturated_Fat_Lunch', 'Sodium_(mg)_Lunch',\n",
    "                   'Trans_Fat_Lunch', 'Cholesterol_Lunch', 'Saturated_Fat_Dinner', 'Polyunsaturated_Fat_Dinner',\n",
    "                   'Monounsaturated_Fat_Dinner', 'Trans_Fat_Dinner', 'Cholesterol_Dinner', 'Sodium_(mg)_Dinner']\n",
    "\n",
    "    for i in range(len(fat_columns)):\n",
    "        if i <= 5:\n",
    "            fat_breakdown[fat_columns[i]] = nutrient_breakdown[fat_columns[i]] * \\\n",
    "                fat_multiplier * percent_breakfast\n",
    "        elif i <= 11:\n",
    "            fat_breakdown[fat_columns[i]] = nutrient_breakdown[fat_columns[i]] * \\\n",
    "                fat_multiplier * percent_lunch\n",
    "        else:\n",
    "            fat_breakdown[fat_columns[i]] = nutrient_breakdown[fat_columns[i]] * \\\n",
    "                fat_multiplier * percent_dinner\n",
    "\n",
    "    protein_breakdown = {}\n",
    "\n",
    "    protein_columns = ['Protein_(g)_Breakfast', 'Protein_(g)_Lunch', 'Protein_(g)_Dinner']\n",
    "\n",
    "    protein_breakdown['Protein_(g)_Breakfast'] = nutrient_breakdown['Protein_(g)_Breakfast'] * \\\n",
    "        protein_multiplier * percent_breakfast\n",
    "    protein_breakdown['Protein_(g)_Lunch'] = nutrient_breakdown['Protein_(g)_Lunch'] * \\\n",
    "        protein_multiplier * percent_lunch\n",
    "    protein_breakdown['Protein_(g)_Dinner'] = nutrient_breakdown['Protein_(g)_Dinner'] * \\\n",
    "        protein_multiplier * percent_dinner\n",
    "\n",
    "    carb_breakdown = {}\n",
    "\n",
    "    carb_columns = ['Carbohydrates_(g)_Breakfast', 'Sugar_Breakfast', 'Carbohydrates_(g)_Lunch',\n",
    "                    'Sugar_Lunch', 'Carbohydrates_(g)_Dinner', 'Sugar_Dinner']\n",
    "\n",
    "    for i in range(len(carb_columns)):\n",
    "        if i <= 1:\n",
    "            carb_breakdown[carb_columns[i]] = nutrient_breakdown[carb_columns[i]] * \\\n",
    "                carb_multiplier * percent_breakfast\n",
    "        elif i <= 3:\n",
    "            carb_breakdown[carb_columns[i]] = nutrient_breakdown[carb_columns[i]] * \\\n",
    "                carb_multiplier * percent_lunch\n",
    "        else:\n",
    "            carb_breakdown[carb_columns[i]] = nutrient_breakdown[carb_columns[i]] * \\\n",
    "                carb_multiplier * percent_dinner\n",
    "\n",
    "    calories_breakdown = {}\n",
    "\n",
    "    calories_columns = ['Calories_Breakfast', 'Calories_Lunch', 'Calories_Dinner']\n",
    "\n",
    "    calories_breakdown['Calories_Breakfast'] = total_calories * percent_breakfast\n",
    "    calories_breakdown['Calories_Lunch'] = total_calories * percent_lunch\n",
    "    calories_breakdown['Calories_Dinner'] = total_calories * percent_dinner\n",
    "\n",
    "    return fat_breakdown, protein_breakdown, carb_breakdown, calories_breakdown"
   ]
  },
  {
   "cell_type": "code",
   "execution_count": 3,
   "metadata": {
    "ExecuteTime": {
     "end_time": "2018-09-13T00:31:15.016019Z",
     "start_time": "2018-09-13T00:31:14.989866Z"
    }
   },
   "outputs": [],
   "source": [
    "def get_features(converted_data, fat_breakdown, protein_breakdown, carb_breakdown, calorie_breakdown):\n",
    "    minutes_sedentary = (1440 - converted_data['Minutes_Lightly_Active'] -\n",
    "                         converted_data['Minutes_Fairly_Active'] - converted_data['Minutes_Very_Active'])\n",
    "\n",
    "    features = {\n",
    "        'Steps': converted_data['Steps'],\n",
    "        'Minutes_Sedentary': minutes_sedentary,\n",
    "        'Minutes_Lightly_Active': converted_data['Minutes_Lightly_Active'],\n",
    "        'Minutes_Fairly_Active': converted_data['Minutes_Fairly_Active'],\n",
    "        'Minutes_Very_Active': converted_data['Minutes_Very_Active'],\n",
    "        'Calories_Breakfast': calorie_breakdown['Calories_Breakfast'],\n",
    "        'Saturated_Fat_Breakfast': fat_breakdown['Saturated_Fat_Breakfast'],\n",
    "        'Cholesterol_Breakfast': fat_breakdown['Cholesterol_Breakfast'],\n",
    "        'Polyunsaturated_Fat_Breakfast': fat_breakdown['Polyunsaturated_Fat_Breakfast'],\n",
    "        'Monounsaturated_Fat_Breakfast': fat_breakdown['Monounsaturated_Fat_Breakfast'],\n",
    "        'Trans_Fat_Breakfast': fat_breakdown['Trans_Fat_Breakfast'],\n",
    "        'Carbohydrates_(g)_Breakfast': carb_breakdown['Carbohydrates_(g)_Breakfast'],\n",
    "        'Sugar_Breakfast': carb_breakdown['Sugar_Breakfast'],\n",
    "        'Sodium_(mg)_Breakfast': fat_breakdown['Sodium_(mg)_Breakfast'],\n",
    "        'Protein_(g)_Breakfast': protein_breakdown['Protein_(g)_Breakfast'],\n",
    "        'Calories_Lunch': calorie_breakdown['Calories_Lunch'],\n",
    "        'Saturated_Fat_Lunch': fat_breakdown['Saturated_Fat_Lunch'],\n",
    "        'Polyunsaturated_Fat_Lunch': fat_breakdown['Polyunsaturated_Fat_Lunch'],\n",
    "        'Monounsaturated_Fat_Lunch': fat_breakdown['Monounsaturated_Fat_Lunch'],\n",
    "        'Trans_Fat_Lunch': fat_breakdown['Trans_Fat_Lunch'],\n",
    "        'Cholesterol_Lunch': fat_breakdown['Cholesterol_Lunch'],\n",
    "        'Sodium_(mg)_Lunch': fat_breakdown['Sodium_(mg)_Lunch'],\n",
    "        'Carbohydrates_(g)_Lunch': carb_breakdown['Carbohydrates_(g)_Lunch'],\n",
    "        'Sugar_Lunch': carb_breakdown['Sugar_Lunch'],\n",
    "        'Protein_(g)_Lunch': protein_breakdown['Protein_(g)_Lunch'],\n",
    "        'Calories_Dinner': calorie_breakdown['Calories_Dinner'],\n",
    "        'Saturated_Fat_Dinner': fat_breakdown['Saturated_Fat_Dinner'],\n",
    "        'Polyunsaturated_Fat_Dinner': fat_breakdown['Polyunsaturated_Fat_Dinner'],\n",
    "        'Monounsaturated_Fat_Dinner': fat_breakdown['Monounsaturated_Fat_Dinner'],\n",
    "        'Trans_Fat_Dinner': fat_breakdown['Trans_Fat_Dinner'],\n",
    "        'Cholesterol_Dinner': fat_breakdown['Cholesterol_Dinner'],\n",
    "        'Sodium_(mg)_Dinner': fat_breakdown['Sodium_(mg)_Dinner'],\n",
    "        'Carbohydrates_(g)_Dinner': carb_breakdown['Carbohydrates_(g)_Dinner'],\n",
    "        'Sugar_Dinner': carb_breakdown['Sugar_Dinner'],\n",
    "        'Protein_(g)_Dinner': protein_breakdown['Protein_(g)_Dinner']\n",
    "    }\n",
    "\n",
    "    return features"
   ]
  },
  {
   "cell_type": "code",
   "execution_count": 109,
   "metadata": {
    "ExecuteTime": {
     "end_time": "2018-09-13T22:03:23.164488Z",
     "start_time": "2018-09-13T22:03:23.138956Z"
    }
   },
   "outputs": [
    {
     "data": {
      "text/plain": [
       "{'Cholesterol_Breakfast': 47.369361732230225,\n",
       " 'Cholesterol_Dinner': 59.96923896477862,\n",
       " 'Cholesterol_Lunch': 52.72309612980455,\n",
       " 'Monounsaturated_Fat_Breakfast': 1.0669980021649492,\n",
       " 'Monounsaturated_Fat_Dinner': 1.7396704462301207,\n",
       " 'Monounsaturated_Fat_Lunch': 1.6779763911159176,\n",
       " 'Polyunsaturated_Fat_Breakfast': 0.44931076775543205,\n",
       " 'Polyunsaturated_Fat_Dinner': 0.8091658363152215,\n",
       " 'Polyunsaturated_Fat_Lunch': 1.3285957268035444,\n",
       " 'Saturated_Fat_Breakfast': 1.7163035040532133,\n",
       " 'Saturated_Fat_Dinner': 4.683843656475089,\n",
       " 'Saturated_Fat_Lunch': 3.845697006801862,\n",
       " 'Sodium_(mg)_Breakfast': 189.10818245528924,\n",
       " 'Sodium_(mg)_Dinner': 583.7117425390015,\n",
       " 'Sodium_(mg)_Lunch': 623.8489537824153,\n",
       " 'Trans_Fat_Breakfast': 0.057035880857512405,\n",
       " 'Trans_Fat_Dinner': 0.15129029103265051,\n",
       " 'Trans_Fat_Lunch': 0.036933843098355235}"
      ]
     },
     "execution_count": 109,
     "metadata": {},
     "output_type": "execute_result"
    }
   ],
   "source": [
    "converted_data = {\n",
    "  'Steps': 10000,\n",
    "  'Minutes_Lightly_Active': 100,\n",
    "  'Minutes_Fairly_Active': 60,\n",
    "  'Minutes_Very_Active': 20,\n",
    "  'Daily_Calories': 2000,\n",
    "  'Percent_Breakfast': 20,\n",
    "  'Percent_Lunch': 40,\n",
    "  'Percent_Dinner': 40,\n",
    "  'Daily_Fat': 35,\n",
    "  'Daily_Carbs': 25,\n",
    "  'Daily_Protein': 40,\n",
    "  'Date': '2018-10-01',\n",
    "  'american': 1.0,\n",
    "  'italian': 0.0,\n",
    "  'chinese': 0.0,\n",
    "  'mexican': 0.0,\n",
    "  'japanese': 1.0,\n",
    "  'greek': 1.0,\n",
    "  'mediterranean': 0.0,\n",
    "  'barbecue': 0.0,\n",
    "  'german': 0.0\n",
    "}\n",
    "\n",
    "fat_breakdown, protein_breakdown, carb_breakdown, calorie_breakdown = nutritional_breakdown(\n",
    "        df, converted_data)\n",
    "\n",
    "fat_breakdown"
   ]
  },
  {
   "cell_type": "code",
   "execution_count": 110,
   "metadata": {
    "ExecuteTime": {
     "end_time": "2018-09-13T22:03:25.229417Z",
     "start_time": "2018-09-13T22:03:25.224379Z"
    }
   },
   "outputs": [
    {
     "data": {
      "text/plain": [
       "{'Calories_Breakfast': 400.0,\n",
       " 'Calories_Dinner': 800.0,\n",
       " 'Calories_Lunch': 800.0,\n",
       " 'Carbohydrates_(g)_Breakfast': 7.622350343519052,\n",
       " 'Carbohydrates_(g)_Dinner': 23.595488384569848,\n",
       " 'Carbohydrates_(g)_Lunch': 24.440668196871435,\n",
       " 'Cholesterol_Breakfast': 47.369361732230225,\n",
       " 'Cholesterol_Dinner': 59.96923896477862,\n",
       " 'Cholesterol_Lunch': 52.72309612980455,\n",
       " 'Minutes_Fairly_Active': 60,\n",
       " 'Minutes_Lightly_Active': 100,\n",
       " 'Minutes_Sedentary': 1260,\n",
       " 'Minutes_Very_Active': 20,\n",
       " 'Monounsaturated_Fat_Breakfast': 1.0669980021649492,\n",
       " 'Monounsaturated_Fat_Dinner': 1.7396704462301207,\n",
       " 'Monounsaturated_Fat_Lunch': 1.6779763911159176,\n",
       " 'Polyunsaturated_Fat_Breakfast': 0.44931076775543205,\n",
       " 'Polyunsaturated_Fat_Dinner': 0.8091658363152215,\n",
       " 'Polyunsaturated_Fat_Lunch': 1.3285957268035444,\n",
       " 'Protein_(g)_Breakfast': 11.091942365553132,\n",
       " 'Protein_(g)_Dinner': 42.45146186529735,\n",
       " 'Protein_(g)_Lunch': 39.57893389150156,\n",
       " 'Saturated_Fat_Breakfast': 1.7163035040532133,\n",
       " 'Saturated_Fat_Dinner': 4.683843656475089,\n",
       " 'Saturated_Fat_Lunch': 3.845697006801862,\n",
       " 'Sodium_(mg)_Breakfast': 189.10818245528924,\n",
       " 'Sodium_(mg)_Dinner': 583.7117425390015,\n",
       " 'Sodium_(mg)_Lunch': 623.8489537824153,\n",
       " 'Steps': 10000,\n",
       " 'Sugar_Breakfast': 1.8346396810204646,\n",
       " 'Sugar_Dinner': 3.544489151269749,\n",
       " 'Sugar_Lunch': 3.7791439977262296,\n",
       " 'Trans_Fat_Breakfast': 0.057035880857512405,\n",
       " 'Trans_Fat_Dinner': 0.15129029103265051,\n",
       " 'Trans_Fat_Lunch': 0.036933843098355235}"
      ]
     },
     "execution_count": 110,
     "metadata": {},
     "output_type": "execute_result"
    }
   ],
   "source": [
    "features = get_features(converted_data, fat_breakdown, protein_breakdown,\n",
    "                            carb_breakdown, calorie_breakdown)\n",
    "\n",
    "features"
   ]
  },
  {
   "cell_type": "code",
   "execution_count": 111,
   "metadata": {
    "ExecuteTime": {
     "end_time": "2018-09-13T22:03:26.159392Z",
     "start_time": "2018-09-13T22:03:26.132801Z"
    }
   },
   "outputs": [],
   "source": [
    "def prophet_forecast_weight(features, df, periods, date, cap=None, floor=170):\n",
    "    future = prophet_final.make_future_dataframe(periods=periods)\n",
    "    future['floor'] = 170\n",
    "    \n",
    "    steps_regressors_df = df[['Date','Steps','Minutes_Sedentary', 'Minutes_Lightly_Active',\n",
    "       'Minutes_Fairly_Active', 'Minutes_Very_Active', 'Calories_Breakfast',\n",
    "       'Saturated_Fat_Breakfast', 'Cholesterol_Breakfast',\n",
    "       'Polyunsaturated_Fat_Breakfast', 'Monounsaturated_Fat_Breakfast',\n",
    "       'Trans_Fat_Breakfast', 'Carbohydrates_(g)_Breakfast', 'Sugar_Breakfast',\n",
    "       'Sodium_(mg)_Breakfast',\n",
    "       'Protein_(g)_Breakfast', 'Calories_Lunch', 'Saturated_Fat_Lunch',\n",
    "       'Polyunsaturated_Fat_Lunch', 'Monounsaturated_Fat_Lunch',\n",
    "       'Trans_Fat_Lunch', 'Cholesterol_Lunch', 'Sodium_(mg)_Lunch',\n",
    "       'Carbohydrates_(g)_Lunch', 'Sugar_Lunch', 'Protein_(g)_Lunch',\n",
    "       'Calories_Dinner', 'Saturated_Fat_Dinner', 'Polyunsaturated_Fat_Dinner',\n",
    "       'Monounsaturated_Fat_Dinner', 'Trans_Fat_Dinner', 'Cholesterol_Dinner',\n",
    "       'Sodium_(mg)_Dinner', 'Carbohydrates_(g)_Dinner',\n",
    "       'Sugar_Dinner', 'Protein_(g)_Dinner']]\n",
    "    \n",
    "    columns = ['Steps','Minutes_Sedentary', 'Minutes_Lightly_Active',\n",
    "       'Minutes_Fairly_Active', 'Minutes_Very_Active', 'Calories_Breakfast',\n",
    "       'Saturated_Fat_Breakfast', 'Cholesterol_Breakfast',\n",
    "       'Polyunsaturated_Fat_Breakfast', 'Monounsaturated_Fat_Breakfast',\n",
    "       'Trans_Fat_Breakfast', 'Carbohydrates_(g)_Breakfast', 'Sugar_Breakfast',\n",
    "       'Sodium_(mg)_Breakfast',\n",
    "       'Protein_(g)_Breakfast', 'Calories_Lunch', 'Saturated_Fat_Lunch',\n",
    "       'Polyunsaturated_Fat_Lunch', 'Monounsaturated_Fat_Lunch',\n",
    "       'Trans_Fat_Lunch', 'Cholesterol_Lunch', 'Sodium_(mg)_Lunch',\n",
    "       'Carbohydrates_(g)_Lunch', 'Sugar_Lunch', 'Protein_(g)_Lunch',\n",
    "       'Calories_Dinner', 'Saturated_Fat_Dinner', 'Polyunsaturated_Fat_Dinner',\n",
    "       'Monounsaturated_Fat_Dinner', 'Trans_Fat_Dinner', 'Cholesterol_Dinner',\n",
    "       'Sodium_(mg)_Dinner', 'Carbohydrates_(g)_Dinner',\n",
    "       'Sugar_Dinner', 'Protein_(g)_Dinner']\n",
    "\n",
    "    future = future.merge(steps_regressors_df, left_on='ds', right_on='Date', how='left')\n",
    "    \n",
    "    for i in columns:\n",
    "        future[i].iloc[-periods:] = features[i]\n",
    "        \n",
    "    forecast = prophet_final.predict(future)\n",
    "    \n",
    "    predicted_weight = np.round(forecast[forecast['ds'] == date]['yhat'].values[0],2)\n",
    "    predicted_weight_upper = np.round(forecast[forecast['ds'] == date]['yhat_upper'].values[0],2)\n",
    "    predicted_weight_lower = np.round(forecast[forecast['ds'] == date]['yhat_lower'].values[0],2)\n",
    "    \n",
    "    result = {\n",
    "        \n",
    "        'predicted_weight':predicted_weight,\n",
    "        'predicted_weight_upper': predicted_weight_upper,\n",
    "        'predicted_weight_lower': predicted_weight_lower\n",
    "        \n",
    "    }\n",
    "        \n",
    "    return result"
   ]
  },
  {
   "cell_type": "code",
   "execution_count": 112,
   "metadata": {
    "ExecuteTime": {
     "end_time": "2018-09-13T22:03:35.596475Z",
     "start_time": "2018-09-13T22:03:26.930236Z"
    }
   },
   "outputs": [
    {
     "name": "stderr",
     "output_type": "stream",
     "text": [
      "/Users/brendenrossin/anaconda3/lib/python3.6/site-packages/pandas/core/indexing.py:189: SettingWithCopyWarning: \n",
      "A value is trying to be set on a copy of a slice from a DataFrame\n",
      "\n",
      "See the caveats in the documentation: http://pandas.pydata.org/pandas-docs/stable/indexing.html#indexing-view-versus-copy\n",
      "  self._setitem_with_indexer(indexer, value)\n"
     ]
    },
    {
     "data": {
      "text/plain": [
       "{'predicted_weight': 171.21,\n",
       " 'predicted_weight_lower': 168.46,\n",
       " 'predicted_weight_upper': 173.87}"
      ]
     },
     "execution_count": 112,
     "metadata": {},
     "output_type": "execute_result"
    }
   ],
   "source": [
    "prophet_forecast_weight(features, df, periods=90, date=converted_data['Date'])"
   ]
  },
  {
   "cell_type": "code",
   "execution_count": 122,
   "metadata": {
    "ExecuteTime": {
     "end_time": "2018-09-13T22:05:24.086993Z",
     "start_time": "2018-09-13T22:05:23.975917Z"
    }
   },
   "outputs": [],
   "source": [
    "def recipe_cosine_similarity(ideal_recipe_vec, new_recipe_vec):\n",
    "    ## ideal_recipe_vec == array of [ideal_meal_cals, ideal_meal_fat, ideal_meal_protein, ideal_meal_carb]\n",
    "    ## new_recipe_vec == array of [new_meal_cals, new_meal_fat, new_meal_protein, new_meal_carb]\n",
    "    return np.dot(ideal_recipe_vec, new_recipe_vec) / np.sqrt(np.dot(ideal_recipe_vec, ideal_recipe_vec) * np.dot(new_recipe_vec, new_recipe_vec))\n",
    "\n",
    "def get_closest_recipes(ideal_recipe_vec, new_recipe_vecs):\n",
    "    recipe_similarities = []\n",
    "    for i in new_recipe_vecs:\n",
    "        new_recipe_vec = i[2]\n",
    "        cosine_sim = recipe_cosine_similarity(ideal_recipe_vec, new_recipe_vec)\n",
    "        if np.isnan(cosine_sim) == False:\n",
    "            recipe_similarities.append([i[1], i[3], i[4], cosine_sim])\n",
    "    \n",
    "    recipe_similarities = sorted(recipe_similarities, key=lambda x: x[3], reverse=True)\n",
    "    \n",
    "    return recipe_similarities[:5]\n",
    "\n",
    "def food_recommendations(df, converted_data):\n",
    "    \n",
    "    cuisine_list = [key for key, value in converted_data.items() if value != 0.0]\n",
    "    \n",
    "    breakfast_df = df[df['course'].str.contains('breakfast') & df['cuisine'].str.contains('|'.join(cuisine_list))]\n",
    "    lunch_df = df[df['course'].str.contains('lunch') & df['cuisine'].str.contains('|'.join(cuisine_list))]\n",
    "    dinner_df = df[df['course'].str.contains('main dishes') & df['cuisine'].str.contains('|'.join(cuisine_list))]\n",
    "    \n",
    "    total_calories = converted_data['Daily_Calories']\n",
    "    percent_fat = converted_data['Daily_Fat']\n",
    "    percent_protein = converted_data['Daily_Protein']\n",
    "    percent_carb = converted_data['Daily_Carbs']\n",
    "    percent_breakfast = converted_data['Percent_Breakfast']\n",
    "    percent_lunch = converted_data['Percent_Lunch']\n",
    "    percent_dinner = converted_data['Percent_Dinner']\n",
    "    \n",
    "    cals_per_g_fat = 9\n",
    "    cals_per_g_protein = 4\n",
    "    cals_per_g_carb = 4\n",
    "\n",
    "    percent_breakfast = percent_breakfast / 100\n",
    "    percent_lunch = percent_lunch / 100\n",
    "    percent_dinner = percent_dinner / 100\n",
    "    \n",
    "    calories_breakdown = {}\n",
    "\n",
    "    calories_columns = ['Calories_Breakfast', 'Calories_Lunch', 'Calories_Dinner']\n",
    "\n",
    "    calories_breakdown['Calories_Breakfast'] = total_calories * percent_breakfast\n",
    "    calories_breakdown['Calories_Lunch'] = total_calories * percent_lunch\n",
    "    calories_breakdown['Calories_Dinner'] = total_calories * percent_dinner\n",
    "\n",
    "    percent_fat = percent_fat / 100\n",
    "    percent_protein = percent_protein / 100\n",
    "    percent_carb = percent_carb / 100\n",
    "    \n",
    "    breakfast_recipes = []\n",
    "    \n",
    "    g_fat = total_calories * percent_fat / cals_per_g_fat\n",
    "    g_protein = total_calories * percent_protein / cals_per_g_protein\n",
    "    g_carbs = total_calories * percent_carb / cals_per_g_carb\n",
    "    \n",
    "    g_fat_breakfast = g_fat * percent_breakfast\n",
    "    g_fat_lunch = g_fat * percent_lunch\n",
    "    g_fat_dinner = g_fat * percent_dinner\n",
    "    \n",
    "    g_protein_breakfast = g_protein * percent_breakfast\n",
    "    g_protein_lunch = g_protein * percent_lunch\n",
    "    g_protein_dinner = g_protein * percent_dinner\n",
    "    \n",
    "    g_carbs_breakfast = g_carbs * percent_breakfast\n",
    "    g_carbs_lunch = g_carbs * percent_lunch\n",
    "    g_carbs_dinner = g_carbs * percent_dinner\n",
    "    \n",
    "    ideal_breakfast_recipe_vec = [calories_breakdown['Calories_Breakfast'], g_fat_breakfast, g_protein_breakfast, g_carbs_breakfast]\n",
    "    ideal_lunch_recipe_vec = [calories_breakdown['Calories_Lunch'], g_fat_lunch, g_protein_lunch, g_carbs_lunch]\n",
    "    ideal_dinner_recipe_vec = [calories_breakdown['Calories_Dinner'], g_fat_dinner, g_protein_dinner, g_carbs_dinner]\n",
    "    \n",
    "    breakfast_recipe_vecs = [(index, row['name'], row[['energy_kcal', 'fat_g', 'protein_g', 'carbs_g']].values, row['source_url'], row['recipe_image']) for index, row in breakfast_df.iterrows()]\n",
    "    lunch_recipe_vecs = [(index, row['name'], row[['energy_kcal', 'fat_g', 'protein_g', 'carbs_g']].values, row['source_url'], row['recipe_image']) for index, row in lunch_df.iterrows()]\n",
    "    dinner_recipe_vecs = [(index, row['name'], row[['energy_kcal', 'fat_g', 'protein_g', 'carbs_g']].values, row['source_url'], row['recipe_image']) for index, row in dinner_df.iterrows()]\n",
    "\n",
    "    breakfast_recipes = get_closest_recipes(ideal_breakfast_recipe_vec, breakfast_recipe_vecs)\n",
    "    lunch_recipes = get_closest_recipes(ideal_lunch_recipe_vec, lunch_recipe_vecs)\n",
    "    dinner_recipes = get_closest_recipes(ideal_dinner_recipe_vec, dinner_recipe_vecs)\n",
    "\n",
    "    return breakfast_recipes, lunch_recipes, dinner_recipes   "
   ]
  },
  {
   "cell_type": "code",
   "execution_count": 123,
   "metadata": {
    "ExecuteTime": {
     "end_time": "2018-09-13T22:05:24.256804Z",
     "start_time": "2018-09-13T22:05:24.229415Z"
    }
   },
   "outputs": [],
   "source": [
    "yummly_df = pd.read_pickle(\"Data/Yummly_Data/Yummly_DF.pkl\")"
   ]
  },
  {
   "cell_type": "code",
   "execution_count": 124,
   "metadata": {
    "ExecuteTime": {
     "end_time": "2018-09-13T22:05:24.866843Z",
     "start_time": "2018-09-13T22:05:24.864135Z"
    }
   },
   "outputs": [],
   "source": [
    "# cuisine_list = ['american', 'japanese', 'greek']"
   ]
  },
  {
   "cell_type": "code",
   "execution_count": 125,
   "metadata": {
    "ExecuteTime": {
     "end_time": "2018-09-13T22:05:25.635855Z",
     "start_time": "2018-09-13T22:05:25.153459Z"
    }
   },
   "outputs": [
    {
     "data": {
      "text/plain": [
       "([['Japanese Omelet- Tamagoyaki',\n",
       "   'http://comfortfoodinfusion.com/japanese-omelet-tamagoyaki/',\n",
       "   'https://lh3.googleusercontent.com/lvPn7pUSH87JXwUDit9p5AWeDQMVkkb7gSyZto7ceZn97vUseYw7vCEhE1KB82OCfcA2LqeMS3vmgSIApjO_ig=s360',\n",
       "   0.9992585832010538],\n",
       "  ['Japanese Tamago Egg',\n",
       "   'http://allrecipes.com/recipe/221923/japanese-tamago-egg/',\n",
       "   'https://lh3.googleusercontent.com/qMZbdgaigM3mzo6lqUn_iYTG_T0QZc2GKGANoT7_xtj2QWY-EZ_O2a21KAVy4y5_r_H-9LfqnRmyk-Pb2qnbkw=s360',\n",
       "   0.9991628839346135],\n",
       "  ['Paleo Okonomiyaki (Japanese Pancake)',\n",
       "   'http://grokgrub.com/2014/12/03/paleo-okonomiyaki-japanese-pancake/',\n",
       "   'http://lh3.ggpht.com/samkjK3-1m2bv6rIrnMrk2rseYnIld7ML8HWEaOJvmoK5ORi-dgaRZMjh-gFz96HIfJ6FYBcihBItrPp-G1Q=s360',\n",
       "   0.9986846035015454],\n",
       "  ['Paleo Okonomiyaki (Japanese Pancake)',\n",
       "   'http://grokgrub.com/2014/12/03/paleo-okonomiyaki-japanese-pancake/',\n",
       "   'http://lh3.ggpht.com/samkjK3-1m2bv6rIrnMrk2rseYnIld7ML8HWEaOJvmoK5ORi-dgaRZMjh-gFz96HIfJ6FYBcihBItrPp-G1Q=s360',\n",
       "   0.9986846035015454],\n",
       "  ['Greek Egg White Frittata',\n",
       "   'http://afitphilosophy.com/2016/07/greek-egg-white-frittata.html',\n",
       "   'https://lh3.googleusercontent.com/Np671I_ovrdtXidQsm4I6eywgSCaS7VRz_6Wx0shG5UzuAdR63b6nSMUZmgXTG7S8PO-4Jt6IN5PTjR98hfIwQ=s360',\n",
       "   0.9986761242989486]],\n",
       " [['Miso Soup With Prawns and Udon Noodles',\n",
       "   'http://linsfood.com/miso-prawns-udon/',\n",
       "   'https://lh3.googleusercontent.com/KVFQMo2Fv_sIC77xv1ZOicpmJ3U3BXDBFDK6DCx4NAdQigEhVjD3Oh21cYxijYrQ1lrmfOWjkJ_RyGmyfTqzEGY=s360',\n",
       "   0.9998815046973037],\n",
       "  ['Greek Chicken Kebabs',\n",
       "   'http://www.recipegirl.com/2016/05/02/greek-chicken-kebabs/',\n",
       "   'https://lh3.googleusercontent.com/8KAekx8duqjArP4OV4JP8zr4B43NAqBgECRfhU4Ijiq9Y12_nj_uzCKOEsO6se6Pxs1jwHDA0Cu0L8Z6SdhN0A=s360',\n",
       "   0.9998135490973568],\n",
       "  ['Greek Marinated Steak Gyros',\n",
       "   'http://www.auntbeesrecipes.com/2014/01/greek-marinated-steak-gyros-with-greek.html',\n",
       "   'http://lh5.ggpht.com/gBAoAFLmoXxuDeElZR2j9ZhcdX47y7rYjxIVbx80QpUzbYNzme9yBVtxVye7fMLRA2vh8OSUeY_wTiP8Dxn8kQ=s360',\n",
       "   0.9997359368264749],\n",
       "  ['Greek Turkey Burgers with Tzatziki Sauce',\n",
       "   'https://www.bettycrocker.com/recipes/greek-turkey-burgers-with-tzatziki-sauce/9b470540-003b-4a20-9099-483d102439da',\n",
       "   'http://lh4.ggpht.com/5l1SdLSygYl9GaDd0qZupLkQ7TO3yZlvntMVZuS7zuJrWOGwiH6_KYvSjGuzxsviFRWE9FyShGPFgELHU1GY=s360',\n",
       "   0.9996812307168045],\n",
       "  ['Southern California Style Burgers',\n",
       "   'https://www.theredheadbaker.com/southern-california-style-burgers/',\n",
       "   'https://lh3.googleusercontent.com/pvLpVsrOS3QQqi77LqFi2ORaVTLCTqWjH6zihBYkXHc9m1y9SEjOsRL7agjhYUWBE9-eiNg-kbXSJRbXMyMO=s360',\n",
       "   0.9996756035144708]],\n",
       " [['Greek Roast Lamb with Potatoes',\n",
       "   'https://cookinginsens.wordpress.com/2011/01/11/arni-me-patates-sto-fourno-greek-roast-lamb-with-potatoes/',\n",
       "   'https://lh3.googleusercontent.com/bR30zpOlD-POp8X-OPoCcEVZJBad_ZyEpXohm4Bs6JpsD7NtWSmlRkAELVfSqOs8ei7PQrU9kd7D6RhQ4aEQLMM=s360',\n",
       "   0.9999785250819256],\n",
       "  ['Spicy Buttermilk Fried Chicken',\n",
       "   'http://blog.williams-sonoma.com/spicy-buttermilk-fried-chicken/',\n",
       "   'http://lh3.googleusercontent.com/xpIh-hLGYb7EQ1wEIvgtslkppqEm5Yes5x-4ykw4szkEvSQzGFIFNASRDkKzPm-2obDNt0gaofBH6yeXkxP89Q=s360',\n",
       "   0.9998533802906577],\n",
       "  [\"Bev's Famous Meatloaf\",\n",
       "   'http://www.myrecipes.com/recipe/bevs-famous-meatloaf',\n",
       "   'http://lh3.googleusercontent.com/imIoA3CImmY9AIed7zUa7vz25f54qktfcKe3Ihf5FyB6wns_-lj9A7cQkcVBTzkcqQc2roe0kqjVhnRLF9A_RA=s360',\n",
       "   0.9998528849559354],\n",
       "  ['Greek Chicken Kebabs',\n",
       "   'http://www.recipegirl.com/2016/05/02/greek-chicken-kebabs/',\n",
       "   'https://lh3.googleusercontent.com/8KAekx8duqjArP4OV4JP8zr4B43NAqBgECRfhU4Ijiq9Y12_nj_uzCKOEsO6se6Pxs1jwHDA0Cu0L8Z6SdhN0A=s360',\n",
       "   0.9998135490973568],\n",
       "  ['Southern Fried Catfish',\n",
       "   'https://www.lemonsforlulu.com/southern-fried-catfish-recipe/',\n",
       "   'https://lh3.googleusercontent.com/zmF17wzR4Nzqb1YBKVQMW_shCgylALS9FsfbrdBPpX1PK7rUHVPlQD_XlLMrESqb1S2VyhK0Z7afoONJeUA89A=s360',\n",
       "   0.9997831113597334]])"
      ]
     },
     "execution_count": 125,
     "metadata": {},
     "output_type": "execute_result"
    }
   ],
   "source": [
    "food_recommendations(yummly_df, converted_data)"
   ]
  },
  {
   "cell_type": "code",
   "execution_count": 126,
   "metadata": {
    "ExecuteTime": {
     "end_time": "2018-09-13T22:13:53.185142Z",
     "start_time": "2018-09-13T22:13:52.700361Z"
    }
   },
   "outputs": [],
   "source": [
    "breakfast_recipes, lunch_recipes, dinner_recipes = food_recommendations(yummly_df, converted_data)\n",
    "breakfast_recipe_names = [i[0] for i in breakfast_recipes]\n",
    "breakfast_recipe_urls = [i[1] for i in breakfast_recipes]\n",
    "breakfast_recipe_images = [i[2] for i in breakfast_recipes]\n",
    "\n",
    "lunch_recipe_names = [i[0] for i in lunch_recipes]\n",
    "lunch_recipe_urls = [i[1] for i in lunch_recipes]\n",
    "lunch_recipe_images = [i[2] for i in lunch_recipes]\n",
    "\n",
    "dinner_recipe_names = [i[0] for i in dinner_recipes]\n",
    "dinner_recipe_urls = [i[1] for i in dinner_recipes]\n",
    "dinner_recipe_images = [i[2] for i in dinner_recipes]"
   ]
  },
  {
   "cell_type": "code",
   "execution_count": 127,
   "metadata": {
    "ExecuteTime": {
     "end_time": "2018-09-13T22:13:59.899196Z",
     "start_time": "2018-09-13T22:13:59.895255Z"
    }
   },
   "outputs": [
    {
     "data": {
      "text/plain": [
       "['Japanese Omelet- Tamagoyaki',\n",
       " 'Japanese Tamago Egg',\n",
       " 'Paleo Okonomiyaki (Japanese Pancake)',\n",
       " 'Paleo Okonomiyaki (Japanese Pancake)',\n",
       " 'Greek Egg White Frittata']"
      ]
     },
     "execution_count": 127,
     "metadata": {},
     "output_type": "execute_result"
    }
   ],
   "source": [
    "breakfast_recipe_names"
   ]
  },
  {
   "cell_type": "code",
   "execution_count": 129,
   "metadata": {
    "ExecuteTime": {
     "end_time": "2018-09-13T22:14:29.573628Z",
     "start_time": "2018-09-13T22:14:29.568751Z"
    }
   },
   "outputs": [
    {
     "data": {
      "text/plain": [
       "[['Japanese Omelet- Tamagoyaki',\n",
       "  'http://comfortfoodinfusion.com/japanese-omelet-tamagoyaki/',\n",
       "  'https://lh3.googleusercontent.com/lvPn7pUSH87JXwUDit9p5AWeDQMVkkb7gSyZto7ceZn97vUseYw7vCEhE1KB82OCfcA2LqeMS3vmgSIApjO_ig=s360'],\n",
       " ['Japanese Tamago Egg',\n",
       "  'http://allrecipes.com/recipe/221923/japanese-tamago-egg/',\n",
       "  'https://lh3.googleusercontent.com/qMZbdgaigM3mzo6lqUn_iYTG_T0QZc2GKGANoT7_xtj2QWY-EZ_O2a21KAVy4y5_r_H-9LfqnRmyk-Pb2qnbkw=s360'],\n",
       " ['Paleo Okonomiyaki (Japanese Pancake)',\n",
       "  'http://grokgrub.com/2014/12/03/paleo-okonomiyaki-japanese-pancake/',\n",
       "  'http://lh3.ggpht.com/samkjK3-1m2bv6rIrnMrk2rseYnIld7ML8HWEaOJvmoK5ORi-dgaRZMjh-gFz96HIfJ6FYBcihBItrPp-G1Q=s360'],\n",
       " ['Paleo Okonomiyaki (Japanese Pancake)',\n",
       "  'http://grokgrub.com/2014/12/03/paleo-okonomiyaki-japanese-pancake/',\n",
       "  'http://lh3.ggpht.com/samkjK3-1m2bv6rIrnMrk2rseYnIld7ML8HWEaOJvmoK5ORi-dgaRZMjh-gFz96HIfJ6FYBcihBItrPp-G1Q=s360'],\n",
       " ['Greek Egg White Frittata',\n",
       "  'http://afitphilosophy.com/2016/07/greek-egg-white-frittata.html',\n",
       "  'https://lh3.googleusercontent.com/Np671I_ovrdtXidQsm4I6eywgSCaS7VRz_6Wx0shG5UzuAdR63b6nSMUZmgXTG7S8PO-4Jt6IN5PTjR98hfIwQ=s360']]"
      ]
     },
     "execution_count": 129,
     "metadata": {},
     "output_type": "execute_result"
    }
   ],
   "source": [
    "breakfast_recipe_info = [i[0:3] for i in breakfast_recipes]\n",
    "breakfast_recipe_info"
   ]
  },
  {
   "cell_type": "code",
   "execution_count": 133,
   "metadata": {
    "ExecuteTime": {
     "end_time": "2018-09-13T22:19:32.318519Z",
     "start_time": "2018-09-13T22:19:32.308816Z"
    }
   },
   "outputs": [
    {
     "ename": "NameError",
     "evalue": "name 'lunch_recipe_info' is not defined",
     "output_type": "error",
     "traceback": [
      "\u001b[0;31m---------------------------------------------------------------------------\u001b[0m",
      "\u001b[0;31mNameError\u001b[0m                                 Traceback (most recent call last)",
      "\u001b[0;32m<ipython-input-133-d21a991ac13e>\u001b[0m in \u001b[0;36m<module>\u001b[0;34m()\u001b[0m\n\u001b[1;32m      2\u001b[0m \u001b[0;34m\u001b[0m\u001b[0m\n\u001b[1;32m      3\u001b[0m \u001b[0mbreakfast_image\u001b[0m \u001b[0;34m=\u001b[0m \u001b[0mrandom\u001b[0m\u001b[0;34m.\u001b[0m\u001b[0mchoice\u001b[0m\u001b[0;34m(\u001b[0m\u001b[0;34m[\u001b[0m\u001b[0mi\u001b[0m\u001b[0;34m[\u001b[0m\u001b[0;36m2\u001b[0m\u001b[0;34m]\u001b[0m \u001b[0;32mfor\u001b[0m \u001b[0mi\u001b[0m \u001b[0;32min\u001b[0m \u001b[0mbreakfast_recipe_info\u001b[0m\u001b[0;34m]\u001b[0m\u001b[0;34m)\u001b[0m\u001b[0;34m\u001b[0m\u001b[0m\n\u001b[0;32m----> 4\u001b[0;31m \u001b[0mlunch_image\u001b[0m \u001b[0;34m=\u001b[0m \u001b[0mrandom\u001b[0m\u001b[0;34m.\u001b[0m\u001b[0mchoice\u001b[0m\u001b[0;34m(\u001b[0m\u001b[0;34m[\u001b[0m\u001b[0mi\u001b[0m\u001b[0;34m[\u001b[0m\u001b[0;36m2\u001b[0m\u001b[0;34m]\u001b[0m \u001b[0;32mfor\u001b[0m \u001b[0mi\u001b[0m \u001b[0;32min\u001b[0m \u001b[0mlunch_recipe_info\u001b[0m\u001b[0;34m]\u001b[0m\u001b[0;34m)\u001b[0m\u001b[0;34m\u001b[0m\u001b[0m\n\u001b[0m\u001b[1;32m      5\u001b[0m \u001b[0mdinner_image\u001b[0m \u001b[0;34m=\u001b[0m \u001b[0mrandom\u001b[0m\u001b[0;34m.\u001b[0m\u001b[0mchoice\u001b[0m\u001b[0;34m(\u001b[0m\u001b[0;34m[\u001b[0m\u001b[0mi\u001b[0m\u001b[0;34m[\u001b[0m\u001b[0;36m2\u001b[0m\u001b[0;34m]\u001b[0m \u001b[0;32mfor\u001b[0m \u001b[0mi\u001b[0m \u001b[0;32min\u001b[0m \u001b[0mdinner_recipe_info\u001b[0m\u001b[0;34m]\u001b[0m\u001b[0;34m)\u001b[0m\u001b[0;34m\u001b[0m\u001b[0m\n",
      "\u001b[0;31mNameError\u001b[0m: name 'lunch_recipe_info' is not defined"
     ]
    }
   ],
   "source": []
  },
  {
   "cell_type": "code",
   "execution_count": 134,
   "metadata": {
    "ExecuteTime": {
     "end_time": "2018-09-13T22:41:33.181216Z",
     "start_time": "2018-09-13T22:41:33.154490Z"
    }
   },
   "outputs": [],
   "source": [
    "def prophet_forecast_weight(features, df, periods, date, cap=None, floor=170):\n",
    "    future = prophet_final.make_future_dataframe(periods=periods)\n",
    "    future['floor'] = 170\n",
    "    \n",
    "    steps_regressors_df = df[['Date','Steps','Minutes_Sedentary', 'Minutes_Lightly_Active',\n",
    "       'Minutes_Fairly_Active', 'Minutes_Very_Active', 'Calories_Breakfast',\n",
    "       'Saturated_Fat_Breakfast', 'Cholesterol_Breakfast',\n",
    "       'Polyunsaturated_Fat_Breakfast', 'Monounsaturated_Fat_Breakfast',\n",
    "       'Trans_Fat_Breakfast', 'Carbohydrates_(g)_Breakfast', 'Sugar_Breakfast',\n",
    "       'Sodium_(mg)_Breakfast',\n",
    "       'Protein_(g)_Breakfast', 'Calories_Lunch', 'Saturated_Fat_Lunch',\n",
    "       'Polyunsaturated_Fat_Lunch', 'Monounsaturated_Fat_Lunch',\n",
    "       'Trans_Fat_Lunch', 'Cholesterol_Lunch', 'Sodium_(mg)_Lunch',\n",
    "       'Carbohydrates_(g)_Lunch', 'Sugar_Lunch', 'Protein_(g)_Lunch',\n",
    "       'Calories_Dinner', 'Saturated_Fat_Dinner', 'Polyunsaturated_Fat_Dinner',\n",
    "       'Monounsaturated_Fat_Dinner', 'Trans_Fat_Dinner', 'Cholesterol_Dinner',\n",
    "       'Sodium_(mg)_Dinner', 'Carbohydrates_(g)_Dinner',\n",
    "       'Sugar_Dinner', 'Protein_(g)_Dinner']]\n",
    "    \n",
    "    columns = ['Steps','Minutes_Sedentary', 'Minutes_Lightly_Active',\n",
    "       'Minutes_Fairly_Active', 'Minutes_Very_Active', 'Calories_Breakfast',\n",
    "       'Saturated_Fat_Breakfast', 'Cholesterol_Breakfast',\n",
    "       'Polyunsaturated_Fat_Breakfast', 'Monounsaturated_Fat_Breakfast',\n",
    "       'Trans_Fat_Breakfast', 'Carbohydrates_(g)_Breakfast', 'Sugar_Breakfast',\n",
    "       'Sodium_(mg)_Breakfast',\n",
    "       'Protein_(g)_Breakfast', 'Calories_Lunch', 'Saturated_Fat_Lunch',\n",
    "       'Polyunsaturated_Fat_Lunch', 'Monounsaturated_Fat_Lunch',\n",
    "       'Trans_Fat_Lunch', 'Cholesterol_Lunch', 'Sodium_(mg)_Lunch',\n",
    "       'Carbohydrates_(g)_Lunch', 'Sugar_Lunch', 'Protein_(g)_Lunch',\n",
    "       'Calories_Dinner', 'Saturated_Fat_Dinner', 'Polyunsaturated_Fat_Dinner',\n",
    "       'Monounsaturated_Fat_Dinner', 'Trans_Fat_Dinner', 'Cholesterol_Dinner',\n",
    "       'Sodium_(mg)_Dinner', 'Carbohydrates_(g)_Dinner',\n",
    "       'Sugar_Dinner', 'Protein_(g)_Dinner']\n",
    "\n",
    "    future = future.merge(steps_regressors_df, left_on='ds', right_on='Date', how='left')\n",
    "    \n",
    "    for i in columns:\n",
    "        future[i].iloc[-periods:] = features[i]\n",
    "        \n",
    "    forecast = prophet_final.predict(future)\n",
    "    \n",
    "    predicted_weight = np.round(forecast[forecast['ds'] == date]['yhat'].values[0],2)\n",
    "    predicted_weight_upper = np.round(forecast[forecast['ds'] == date]['yhat_upper'].values[0],2)\n",
    "    predicted_weight_lower = np.round(forecast[forecast['ds'] == date]['yhat_lower'].values[0],2)\n",
    "    \n",
    "    result = {\n",
    "        \n",
    "        'predicted_weight':predicted_weight,\n",
    "        'predicted_weight_upper': predicted_weight_upper,\n",
    "        'predicted_weight_lower': predicted_weight_lower\n",
    "        \n",
    "    }\n",
    "        \n",
    "    return predicted_weight, predicted_weight_upper, predicted_weight_lower"
   ]
  },
  {
   "cell_type": "code",
   "execution_count": 136,
   "metadata": {
    "ExecuteTime": {
     "end_time": "2018-09-13T22:41:50.883445Z",
     "start_time": "2018-09-13T22:41:50.820250Z"
    }
   },
   "outputs": [],
   "source": [
    "def flask_output(features, df, yummly_df, periods=90, date=converted_data['Date']):\n",
    "    \n",
    "    predicted_weight, predicted_weight_upper, predicted_weight_lower = prophet_forecast_weight(features, df, periods=90, date=converted_data['Date'])\n",
    "    \n",
    "    breakfast_recipes, lunch_recipes, dinner_recipes = food_recommendations(yummly_df, converted_data)\n",
    "    \n",
    "    breakfast_recipe_names = [i[0] for i in breakfast_recipes]\n",
    "    lunch_recipe_names = [i[0] for i in lunch_recipes]\n",
    "    dinner_recipe_names = [i[0] for i in dinner_recipes]\n",
    "    \n",
    "    breakfast_recipe_urls = [i[1] for i in breakfast_recipes]\n",
    "    lunch_recipe_urls = [i[1] for i in lunch_recipes]\n",
    "    dinner_recipe_urls = [i[1] for i in dinner_recipes]\n",
    "    \n",
    "    first_breakfast_recipe_name, first_breakfast_recipe_url = breakfast_recipe_names[0], breakfast_recipe_urls[0]\n",
    "    second_breakfast_recipe_name, second_breakfast_recipe_url = breakfast_recipe_names[1], breakfast_recipe_urls[1]\n",
    "    third_breakfast_recipe_name, third_breakfast_recipe_url = breakfast_recipe_names[2], breakfast_recipe_urls[2]\n",
    "    fourth_breakfast_recipe_name, fourth_breakfast_recipe_url = breakfast_recipe_names[3], breakfast_recipe_urls[3]\n",
    "    fifth_breakfast_recipe_name, fifth_breakfast_recipe_url = breakfast_recipe_names[4], breakfast_recipe_urls[4]\n",
    "    \n",
    "    first_lunch_recipe_name, first_lunch_recipe_url = lunch_recipe_names[0], lunch_recipe_urls[0]\n",
    "    second_lunch_recipe_name, second_lunch_recipe_url = lunch_recipe_names[1], lunch_recipe_urls[1]\n",
    "    third_lunch_recipe_name, third_lunch_recipe_url = lunch_recipe_names[2], lunch_recipe_urls[2]\n",
    "    fourth_lunch_recipe_name, fourth_lunch_recipe_url = lunch_recipe_names[3], lunch_recipe_urls[3]\n",
    "    fifth_lunch_recipe_name, fifth_lunch_recipe_url = lunch_recipe_names[4], lunch_recipe_urls[4]\n",
    "    \n",
    "    first_dinner_recipe_name, first_dinner_recipe_url = dinner_recipe_names[0], dinner_recipe_urls[0]\n",
    "    second_dinner_recipe_name, second_dinner_recipe_url = dinner_recipe_names[1], dinner_recipe_urls[1]\n",
    "    third_dinner_recipe_name, third_dinner_recipe_url = dinner_recipe_names[2], dinner_recipe_urls[2]\n",
    "    fourth_dinner_recipe_name, fourth_dinner_recipe_url = dinner_recipe_names[3], dinner_recipe_urls[3]\n",
    "    fifth_dinner_recipe_name, fifth_dinner_recipe_url = dinner_recipe_names[4], dinner_recipe_urls[4]\n",
    "    \n",
    "    \n",
    "    breakfast_image = random.choice([i[2] for i in breakfast_recipes])\n",
    "    lunch_image = random.choice([i[2] for i in lunch_recipes])\n",
    "    dinner_image =  random.choice([i[2] for i in dinner_recipes])\n",
    "    \n",
    "    \n",
    "    \n",
    "    result = {\n",
    "        \n",
    "        'predicted_weight': predicted_weight,\n",
    "        'predicted_weight_upper': predicted_weight_upper,\n",
    "        'predicted_weight_lower': predicted_weight_lower,\n",
    "        'breakfast_image': breakfast_image,\n",
    "        'lunch_image': lunch_image,\n",
    "        'dinner_image': dinner_image,\n",
    "        'first_breakfast_recipe_name': first_breakfast_recipe_name,\n",
    "        'second_breakfast_recipe_name': second_breakfast_recipe_name,\n",
    "        'third_breakfast_recipe_name': third_breakfast_recipe_name,\n",
    "        'fourth_breakfast_recipe_name': fourth_breakfast_recipe_name,\n",
    "        'fifth_breakfast_recipe_name': fifth_breakfast_recipe_name,\n",
    "        'first_breakfast_recipe_url': first_breakfast_recipe_url,\n",
    "        'second_breakfast_recipe_url': second_breakfast_recipe_url,\n",
    "        'third_breakfast_recipe_url': third_breakfast_recipe_url,\n",
    "        'fourth_breakfast_recipe_url': fourth_breakfast_recipe_url,\n",
    "        'fifth_breakfast_recipe_url': fifth_breakfast_recipe_url,\n",
    "        'first_lunch_recipe_name': first_lunch_recipe_name,\n",
    "        'second_lunch_recipe_name': second_lunch_recipe_name,\n",
    "        'third_lunch_recipe_name': third_lunch_recipe_name,\n",
    "        'fourth_lunch_recipe_name': fourth_lunch_recipe_name,\n",
    "        'fifth_lunch_recipe_name': fifth_lunch_recipe_name,\n",
    "        'first_lunch_recipe_url': first_lunch_recipe_url,\n",
    "        'second_lunch_recipe_url': second_lunch_recipe_url,\n",
    "        'third_lunch_recipe_url': third_lunch_recipe_url,\n",
    "        'fourth_lunch_recipe_url': fourth_lunch_recipe_url,\n",
    "        'fifth_lunch_recipe_url': fifth_lunch_recipe_url,\n",
    "        'first_dinner_recipe_name': first_dinner_recipe_name,\n",
    "        'second_dinner_recipe_name': second_dinner_recipe_name,\n",
    "        'third_dinner_recipe_name':third_dinner_recipe_name,\n",
    "        'fourth_dinner_recipe_name': fourth_dinner_recipe_name,\n",
    "        'fifth_dinner_recipe_name': fifth_dinner_recipe_name,\n",
    "        'first_dinner_recipe_url': first_dinner_recipe_url,\n",
    "        'second_dinner_recipe_url': second_dinner_recipe_url,\n",
    "        'third_dinner_recipe_url': third_dinner_recipe_url,\n",
    "        'fourth_dinner_recipe_url': fourth_dinner_recipe_url,\n",
    "        'fifth_dinner_recipe_url': fifth_dinner_recipe_url\n",
    "        \n",
    "    }\n",
    "    \n",
    "    return result"
   ]
  },
  {
   "cell_type": "code",
   "execution_count": 137,
   "metadata": {
    "ExecuteTime": {
     "end_time": "2018-09-13T22:42:16.611486Z",
     "start_time": "2018-09-13T22:42:06.307705Z"
    }
   },
   "outputs": [
    {
     "name": "stderr",
     "output_type": "stream",
     "text": [
      "/Users/brendenrossin/anaconda3/lib/python3.6/site-packages/pandas/core/indexing.py:189: SettingWithCopyWarning: \n",
      "A value is trying to be set on a copy of a slice from a DataFrame\n",
      "\n",
      "See the caveats in the documentation: http://pandas.pydata.org/pandas-docs/stable/indexing.html#indexing-view-versus-copy\n",
      "  self._setitem_with_indexer(indexer, value)\n"
     ]
    },
    {
     "data": {
      "text/plain": [
       "{'breakfast_image': 'https://lh3.googleusercontent.com/qMZbdgaigM3mzo6lqUn_iYTG_T0QZc2GKGANoT7_xtj2QWY-EZ_O2a21KAVy4y5_r_H-9LfqnRmyk-Pb2qnbkw=s360',\n",
       " 'dinner_image': 'https://lh3.googleusercontent.com/8KAekx8duqjArP4OV4JP8zr4B43NAqBgECRfhU4Ijiq9Y12_nj_uzCKOEsO6se6Pxs1jwHDA0Cu0L8Z6SdhN0A=s360',\n",
       " 'fifth_breakfast_recipe_name': 'Greek Egg White Frittata',\n",
       " 'fifth_breakfast_recipe_url': 'http://afitphilosophy.com/2016/07/greek-egg-white-frittata.html',\n",
       " 'fifth_dinner_recipe_name': 'Southern Fried Catfish',\n",
       " 'fifth_dinner_recipe_url': 'https://www.lemonsforlulu.com/southern-fried-catfish-recipe/',\n",
       " 'fifth_lunch_recipe_name': 'Southern California Style Burgers',\n",
       " 'fifth_lunch_recipe_url': 'https://www.theredheadbaker.com/southern-california-style-burgers/',\n",
       " 'first_breakfast_recipe_name': 'Japanese Omelet- Tamagoyaki',\n",
       " 'first_breakfast_recipe_url': 'http://comfortfoodinfusion.com/japanese-omelet-tamagoyaki/',\n",
       " 'first_dinner_recipe_name': 'Greek Roast Lamb with Potatoes',\n",
       " 'first_dinner_recipe_url': 'https://cookinginsens.wordpress.com/2011/01/11/arni-me-patates-sto-fourno-greek-roast-lamb-with-potatoes/',\n",
       " 'first_lunch_recipe_name': 'Miso Soup With Prawns and Udon Noodles',\n",
       " 'first_lunch_recipe_url': 'http://linsfood.com/miso-prawns-udon/',\n",
       " 'fourth_breakfast_recipe_name': 'Paleo Okonomiyaki (Japanese Pancake)',\n",
       " 'fourth_breakfast_recipe_url': 'http://grokgrub.com/2014/12/03/paleo-okonomiyaki-japanese-pancake/',\n",
       " 'fourth_dinner_recipe_name': 'Greek Chicken Kebabs',\n",
       " 'fourth_dinner_recipe_url': 'http://www.recipegirl.com/2016/05/02/greek-chicken-kebabs/',\n",
       " 'fourth_lunch_recipe_name': 'Greek Turkey Burgers with Tzatziki Sauce',\n",
       " 'fourth_lunch_recipe_url': 'https://www.bettycrocker.com/recipes/greek-turkey-burgers-with-tzatziki-sauce/9b470540-003b-4a20-9099-483d102439da',\n",
       " 'lunch_image': 'https://lh3.googleusercontent.com/8KAekx8duqjArP4OV4JP8zr4B43NAqBgECRfhU4Ijiq9Y12_nj_uzCKOEsO6se6Pxs1jwHDA0Cu0L8Z6SdhN0A=s360',\n",
       " 'predicted_weight': 171.21,\n",
       " 'predicted_weight_lower': 168.48,\n",
       " 'predicted_weight_upper': 173.92,\n",
       " 'second_breakfast_recipe_name': 'Japanese Tamago Egg',\n",
       " 'second_breakfast_recipe_url': 'http://allrecipes.com/recipe/221923/japanese-tamago-egg/',\n",
       " 'second_dinner_recipe_name': 'Spicy Buttermilk Fried Chicken',\n",
       " 'second_dinner_recipe_url': 'http://blog.williams-sonoma.com/spicy-buttermilk-fried-chicken/',\n",
       " 'second_lunch_recipe_name': 'Greek Chicken Kebabs',\n",
       " 'second_lunch_recipe_url': 'http://www.recipegirl.com/2016/05/02/greek-chicken-kebabs/',\n",
       " 'third_breakfast_recipe_name': 'Paleo Okonomiyaki (Japanese Pancake)',\n",
       " 'third_breakfast_recipe_url': 'http://grokgrub.com/2014/12/03/paleo-okonomiyaki-japanese-pancake/',\n",
       " 'third_dinner_recipe_name': \"Bev's Famous Meatloaf\",\n",
       " 'third_dinner_recipe_url': 'http://www.myrecipes.com/recipe/bevs-famous-meatloaf',\n",
       " 'third_lunch_recipe_name': 'Greek Marinated Steak Gyros',\n",
       " 'third_lunch_recipe_url': 'http://www.auntbeesrecipes.com/2014/01/greek-marinated-steak-gyros-with-greek.html'}"
      ]
     },
     "execution_count": 137,
     "metadata": {},
     "output_type": "execute_result"
    }
   ],
   "source": [
    "flask_output(features, df, yummly_df, periods=90, date=converted_data['Date'])"
   ]
  },
  {
   "cell_type": "code",
   "execution_count": null,
   "metadata": {},
   "outputs": [],
   "source": []
  }
 ],
 "metadata": {
  "kernelspec": {
   "display_name": "Python 3",
   "language": "python",
   "name": "python3"
  },
  "language_info": {
   "codemirror_mode": {
    "name": "ipython",
    "version": 3
   },
   "file_extension": ".py",
   "mimetype": "text/x-python",
   "name": "python",
   "nbconvert_exporter": "python",
   "pygments_lexer": "ipython3",
   "version": "3.6.6"
  },
  "varInspector": {
   "cols": {
    "lenName": 16,
    "lenType": 16,
    "lenVar": 40
   },
   "kernels_config": {
    "python": {
     "delete_cmd_postfix": "",
     "delete_cmd_prefix": "del ",
     "library": "var_list.py",
     "varRefreshCmd": "print(var_dic_list())"
    },
    "r": {
     "delete_cmd_postfix": ") ",
     "delete_cmd_prefix": "rm(",
     "library": "var_list.r",
     "varRefreshCmd": "cat(var_dic_list()) "
    }
   },
   "types_to_exclude": [
    "module",
    "function",
    "builtin_function_or_method",
    "instance",
    "_Feature"
   ],
   "window_display": false
  }
 },
 "nbformat": 4,
 "nbformat_minor": 2
}
