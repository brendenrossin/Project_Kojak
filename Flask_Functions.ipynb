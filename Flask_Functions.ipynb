{
 "cells": [
  {
   "cell_type": "code",
   "execution_count": 1,
   "metadata": {
    "ExecuteTime": {
     "end_time": "2018-09-13T00:31:13.791283Z",
     "start_time": "2018-09-13T00:31:11.969162Z"
    }
   },
   "outputs": [],
   "source": [
    "import numpy as np\n",
    "import pickle\n",
    "import pandas as pd\n",
    "import datetime\n",
    "from fbprophet import Prophet\n",
    "from fbprophet.plot import add_changepoints_to_plot\n",
    "from fbprophet.diagnostics import performance_metrics\n",
    "\n",
    "prophet_final = pickle.load(open('Models/Prophet_Final.pkl', 'rb'))\n",
    "df = pd.read_pickle(\"Data/Prophet_Forecast_DF.pkl\")"
   ]
  },
  {
   "cell_type": "code",
   "execution_count": 2,
   "metadata": {
    "ExecuteTime": {
     "end_time": "2018-09-13T00:31:13.973750Z",
     "start_time": "2018-09-13T00:31:13.853846Z"
    }
   },
   "outputs": [],
   "source": [
    "def nutritional_breakdown(df, converted_data):\n",
    "\n",
    "    total_calories = converted_data['Daily_Calories']\n",
    "    percent_fat = converted_data['Daily_Fat']\n",
    "    percent_protein = converted_data['Daily_Protein']\n",
    "    percent_carb = converted_data['Daily_Carbs']\n",
    "    percent_breakfast = converted_data['Percent_Breakfast']\n",
    "    percent_lunch = converted_data['Percent_Lunch']\n",
    "    percent_dinner = converted_data['Percent_Dinner']\n",
    "\n",
    "    nutrient_breakdown = {\n",
    "        'Calories_Breakfast': np.mean(df['Calories_Breakfast']),\n",
    "        'Saturated_Fat_Breakfast': np.mean(df['Saturated_Fat_Breakfast']),\n",
    "        'Cholesterol_Breakfast': np.mean(df['Cholesterol_Breakfast']),\n",
    "        'Polyunsaturated_Fat_Breakfast': np.mean(df['Polyunsaturated_Fat_Breakfast']),\n",
    "        'Monounsaturated_Fat_Breakfast': np.mean(df['Monounsaturated_Fat_Breakfast']),\n",
    "        'Trans_Fat_Breakfast': np.mean(df['Trans_Fat_Breakfast']),\n",
    "        'Carbohydrates_(g)_Breakfast': np.mean(df['Carbohydrates_(g)_Breakfast']),\n",
    "        'Sugar_Breakfast': np.mean(df['Sugar_Breakfast']),\n",
    "        'Sodium_(mg)_Breakfast': np.mean(df['Sodium_(mg)_Breakfast']),\n",
    "        'Protein_(g)_Breakfast': np.mean(df['Protein_(g)_Breakfast']),\n",
    "        'Calories_Lunch': np.mean(df['Calories_Lunch']),\n",
    "        'Saturated_Fat_Lunch': np.mean(df['Saturated_Fat_Lunch']),\n",
    "        'Polyunsaturated_Fat_Lunch': np.mean(df['Polyunsaturated_Fat_Lunch']),\n",
    "        'Monounsaturated_Fat_Lunch': np.mean(df['Monounsaturated_Fat_Lunch']),\n",
    "        'Trans_Fat_Lunch': np.mean(df['Trans_Fat_Lunch']),\n",
    "        'Cholesterol_Lunch': np.mean(df['Cholesterol_Lunch']),\n",
    "        'Sodium_(mg)_Lunch': np.mean(df['Sodium_(mg)_Lunch']),\n",
    "        'Carbohydrates_(g)_Lunch': np.mean(df['Carbohydrates_(g)_Lunch']),\n",
    "        'Sugar_Lunch': np.mean(df['Sugar_Lunch']),\n",
    "        'Protein_(g)_Lunch': np.mean(df['Protein_(g)_Lunch']),\n",
    "        'Calories_Dinner': np.mean(df['Calories_Dinner']),\n",
    "        'Saturated_Fat_Dinner': np.mean(df['Saturated_Fat_Dinner']),\n",
    "        'Polyunsaturated_Fat_Dinner': np.mean(df['Polyunsaturated_Fat_Dinner']),\n",
    "        'Monounsaturated_Fat_Dinner': np.mean(df['Monounsaturated_Fat_Dinner']),\n",
    "        'Trans_Fat_Dinner': np.mean(df['Trans_Fat_Dinner']),\n",
    "        'Cholesterol_Dinner': np.mean(df['Cholesterol_Dinner']),\n",
    "        'Sodium_(mg)_Dinner': np.mean(df['Sodium_(mg)_Dinner']),\n",
    "        'Carbohydrates_(g)_Dinner': np.mean(df['Carbohydrates_(g)_Dinner']),\n",
    "        'Sugar_Dinner': np.mean(df['Sugar_Dinner']),\n",
    "        'Protein_(g)_Dinner': np.mean(df['Protein_(g)_Dinner'])\n",
    "    }\n",
    "\n",
    "    cals_per_g_fat = 9\n",
    "    cals_per_g_protein = 4\n",
    "    cals_per_g_carb = 4\n",
    "    \n",
    "    percent_breakfast = percent_breakfast / 100\n",
    "    percent_lunch = percent_lunch / 100\n",
    "    percent_dinner = percent_dinner / 100\n",
    "    \n",
    "    percent_fat = percent_fat / 100\n",
    "    percent_protein = percent_protein / 100\n",
    "    percent_carb = percent_carb / 100\n",
    "\n",
    "    breakfast_multiplier = percent_breakfast / np.mean(df['Calories_Breakfast'] / df['Calories'])\n",
    "    lunch_multiplier = percent_lunch / np.mean(df['Calories_Lunch'] / df['Calories'])\n",
    "    dinner_multiplier = percent_dinner / np.mean(df['Calories_Dinner'] / df['Calories'])\n",
    "\n",
    "    g_fat = total_calories * percent_fat / cals_per_g_fat\n",
    "    g_protein = total_calories * percent_protein / cals_per_g_protein\n",
    "    g_carbs = total_calories * percent_carb / cals_per_g_carb\n",
    "\n",
    "    fat_multiplier = g_fat / np.mean(df['Fat (g)'])\n",
    "    protein_multiplier = g_protein / np.mean(df['Protein (g)'])\n",
    "    carb_multiplier = g_carbs / np.mean(df['Carbohydrates (g)'])\n",
    "\n",
    "    fat_breakdown = {}\n",
    "\n",
    "    fat_columns = ['Saturated_Fat_Breakfast', 'Cholesterol_Breakfast',\n",
    "                   'Polyunsaturated_Fat_Breakfast', 'Monounsaturated_Fat_Breakfast',\n",
    "                   'Trans_Fat_Breakfast', 'Sodium_(mg)_Breakfast', 'Saturated_Fat_Lunch',\n",
    "                   'Polyunsaturated_Fat_Lunch', 'Monounsaturated_Fat_Lunch', 'Sodium_(mg)_Lunch',\n",
    "                   'Trans_Fat_Lunch', 'Cholesterol_Lunch', 'Saturated_Fat_Dinner', 'Polyunsaturated_Fat_Dinner',\n",
    "                   'Monounsaturated_Fat_Dinner', 'Trans_Fat_Dinner', 'Cholesterol_Dinner', 'Sodium_(mg)_Dinner']\n",
    "\n",
    "    for i in range(len(fat_columns)):\n",
    "        if i <= 5:\n",
    "            fat_breakdown[fat_columns[i]] = nutrient_breakdown[fat_columns[i]] * \\\n",
    "                fat_multiplier * percent_breakfast\n",
    "        elif i <= 11:\n",
    "            fat_breakdown[fat_columns[i]] = nutrient_breakdown[fat_columns[i]] * \\\n",
    "                fat_multiplier * percent_lunch\n",
    "        else:\n",
    "            fat_breakdown[fat_columns[i]] = nutrient_breakdown[fat_columns[i]] * \\\n",
    "                fat_multiplier * percent_dinner\n",
    "\n",
    "    protein_breakdown = {}\n",
    "\n",
    "    protein_columns = ['Protein_(g)_Breakfast', 'Protein_(g)_Lunch', 'Protein_(g)_Dinner']\n",
    "\n",
    "    protein_breakdown['Protein_(g)_Breakfast'] = nutrient_breakdown['Protein_(g)_Breakfast'] * \\\n",
    "        protein_multiplier * percent_breakfast\n",
    "    protein_breakdown['Protein_(g)_Lunch'] = nutrient_breakdown['Protein_(g)_Lunch'] * \\\n",
    "        protein_multiplier * percent_lunch\n",
    "    protein_breakdown['Protein_(g)_Dinner'] = nutrient_breakdown['Protein_(g)_Dinner'] * \\\n",
    "        protein_multiplier * percent_dinner\n",
    "\n",
    "    carb_breakdown = {}\n",
    "\n",
    "    carb_columns = ['Carbohydrates_(g)_Breakfast', 'Sugar_Breakfast', 'Carbohydrates_(g)_Lunch',\n",
    "                    'Sugar_Lunch', 'Carbohydrates_(g)_Dinner', 'Sugar_Dinner']\n",
    "\n",
    "    for i in range(len(carb_columns)):\n",
    "        if i <= 1:\n",
    "            carb_breakdown[carb_columns[i]] = nutrient_breakdown[carb_columns[i]] * \\\n",
    "                carb_multiplier * percent_breakfast\n",
    "        elif i <= 3:\n",
    "            carb_breakdown[carb_columns[i]] = nutrient_breakdown[carb_columns[i]] * \\\n",
    "                carb_multiplier * percent_lunch\n",
    "        else:\n",
    "            carb_breakdown[carb_columns[i]] = nutrient_breakdown[carb_columns[i]] * \\\n",
    "                carb_multiplier * percent_dinner\n",
    "\n",
    "    calories_breakdown = {}\n",
    "\n",
    "    calories_columns = ['Calories_Breakfast', 'Calories_Lunch', 'Calories_Dinner']\n",
    "\n",
    "    calories_breakdown['Calories_Breakfast'] = total_calories * percent_breakfast\n",
    "    calories_breakdown['Calories_Lunch'] = total_calories * percent_lunch\n",
    "    calories_breakdown['Calories_Dinner'] = total_calories * percent_dinner\n",
    "\n",
    "    return fat_breakdown, protein_breakdown, carb_breakdown, calories_breakdown"
   ]
  },
  {
   "cell_type": "code",
   "execution_count": 3,
   "metadata": {
    "ExecuteTime": {
     "end_time": "2018-09-13T00:31:15.016019Z",
     "start_time": "2018-09-13T00:31:14.989866Z"
    }
   },
   "outputs": [],
   "source": [
    "def get_features(converted_data, fat_breakdown, protein_breakdown, carb_breakdown, calorie_breakdown):\n",
    "    minutes_sedentary = (1440 - converted_data['Minutes_Lightly_Active'] -\n",
    "                         converted_data['Minutes_Fairly_Active'] - converted_data['Minutes_Very_Active'])\n",
    "\n",
    "    features = {\n",
    "        'Steps': converted_data['Steps'],\n",
    "        'Minutes_Sedentary': minutes_sedentary,\n",
    "        'Minutes_Lightly_Active': converted_data['Minutes_Lightly_Active'],\n",
    "        'Minutes_Fairly_Active': converted_data['Minutes_Fairly_Active'],\n",
    "        'Minutes_Very_Active': converted_data['Minutes_Very_Active'],\n",
    "        'Calories_Breakfast': calorie_breakdown['Calories_Breakfast'],\n",
    "        'Saturated_Fat_Breakfast': fat_breakdown['Saturated_Fat_Breakfast'],\n",
    "        'Cholesterol_Breakfast': fat_breakdown['Cholesterol_Breakfast'],\n",
    "        'Polyunsaturated_Fat_Breakfast': fat_breakdown['Polyunsaturated_Fat_Breakfast'],\n",
    "        'Monounsaturated_Fat_Breakfast': fat_breakdown['Monounsaturated_Fat_Breakfast'],\n",
    "        'Trans_Fat_Breakfast': fat_breakdown['Trans_Fat_Breakfast'],\n",
    "        'Carbohydrates_(g)_Breakfast': carb_breakdown['Carbohydrates_(g)_Breakfast'],\n",
    "        'Sugar_Breakfast': carb_breakdown['Sugar_Breakfast'],\n",
    "        'Sodium_(mg)_Breakfast': fat_breakdown['Sodium_(mg)_Breakfast'],\n",
    "        'Protein_(g)_Breakfast': protein_breakdown['Protein_(g)_Breakfast'],\n",
    "        'Calories_Lunch': calorie_breakdown['Calories_Lunch'],\n",
    "        'Saturated_Fat_Lunch': fat_breakdown['Saturated_Fat_Lunch'],\n",
    "        'Polyunsaturated_Fat_Lunch': fat_breakdown['Polyunsaturated_Fat_Lunch'],\n",
    "        'Monounsaturated_Fat_Lunch': fat_breakdown['Monounsaturated_Fat_Lunch'],\n",
    "        'Trans_Fat_Lunch': fat_breakdown['Trans_Fat_Lunch'],\n",
    "        'Cholesterol_Lunch': fat_breakdown['Cholesterol_Lunch'],\n",
    "        'Sodium_(mg)_Lunch': fat_breakdown['Sodium_(mg)_Lunch'],\n",
    "        'Carbohydrates_(g)_Lunch': carb_breakdown['Carbohydrates_(g)_Lunch'],\n",
    "        'Sugar_Lunch': carb_breakdown['Sugar_Lunch'],\n",
    "        'Protein_(g)_Lunch': protein_breakdown['Protein_(g)_Lunch'],\n",
    "        'Calories_Dinner': calorie_breakdown['Calories_Dinner'],\n",
    "        'Saturated_Fat_Dinner': fat_breakdown['Saturated_Fat_Dinner'],\n",
    "        'Polyunsaturated_Fat_Dinner': fat_breakdown['Polyunsaturated_Fat_Dinner'],\n",
    "        'Monounsaturated_Fat_Dinner': fat_breakdown['Monounsaturated_Fat_Dinner'],\n",
    "        'Trans_Fat_Dinner': fat_breakdown['Trans_Fat_Dinner'],\n",
    "        'Cholesterol_Dinner': fat_breakdown['Cholesterol_Dinner'],\n",
    "        'Sodium_(mg)_Dinner': fat_breakdown['Sodium_(mg)_Dinner'],\n",
    "        'Carbohydrates_(g)_Dinner': carb_breakdown['Carbohydrates_(g)_Dinner'],\n",
    "        'Sugar_Dinner': carb_breakdown['Sugar_Dinner'],\n",
    "        'Protein_(g)_Dinner': protein_breakdown['Protein_(g)_Dinner']\n",
    "    }\n",
    "\n",
    "    return features"
   ]
  },
  {
   "cell_type": "code",
   "execution_count": 4,
   "metadata": {
    "ExecuteTime": {
     "end_time": "2018-09-13T00:31:15.487163Z",
     "start_time": "2018-09-13T00:31:15.453428Z"
    }
   },
   "outputs": [
    {
     "data": {
      "text/plain": [
       "{'Cholesterol_Breakfast': 47.369361732230225,\n",
       " 'Cholesterol_Dinner': 59.96923896477862,\n",
       " 'Cholesterol_Lunch': 52.72309612980455,\n",
       " 'Monounsaturated_Fat_Breakfast': 1.0669980021649492,\n",
       " 'Monounsaturated_Fat_Dinner': 1.7396704462301207,\n",
       " 'Monounsaturated_Fat_Lunch': 1.6779763911159176,\n",
       " 'Polyunsaturated_Fat_Breakfast': 0.44931076775543205,\n",
       " 'Polyunsaturated_Fat_Dinner': 0.8091658363152215,\n",
       " 'Polyunsaturated_Fat_Lunch': 1.3285957268035444,\n",
       " 'Saturated_Fat_Breakfast': 1.7163035040532133,\n",
       " 'Saturated_Fat_Dinner': 4.683843656475089,\n",
       " 'Saturated_Fat_Lunch': 3.845697006801862,\n",
       " 'Sodium_(mg)_Breakfast': 189.10818245528924,\n",
       " 'Sodium_(mg)_Dinner': 583.7117425390015,\n",
       " 'Sodium_(mg)_Lunch': 623.8489537824153,\n",
       " 'Trans_Fat_Breakfast': 0.057035880857512405,\n",
       " 'Trans_Fat_Dinner': 0.15129029103265051,\n",
       " 'Trans_Fat_Lunch': 0.036933843098355235}"
      ]
     },
     "execution_count": 4,
     "metadata": {},
     "output_type": "execute_result"
    }
   ],
   "source": [
    "converted_data = {\n",
    "  'Steps': 10000,\n",
    "  'Minutes_Lightly_Active': 100,\n",
    "  'Minutes_Fairly_Active': 60,\n",
    "  'Minutes_Very_Active': 20,\n",
    "  'Daily_Calories': 2000,\n",
    "  'Percent_Breakfast': 20,\n",
    "  'Percent_Lunch': 40,\n",
    "  'Percent_Dinner': 40,\n",
    "  'Daily_Fat': 35,\n",
    "  'Daily_Carbs': 25,\n",
    "  'Daily_Protein': 40,\n",
    "  'Date': '2018-10-01'\n",
    "}\n",
    "\n",
    "fat_breakdown, protein_breakdown, carb_breakdown, calorie_breakdown = nutritional_breakdown(\n",
    "        df, converted_data)\n",
    "\n",
    "fat_breakdown"
   ]
  },
  {
   "cell_type": "code",
   "execution_count": 5,
   "metadata": {
    "ExecuteTime": {
     "end_time": "2018-09-13T00:31:16.118437Z",
     "start_time": "2018-09-13T00:31:16.113389Z"
    }
   },
   "outputs": [
    {
     "data": {
      "text/plain": [
       "{'Calories_Breakfast': 400.0,\n",
       " 'Calories_Dinner': 800.0,\n",
       " 'Calories_Lunch': 800.0,\n",
       " 'Carbohydrates_(g)_Breakfast': 7.622350343519052,\n",
       " 'Carbohydrates_(g)_Dinner': 23.595488384569848,\n",
       " 'Carbohydrates_(g)_Lunch': 24.440668196871435,\n",
       " 'Cholesterol_Breakfast': 47.369361732230225,\n",
       " 'Cholesterol_Dinner': 59.96923896477862,\n",
       " 'Cholesterol_Lunch': 52.72309612980455,\n",
       " 'Minutes_Fairly_Active': 60,\n",
       " 'Minutes_Lightly_Active': 100,\n",
       " 'Minutes_Sedentary': 1260,\n",
       " 'Minutes_Very_Active': 20,\n",
       " 'Monounsaturated_Fat_Breakfast': 1.0669980021649492,\n",
       " 'Monounsaturated_Fat_Dinner': 1.7396704462301207,\n",
       " 'Monounsaturated_Fat_Lunch': 1.6779763911159176,\n",
       " 'Polyunsaturated_Fat_Breakfast': 0.44931076775543205,\n",
       " 'Polyunsaturated_Fat_Dinner': 0.8091658363152215,\n",
       " 'Polyunsaturated_Fat_Lunch': 1.3285957268035444,\n",
       " 'Protein_(g)_Breakfast': 11.091942365553132,\n",
       " 'Protein_(g)_Dinner': 42.45146186529735,\n",
       " 'Protein_(g)_Lunch': 39.57893389150156,\n",
       " 'Saturated_Fat_Breakfast': 1.7163035040532133,\n",
       " 'Saturated_Fat_Dinner': 4.683843656475089,\n",
       " 'Saturated_Fat_Lunch': 3.845697006801862,\n",
       " 'Sodium_(mg)_Breakfast': 189.10818245528924,\n",
       " 'Sodium_(mg)_Dinner': 583.7117425390015,\n",
       " 'Sodium_(mg)_Lunch': 623.8489537824153,\n",
       " 'Steps': 10000,\n",
       " 'Sugar_Breakfast': 1.8346396810204646,\n",
       " 'Sugar_Dinner': 3.544489151269749,\n",
       " 'Sugar_Lunch': 3.7791439977262296,\n",
       " 'Trans_Fat_Breakfast': 0.057035880857512405,\n",
       " 'Trans_Fat_Dinner': 0.15129029103265051,\n",
       " 'Trans_Fat_Lunch': 0.036933843098355235}"
      ]
     },
     "execution_count": 5,
     "metadata": {},
     "output_type": "execute_result"
    }
   ],
   "source": [
    "features = get_features(converted_data, fat_breakdown, protein_breakdown,\n",
    "                            carb_breakdown, calorie_breakdown)\n",
    "\n",
    "features"
   ]
  },
  {
   "cell_type": "code",
   "execution_count": 6,
   "metadata": {
    "ExecuteTime": {
     "end_time": "2018-09-13T00:31:16.771246Z",
     "start_time": "2018-09-13T00:31:16.746102Z"
    }
   },
   "outputs": [],
   "source": [
    "def prophet_forecast_weight(features, df, periods, date, cap=None, floor=170):\n",
    "    future = prophet_final.make_future_dataframe(periods=periods)\n",
    "    future['floor'] = 170\n",
    "    \n",
    "    steps_regressors_df = df[['Date','Steps','Minutes_Sedentary', 'Minutes_Lightly_Active',\n",
    "       'Minutes_Fairly_Active', 'Minutes_Very_Active', 'Calories_Breakfast',\n",
    "       'Saturated_Fat_Breakfast', 'Cholesterol_Breakfast',\n",
    "       'Polyunsaturated_Fat_Breakfast', 'Monounsaturated_Fat_Breakfast',\n",
    "       'Trans_Fat_Breakfast', 'Carbohydrates_(g)_Breakfast', 'Sugar_Breakfast',\n",
    "       'Sodium_(mg)_Breakfast',\n",
    "       'Protein_(g)_Breakfast', 'Calories_Lunch', 'Saturated_Fat_Lunch',\n",
    "       'Polyunsaturated_Fat_Lunch', 'Monounsaturated_Fat_Lunch',\n",
    "       'Trans_Fat_Lunch', 'Cholesterol_Lunch', 'Sodium_(mg)_Lunch',\n",
    "       'Carbohydrates_(g)_Lunch', 'Sugar_Lunch', 'Protein_(g)_Lunch',\n",
    "       'Calories_Dinner', 'Saturated_Fat_Dinner', 'Polyunsaturated_Fat_Dinner',\n",
    "       'Monounsaturated_Fat_Dinner', 'Trans_Fat_Dinner', 'Cholesterol_Dinner',\n",
    "       'Sodium_(mg)_Dinner', 'Carbohydrates_(g)_Dinner',\n",
    "       'Sugar_Dinner', 'Protein_(g)_Dinner']]\n",
    "    \n",
    "    columns = ['Steps','Minutes_Sedentary', 'Minutes_Lightly_Active',\n",
    "       'Minutes_Fairly_Active', 'Minutes_Very_Active', 'Calories_Breakfast',\n",
    "       'Saturated_Fat_Breakfast', 'Cholesterol_Breakfast',\n",
    "       'Polyunsaturated_Fat_Breakfast', 'Monounsaturated_Fat_Breakfast',\n",
    "       'Trans_Fat_Breakfast', 'Carbohydrates_(g)_Breakfast', 'Sugar_Breakfast',\n",
    "       'Sodium_(mg)_Breakfast',\n",
    "       'Protein_(g)_Breakfast', 'Calories_Lunch', 'Saturated_Fat_Lunch',\n",
    "       'Polyunsaturated_Fat_Lunch', 'Monounsaturated_Fat_Lunch',\n",
    "       'Trans_Fat_Lunch', 'Cholesterol_Lunch', 'Sodium_(mg)_Lunch',\n",
    "       'Carbohydrates_(g)_Lunch', 'Sugar_Lunch', 'Protein_(g)_Lunch',\n",
    "       'Calories_Dinner', 'Saturated_Fat_Dinner', 'Polyunsaturated_Fat_Dinner',\n",
    "       'Monounsaturated_Fat_Dinner', 'Trans_Fat_Dinner', 'Cholesterol_Dinner',\n",
    "       'Sodium_(mg)_Dinner', 'Carbohydrates_(g)_Dinner',\n",
    "       'Sugar_Dinner', 'Protein_(g)_Dinner']\n",
    "\n",
    "    future = future.merge(steps_regressors_df, left_on='ds', right_on='Date', how='left')\n",
    "    \n",
    "    for i in columns:\n",
    "        future[i].iloc[-periods:] = features[i]\n",
    "        \n",
    "    forecast = prophet_final.predict(future)\n",
    "    \n",
    "    predicted_weight = np.round(forecast[forecast['ds'] == date]['yhat'].values[0],2)\n",
    "    predicted_weight_upper = np.round(forecast[forecast['ds'] == date]['yhat_upper'].values[0],2)\n",
    "    predicted_weight_lower = np.round(forecast[forecast['ds'] == date]['yhat_lower'].values[0],2)\n",
    "    \n",
    "    result = {\n",
    "        \n",
    "        'predicted_weight':predicted_weight,\n",
    "        'predicted_weight_upper': predicted_weight_upper,\n",
    "        'predicted_weight_lower': predicted_weight_lower\n",
    "        \n",
    "    }\n",
    "        \n",
    "    return result"
   ]
  },
  {
   "cell_type": "code",
   "execution_count": 7,
   "metadata": {
    "ExecuteTime": {
     "end_time": "2018-09-13T00:31:27.094279Z",
     "start_time": "2018-09-13T00:31:17.488586Z"
    }
   },
   "outputs": [
    {
     "name": "stderr",
     "output_type": "stream",
     "text": [
      "/Users/brendenrossin/anaconda3/lib/python3.6/site-packages/pandas/core/indexing.py:189: SettingWithCopyWarning: \n",
      "A value is trying to be set on a copy of a slice from a DataFrame\n",
      "\n",
      "See the caveats in the documentation: http://pandas.pydata.org/pandas-docs/stable/indexing.html#indexing-view-versus-copy\n",
      "  self._setitem_with_indexer(indexer, value)\n"
     ]
    },
    {
     "data": {
      "text/plain": [
       "{'predicted_weight': 171.21,\n",
       " 'predicted_weight_lower': 168.44,\n",
       " 'predicted_weight_upper': 173.84}"
      ]
     },
     "execution_count": 7,
     "metadata": {},
     "output_type": "execute_result"
    }
   ],
   "source": [
    "prophet_forecast_weight(features, df, periods=90, date=converted_data['Date'])"
   ]
  },
  {
   "cell_type": "code",
   "execution_count": null,
   "metadata": {},
   "outputs": [],
   "source": []
  }
 ],
 "metadata": {
  "kernelspec": {
   "display_name": "Python 3",
   "language": "python",
   "name": "python3"
  },
  "language_info": {
   "codemirror_mode": {
    "name": "ipython",
    "version": 3
   },
   "file_extension": ".py",
   "mimetype": "text/x-python",
   "name": "python",
   "nbconvert_exporter": "python",
   "pygments_lexer": "ipython3",
   "version": "3.6.6"
  },
  "varInspector": {
   "cols": {
    "lenName": 16,
    "lenType": 16,
    "lenVar": 40
   },
   "kernels_config": {
    "python": {
     "delete_cmd_postfix": "",
     "delete_cmd_prefix": "del ",
     "library": "var_list.py",
     "varRefreshCmd": "print(var_dic_list())"
    },
    "r": {
     "delete_cmd_postfix": ") ",
     "delete_cmd_prefix": "rm(",
     "library": "var_list.r",
     "varRefreshCmd": "cat(var_dic_list()) "
    }
   },
   "types_to_exclude": [
    "module",
    "function",
    "builtin_function_or_method",
    "instance",
    "_Feature"
   ],
   "window_display": false
  }
 },
 "nbformat": 4,
 "nbformat_minor": 2
}
