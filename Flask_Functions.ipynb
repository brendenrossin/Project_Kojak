{
 "cells": [
  {
   "cell_type": "code",
   "execution_count": 1,
   "metadata": {
    "ExecuteTime": {
     "end_time": "2018-09-13T00:31:13.791283Z",
     "start_time": "2018-09-13T00:31:11.969162Z"
    }
   },
   "outputs": [],
   "source": [
    "import numpy as np\n",
    "import pickle\n",
    "import pandas as pd\n",
    "import datetime\n",
    "from fbprophet import Prophet\n",
    "from fbprophet.plot import add_changepoints_to_plot\n",
    "from fbprophet.diagnostics import performance_metrics\n",
    "\n",
    "prophet_final = pickle.load(open('Models/Prophet_Final.pkl', 'rb'))\n",
    "df = pd.read_pickle(\"Data/Prophet_Forecast_DF.pkl\")"
   ]
  },
  {
   "cell_type": "code",
   "execution_count": 2,
   "metadata": {
    "ExecuteTime": {
     "end_time": "2018-09-13T00:31:13.973750Z",
     "start_time": "2018-09-13T00:31:13.853846Z"
    }
   },
   "outputs": [],
   "source": [
    "def nutritional_breakdown(df, converted_data):\n",
    "\n",
    "    total_calories = converted_data['Daily_Calories']\n",
    "    percent_fat = converted_data['Daily_Fat']\n",
    "    percent_protein = converted_data['Daily_Protein']\n",
    "    percent_carb = converted_data['Daily_Carbs']\n",
    "    percent_breakfast = converted_data['Percent_Breakfast']\n",
    "    percent_lunch = converted_data['Percent_Lunch']\n",
    "    percent_dinner = converted_data['Percent_Dinner']\n",
    "\n",
    "    nutrient_breakdown = {\n",
    "        'Calories_Breakfast': np.mean(df['Calories_Breakfast']),\n",
    "        'Saturated_Fat_Breakfast': np.mean(df['Saturated_Fat_Breakfast']),\n",
    "        'Cholesterol_Breakfast': np.mean(df['Cholesterol_Breakfast']),\n",
    "        'Polyunsaturated_Fat_Breakfast': np.mean(df['Polyunsaturated_Fat_Breakfast']),\n",
    "        'Monounsaturated_Fat_Breakfast': np.mean(df['Monounsaturated_Fat_Breakfast']),\n",
    "        'Trans_Fat_Breakfast': np.mean(df['Trans_Fat_Breakfast']),\n",
    "        'Carbohydrates_(g)_Breakfast': np.mean(df['Carbohydrates_(g)_Breakfast']),\n",
    "        'Sugar_Breakfast': np.mean(df['Sugar_Breakfast']),\n",
    "        'Sodium_(mg)_Breakfast': np.mean(df['Sodium_(mg)_Breakfast']),\n",
    "        'Protein_(g)_Breakfast': np.mean(df['Protein_(g)_Breakfast']),\n",
    "        'Calories_Lunch': np.mean(df['Calories_Lunch']),\n",
    "        'Saturated_Fat_Lunch': np.mean(df['Saturated_Fat_Lunch']),\n",
    "        'Polyunsaturated_Fat_Lunch': np.mean(df['Polyunsaturated_Fat_Lunch']),\n",
    "        'Monounsaturated_Fat_Lunch': np.mean(df['Monounsaturated_Fat_Lunch']),\n",
    "        'Trans_Fat_Lunch': np.mean(df['Trans_Fat_Lunch']),\n",
    "        'Cholesterol_Lunch': np.mean(df['Cholesterol_Lunch']),\n",
    "        'Sodium_(mg)_Lunch': np.mean(df['Sodium_(mg)_Lunch']),\n",
    "        'Carbohydrates_(g)_Lunch': np.mean(df['Carbohydrates_(g)_Lunch']),\n",
    "        'Sugar_Lunch': np.mean(df['Sugar_Lunch']),\n",
    "        'Protein_(g)_Lunch': np.mean(df['Protein_(g)_Lunch']),\n",
    "        'Calories_Dinner': np.mean(df['Calories_Dinner']),\n",
    "        'Saturated_Fat_Dinner': np.mean(df['Saturated_Fat_Dinner']),\n",
    "        'Polyunsaturated_Fat_Dinner': np.mean(df['Polyunsaturated_Fat_Dinner']),\n",
    "        'Monounsaturated_Fat_Dinner': np.mean(df['Monounsaturated_Fat_Dinner']),\n",
    "        'Trans_Fat_Dinner': np.mean(df['Trans_Fat_Dinner']),\n",
    "        'Cholesterol_Dinner': np.mean(df['Cholesterol_Dinner']),\n",
    "        'Sodium_(mg)_Dinner': np.mean(df['Sodium_(mg)_Dinner']),\n",
    "        'Carbohydrates_(g)_Dinner': np.mean(df['Carbohydrates_(g)_Dinner']),\n",
    "        'Sugar_Dinner': np.mean(df['Sugar_Dinner']),\n",
    "        'Protein_(g)_Dinner': np.mean(df['Protein_(g)_Dinner'])\n",
    "    }\n",
    "\n",
    "    cals_per_g_fat = 9\n",
    "    cals_per_g_protein = 4\n",
    "    cals_per_g_carb = 4\n",
    "    \n",
    "    percent_breakfast = percent_breakfast / 100\n",
    "    percent_lunch = percent_lunch / 100\n",
    "    percent_dinner = percent_dinner / 100\n",
    "    \n",
    "    percent_fat = percent_fat / 100\n",
    "    percent_protein = percent_protein / 100\n",
    "    percent_carb = percent_carb / 100\n",
    "\n",
    "    breakfast_multiplier = percent_breakfast / np.mean(df['Calories_Breakfast'] / df['Calories'])\n",
    "    lunch_multiplier = percent_lunch / np.mean(df['Calories_Lunch'] / df['Calories'])\n",
    "    dinner_multiplier = percent_dinner / np.mean(df['Calories_Dinner'] / df['Calories'])\n",
    "\n",
    "    g_fat = total_calories * percent_fat / cals_per_g_fat\n",
    "    g_protein = total_calories * percent_protein / cals_per_g_protein\n",
    "    g_carbs = total_calories * percent_carb / cals_per_g_carb\n",
    "\n",
    "    fat_multiplier = g_fat / np.mean(df['Fat (g)'])\n",
    "    protein_multiplier = g_protein / np.mean(df['Protein (g)'])\n",
    "    carb_multiplier = g_carbs / np.mean(df['Carbohydrates (g)'])\n",
    "\n",
    "    fat_breakdown = {}\n",
    "\n",
    "    fat_columns = ['Saturated_Fat_Breakfast', 'Cholesterol_Breakfast',\n",
    "                   'Polyunsaturated_Fat_Breakfast', 'Monounsaturated_Fat_Breakfast',\n",
    "                   'Trans_Fat_Breakfast', 'Sodium_(mg)_Breakfast', 'Saturated_Fat_Lunch',\n",
    "                   'Polyunsaturated_Fat_Lunch', 'Monounsaturated_Fat_Lunch', 'Sodium_(mg)_Lunch',\n",
    "                   'Trans_Fat_Lunch', 'Cholesterol_Lunch', 'Saturated_Fat_Dinner', 'Polyunsaturated_Fat_Dinner',\n",
    "                   'Monounsaturated_Fat_Dinner', 'Trans_Fat_Dinner', 'Cholesterol_Dinner', 'Sodium_(mg)_Dinner']\n",
    "\n",
    "    for i in range(len(fat_columns)):\n",
    "        if i <= 5:\n",
    "            fat_breakdown[fat_columns[i]] = nutrient_breakdown[fat_columns[i]] * \\\n",
    "                fat_multiplier * percent_breakfast\n",
    "        elif i <= 11:\n",
    "            fat_breakdown[fat_columns[i]] = nutrient_breakdown[fat_columns[i]] * \\\n",
    "                fat_multiplier * percent_lunch\n",
    "        else:\n",
    "            fat_breakdown[fat_columns[i]] = nutrient_breakdown[fat_columns[i]] * \\\n",
    "                fat_multiplier * percent_dinner\n",
    "\n",
    "    protein_breakdown = {}\n",
    "\n",
    "    protein_columns = ['Protein_(g)_Breakfast', 'Protein_(g)_Lunch', 'Protein_(g)_Dinner']\n",
    "\n",
    "    protein_breakdown['Protein_(g)_Breakfast'] = nutrient_breakdown['Protein_(g)_Breakfast'] * \\\n",
    "        protein_multiplier * percent_breakfast\n",
    "    protein_breakdown['Protein_(g)_Lunch'] = nutrient_breakdown['Protein_(g)_Lunch'] * \\\n",
    "        protein_multiplier * percent_lunch\n",
    "    protein_breakdown['Protein_(g)_Dinner'] = nutrient_breakdown['Protein_(g)_Dinner'] * \\\n",
    "        protein_multiplier * percent_dinner\n",
    "\n",
    "    carb_breakdown = {}\n",
    "\n",
    "    carb_columns = ['Carbohydrates_(g)_Breakfast', 'Sugar_Breakfast', 'Carbohydrates_(g)_Lunch',\n",
    "                    'Sugar_Lunch', 'Carbohydrates_(g)_Dinner', 'Sugar_Dinner']\n",
    "\n",
    "    for i in range(len(carb_columns)):\n",
    "        if i <= 1:\n",
    "            carb_breakdown[carb_columns[i]] = nutrient_breakdown[carb_columns[i]] * \\\n",
    "                carb_multiplier * percent_breakfast\n",
    "        elif i <= 3:\n",
    "            carb_breakdown[carb_columns[i]] = nutrient_breakdown[carb_columns[i]] * \\\n",
    "                carb_multiplier * percent_lunch\n",
    "        else:\n",
    "            carb_breakdown[carb_columns[i]] = nutrient_breakdown[carb_columns[i]] * \\\n",
    "                carb_multiplier * percent_dinner\n",
    "\n",
    "    calories_breakdown = {}\n",
    "\n",
    "    calories_columns = ['Calories_Breakfast', 'Calories_Lunch', 'Calories_Dinner']\n",
    "\n",
    "    calories_breakdown['Calories_Breakfast'] = total_calories * percent_breakfast\n",
    "    calories_breakdown['Calories_Lunch'] = total_calories * percent_lunch\n",
    "    calories_breakdown['Calories_Dinner'] = total_calories * percent_dinner\n",
    "\n",
    "    return fat_breakdown, protein_breakdown, carb_breakdown, calories_breakdown"
   ]
  },
  {
   "cell_type": "code",
   "execution_count": 3,
   "metadata": {
    "ExecuteTime": {
     "end_time": "2018-09-13T00:31:15.016019Z",
     "start_time": "2018-09-13T00:31:14.989866Z"
    }
   },
   "outputs": [],
   "source": [
    "def get_features(converted_data, fat_breakdown, protein_breakdown, carb_breakdown, calorie_breakdown):\n",
    "    minutes_sedentary = (1440 - converted_data['Minutes_Lightly_Active'] -\n",
    "                         converted_data['Minutes_Fairly_Active'] - converted_data['Minutes_Very_Active'])\n",
    "\n",
    "    features = {\n",
    "        'Steps': converted_data['Steps'],\n",
    "        'Minutes_Sedentary': minutes_sedentary,\n",
    "        'Minutes_Lightly_Active': converted_data['Minutes_Lightly_Active'],\n",
    "        'Minutes_Fairly_Active': converted_data['Minutes_Fairly_Active'],\n",
    "        'Minutes_Very_Active': converted_data['Minutes_Very_Active'],\n",
    "        'Calories_Breakfast': calorie_breakdown['Calories_Breakfast'],\n",
    "        'Saturated_Fat_Breakfast': fat_breakdown['Saturated_Fat_Breakfast'],\n",
    "        'Cholesterol_Breakfast': fat_breakdown['Cholesterol_Breakfast'],\n",
    "        'Polyunsaturated_Fat_Breakfast': fat_breakdown['Polyunsaturated_Fat_Breakfast'],\n",
    "        'Monounsaturated_Fat_Breakfast': fat_breakdown['Monounsaturated_Fat_Breakfast'],\n",
    "        'Trans_Fat_Breakfast': fat_breakdown['Trans_Fat_Breakfast'],\n",
    "        'Carbohydrates_(g)_Breakfast': carb_breakdown['Carbohydrates_(g)_Breakfast'],\n",
    "        'Sugar_Breakfast': carb_breakdown['Sugar_Breakfast'],\n",
    "        'Sodium_(mg)_Breakfast': fat_breakdown['Sodium_(mg)_Breakfast'],\n",
    "        'Protein_(g)_Breakfast': protein_breakdown['Protein_(g)_Breakfast'],\n",
    "        'Calories_Lunch': calorie_breakdown['Calories_Lunch'],\n",
    "        'Saturated_Fat_Lunch': fat_breakdown['Saturated_Fat_Lunch'],\n",
    "        'Polyunsaturated_Fat_Lunch': fat_breakdown['Polyunsaturated_Fat_Lunch'],\n",
    "        'Monounsaturated_Fat_Lunch': fat_breakdown['Monounsaturated_Fat_Lunch'],\n",
    "        'Trans_Fat_Lunch': fat_breakdown['Trans_Fat_Lunch'],\n",
    "        'Cholesterol_Lunch': fat_breakdown['Cholesterol_Lunch'],\n",
    "        'Sodium_(mg)_Lunch': fat_breakdown['Sodium_(mg)_Lunch'],\n",
    "        'Carbohydrates_(g)_Lunch': carb_breakdown['Carbohydrates_(g)_Lunch'],\n",
    "        'Sugar_Lunch': carb_breakdown['Sugar_Lunch'],\n",
    "        'Protein_(g)_Lunch': protein_breakdown['Protein_(g)_Lunch'],\n",
    "        'Calories_Dinner': calorie_breakdown['Calories_Dinner'],\n",
    "        'Saturated_Fat_Dinner': fat_breakdown['Saturated_Fat_Dinner'],\n",
    "        'Polyunsaturated_Fat_Dinner': fat_breakdown['Polyunsaturated_Fat_Dinner'],\n",
    "        'Monounsaturated_Fat_Dinner': fat_breakdown['Monounsaturated_Fat_Dinner'],\n",
    "        'Trans_Fat_Dinner': fat_breakdown['Trans_Fat_Dinner'],\n",
    "        'Cholesterol_Dinner': fat_breakdown['Cholesterol_Dinner'],\n",
    "        'Sodium_(mg)_Dinner': fat_breakdown['Sodium_(mg)_Dinner'],\n",
    "        'Carbohydrates_(g)_Dinner': carb_breakdown['Carbohydrates_(g)_Dinner'],\n",
    "        'Sugar_Dinner': carb_breakdown['Sugar_Dinner'],\n",
    "        'Protein_(g)_Dinner': protein_breakdown['Protein_(g)_Dinner']\n",
    "    }\n",
    "\n",
    "    return features"
   ]
  },
  {
   "cell_type": "code",
   "execution_count": 109,
   "metadata": {
    "ExecuteTime": {
     "end_time": "2018-09-13T22:03:23.164488Z",
     "start_time": "2018-09-13T22:03:23.138956Z"
    }
   },
   "outputs": [
    {
     "data": {
      "text/plain": [
       "{'Cholesterol_Breakfast': 47.369361732230225,\n",
       " 'Cholesterol_Dinner': 59.96923896477862,\n",
       " 'Cholesterol_Lunch': 52.72309612980455,\n",
       " 'Monounsaturated_Fat_Breakfast': 1.0669980021649492,\n",
       " 'Monounsaturated_Fat_Dinner': 1.7396704462301207,\n",
       " 'Monounsaturated_Fat_Lunch': 1.6779763911159176,\n",
       " 'Polyunsaturated_Fat_Breakfast': 0.44931076775543205,\n",
       " 'Polyunsaturated_Fat_Dinner': 0.8091658363152215,\n",
       " 'Polyunsaturated_Fat_Lunch': 1.3285957268035444,\n",
       " 'Saturated_Fat_Breakfast': 1.7163035040532133,\n",
       " 'Saturated_Fat_Dinner': 4.683843656475089,\n",
       " 'Saturated_Fat_Lunch': 3.845697006801862,\n",
       " 'Sodium_(mg)_Breakfast': 189.10818245528924,\n",
       " 'Sodium_(mg)_Dinner': 583.7117425390015,\n",
       " 'Sodium_(mg)_Lunch': 623.8489537824153,\n",
       " 'Trans_Fat_Breakfast': 0.057035880857512405,\n",
       " 'Trans_Fat_Dinner': 0.15129029103265051,\n",
       " 'Trans_Fat_Lunch': 0.036933843098355235}"
      ]
     },
     "execution_count": 109,
     "metadata": {},
     "output_type": "execute_result"
    }
   ],
   "source": [
    "converted_data = {\n",
    "  'Steps': 10000,\n",
    "  'Minutes_Lightly_Active': 100,\n",
    "  'Minutes_Fairly_Active': 60,\n",
    "  'Minutes_Very_Active': 20,\n",
    "  'Daily_Calories': 2000,\n",
    "  'Percent_Breakfast': 20,\n",
    "  'Percent_Lunch': 40,\n",
    "  'Percent_Dinner': 40,\n",
    "  'Daily_Fat': 35,\n",
    "  'Daily_Carbs': 25,\n",
    "  'Daily_Protein': 40,\n",
    "  'Date': '2018-10-01',\n",
    "  'american': 1.0,\n",
    "  'italian': 0.0,\n",
    "  'chinese': 0.0,\n",
    "  'mexican': 0.0,\n",
    "  'japanese': 1.0,\n",
    "  'greek': 1.0,\n",
    "  'mediterranean': 0.0,\n",
    "  'barbecue': 0.0,\n",
    "  'german': 0.0\n",
    "}\n",
    "\n",
    "fat_breakdown, protein_breakdown, carb_breakdown, calorie_breakdown = nutritional_breakdown(\n",
    "        df, converted_data)\n",
    "\n",
    "fat_breakdown"
   ]
  },
  {
   "cell_type": "code",
   "execution_count": 110,
   "metadata": {
    "ExecuteTime": {
     "end_time": "2018-09-13T22:03:25.229417Z",
     "start_time": "2018-09-13T22:03:25.224379Z"
    }
   },
   "outputs": [
    {
     "data": {
      "text/plain": [
       "{'Calories_Breakfast': 400.0,\n",
       " 'Calories_Dinner': 800.0,\n",
       " 'Calories_Lunch': 800.0,\n",
       " 'Carbohydrates_(g)_Breakfast': 7.622350343519052,\n",
       " 'Carbohydrates_(g)_Dinner': 23.595488384569848,\n",
       " 'Carbohydrates_(g)_Lunch': 24.440668196871435,\n",
       " 'Cholesterol_Breakfast': 47.369361732230225,\n",
       " 'Cholesterol_Dinner': 59.96923896477862,\n",
       " 'Cholesterol_Lunch': 52.72309612980455,\n",
       " 'Minutes_Fairly_Active': 60,\n",
       " 'Minutes_Lightly_Active': 100,\n",
       " 'Minutes_Sedentary': 1260,\n",
       " 'Minutes_Very_Active': 20,\n",
       " 'Monounsaturated_Fat_Breakfast': 1.0669980021649492,\n",
       " 'Monounsaturated_Fat_Dinner': 1.7396704462301207,\n",
       " 'Monounsaturated_Fat_Lunch': 1.6779763911159176,\n",
       " 'Polyunsaturated_Fat_Breakfast': 0.44931076775543205,\n",
       " 'Polyunsaturated_Fat_Dinner': 0.8091658363152215,\n",
       " 'Polyunsaturated_Fat_Lunch': 1.3285957268035444,\n",
       " 'Protein_(g)_Breakfast': 11.091942365553132,\n",
       " 'Protein_(g)_Dinner': 42.45146186529735,\n",
       " 'Protein_(g)_Lunch': 39.57893389150156,\n",
       " 'Saturated_Fat_Breakfast': 1.7163035040532133,\n",
       " 'Saturated_Fat_Dinner': 4.683843656475089,\n",
       " 'Saturated_Fat_Lunch': 3.845697006801862,\n",
       " 'Sodium_(mg)_Breakfast': 189.10818245528924,\n",
       " 'Sodium_(mg)_Dinner': 583.7117425390015,\n",
       " 'Sodium_(mg)_Lunch': 623.8489537824153,\n",
       " 'Steps': 10000,\n",
       " 'Sugar_Breakfast': 1.8346396810204646,\n",
       " 'Sugar_Dinner': 3.544489151269749,\n",
       " 'Sugar_Lunch': 3.7791439977262296,\n",
       " 'Trans_Fat_Breakfast': 0.057035880857512405,\n",
       " 'Trans_Fat_Dinner': 0.15129029103265051,\n",
       " 'Trans_Fat_Lunch': 0.036933843098355235}"
      ]
     },
     "execution_count": 110,
     "metadata": {},
     "output_type": "execute_result"
    }
   ],
   "source": [
    "features = get_features(converted_data, fat_breakdown, protein_breakdown,\n",
    "                            carb_breakdown, calorie_breakdown)\n",
    "\n",
    "features"
   ]
  },
  {
   "cell_type": "code",
   "execution_count": 111,
   "metadata": {
    "ExecuteTime": {
     "end_time": "2018-09-13T22:03:26.159392Z",
     "start_time": "2018-09-13T22:03:26.132801Z"
    }
   },
   "outputs": [],
   "source": [
    "def prophet_forecast_weight(features, df, periods, date, cap=None, floor=170):\n",
    "    future = prophet_final.make_future_dataframe(periods=periods)\n",
    "    future['floor'] = 170\n",
    "    \n",
    "    steps_regressors_df = df[['Date','Steps','Minutes_Sedentary', 'Minutes_Lightly_Active',\n",
    "       'Minutes_Fairly_Active', 'Minutes_Very_Active', 'Calories_Breakfast',\n",
    "       'Saturated_Fat_Breakfast', 'Cholesterol_Breakfast',\n",
    "       'Polyunsaturated_Fat_Breakfast', 'Monounsaturated_Fat_Breakfast',\n",
    "       'Trans_Fat_Breakfast', 'Carbohydrates_(g)_Breakfast', 'Sugar_Breakfast',\n",
    "       'Sodium_(mg)_Breakfast',\n",
    "       'Protein_(g)_Breakfast', 'Calories_Lunch', 'Saturated_Fat_Lunch',\n",
    "       'Polyunsaturated_Fat_Lunch', 'Monounsaturated_Fat_Lunch',\n",
    "       'Trans_Fat_Lunch', 'Cholesterol_Lunch', 'Sodium_(mg)_Lunch',\n",
    "       'Carbohydrates_(g)_Lunch', 'Sugar_Lunch', 'Protein_(g)_Lunch',\n",
    "       'Calories_Dinner', 'Saturated_Fat_Dinner', 'Polyunsaturated_Fat_Dinner',\n",
    "       'Monounsaturated_Fat_Dinner', 'Trans_Fat_Dinner', 'Cholesterol_Dinner',\n",
    "       'Sodium_(mg)_Dinner', 'Carbohydrates_(g)_Dinner',\n",
    "       'Sugar_Dinner', 'Protein_(g)_Dinner']]\n",
    "    \n",
    "    columns = ['Steps','Minutes_Sedentary', 'Minutes_Lightly_Active',\n",
    "       'Minutes_Fairly_Active', 'Minutes_Very_Active', 'Calories_Breakfast',\n",
    "       'Saturated_Fat_Breakfast', 'Cholesterol_Breakfast',\n",
    "       'Polyunsaturated_Fat_Breakfast', 'Monounsaturated_Fat_Breakfast',\n",
    "       'Trans_Fat_Breakfast', 'Carbohydrates_(g)_Breakfast', 'Sugar_Breakfast',\n",
    "       'Sodium_(mg)_Breakfast',\n",
    "       'Protein_(g)_Breakfast', 'Calories_Lunch', 'Saturated_Fat_Lunch',\n",
    "       'Polyunsaturated_Fat_Lunch', 'Monounsaturated_Fat_Lunch',\n",
    "       'Trans_Fat_Lunch', 'Cholesterol_Lunch', 'Sodium_(mg)_Lunch',\n",
    "       'Carbohydrates_(g)_Lunch', 'Sugar_Lunch', 'Protein_(g)_Lunch',\n",
    "       'Calories_Dinner', 'Saturated_Fat_Dinner', 'Polyunsaturated_Fat_Dinner',\n",
    "       'Monounsaturated_Fat_Dinner', 'Trans_Fat_Dinner', 'Cholesterol_Dinner',\n",
    "       'Sodium_(mg)_Dinner', 'Carbohydrates_(g)_Dinner',\n",
    "       'Sugar_Dinner', 'Protein_(g)_Dinner']\n",
    "\n",
    "    future = future.merge(steps_regressors_df, left_on='ds', right_on='Date', how='left')\n",
    "    \n",
    "    for i in columns:\n",
    "        future[i].iloc[-periods:] = features[i]\n",
    "        \n",
    "    forecast = prophet_final.predict(future)\n",
    "    \n",
    "    predicted_weight = np.round(forecast[forecast['ds'] == date]['yhat'].values[0],2)\n",
    "    predicted_weight_upper = np.round(forecast[forecast['ds'] == date]['yhat_upper'].values[0],2)\n",
    "    predicted_weight_lower = np.round(forecast[forecast['ds'] == date]['yhat_lower'].values[0],2)\n",
    "    \n",
    "    result = {\n",
    "        \n",
    "        'predicted_weight':predicted_weight,\n",
    "        'predicted_weight_upper': predicted_weight_upper,\n",
    "        'predicted_weight_lower': predicted_weight_lower\n",
    "        \n",
    "    }\n",
    "        \n",
    "    return result"
   ]
  },
  {
   "cell_type": "code",
   "execution_count": 112,
   "metadata": {
    "ExecuteTime": {
     "end_time": "2018-09-13T22:03:35.596475Z",
     "start_time": "2018-09-13T22:03:26.930236Z"
    }
   },
   "outputs": [
    {
     "name": "stderr",
     "output_type": "stream",
     "text": [
      "/Users/brendenrossin/anaconda3/lib/python3.6/site-packages/pandas/core/indexing.py:189: SettingWithCopyWarning: \n",
      "A value is trying to be set on a copy of a slice from a DataFrame\n",
      "\n",
      "See the caveats in the documentation: http://pandas.pydata.org/pandas-docs/stable/indexing.html#indexing-view-versus-copy\n",
      "  self._setitem_with_indexer(indexer, value)\n"
     ]
    },
    {
     "data": {
      "text/plain": [
       "{'predicted_weight': 171.21,\n",
       " 'predicted_weight_lower': 168.46,\n",
       " 'predicted_weight_upper': 173.87}"
      ]
     },
     "execution_count": 112,
     "metadata": {},
     "output_type": "execute_result"
    }
   ],
   "source": [
    "prophet_forecast_weight(features, df, periods=90, date=converted_data['Date'])"
   ]
  },
  {
   "cell_type": "code",
   "execution_count": 185,
   "metadata": {
    "ExecuteTime": {
     "end_time": "2018-09-16T02:44:49.874908Z",
     "start_time": "2018-09-16T02:44:49.733472Z"
    }
   },
   "outputs": [],
   "source": [
    "def recipe_cosine_similarity(ideal_recipe_vec, new_recipe_vec):\n",
    "    ## ideal_recipe_vec == array of [ideal_meal_cals, ideal_meal_fat, ideal_meal_protein, ideal_meal_carb]\n",
    "    ## new_recipe_vec == array of [new_meal_cals, new_meal_fat, new_meal_protein, new_meal_carb]\n",
    "    return np.dot(ideal_recipe_vec, new_recipe_vec) / np.sqrt(np.dot(ideal_recipe_vec, ideal_recipe_vec) * np.dot(new_recipe_vec, new_recipe_vec))\n",
    "\n",
    "def get_closest_recipes(ideal_recipe_vec, new_recipe_vecs):\n",
    "    recipe_similarities = []\n",
    "    for i in new_recipe_vecs:\n",
    "        new_recipe_vec = i[2]\n",
    "        recipe_info = (str(new_recipe_vec[0]) + ' Calories', str(new_recipe_vec[1]) + ' g Fat', str(new_recipe_vec[2]) + ' g Protein', str(new_recipe_vec[3]) + ' g Carbs')\n",
    "        cosine_sim = recipe_cosine_similarity(ideal_recipe_vec[1:], new_recipe_vec[1:])\n",
    "        if np.isnan(cosine_sim) == False:\n",
    "            recipe_similarities.append([i[1], recipe_info, i[3], i[4], cosine_sim])\n",
    "    \n",
    "    recipe_similarities = sorted(recipe_similarities, key=lambda x: x[3], reverse=True)\n",
    "    \n",
    "    return recipe_similarities[:5]\n",
    "\n",
    "def food_recommendations(df, converted_data):\n",
    "    \n",
    "    cuisine_list = [key for key, value in converted_data.items() if value != 0.0]\n",
    "    \n",
    "    total_calories = converted_data['Daily_Calories']\n",
    "    percent_fat = converted_data['Daily_Fat']\n",
    "    percent_protein = converted_data['Daily_Protein']\n",
    "    percent_carb = converted_data['Daily_Carbs']\n",
    "    percent_breakfast = converted_data['Percent_Breakfast']\n",
    "    percent_lunch = converted_data['Percent_Lunch']\n",
    "    percent_dinner = converted_data['Percent_Dinner']\n",
    "    \n",
    "    breakfast_df = df[df['course'].str.contains('breakfast') & df['cuisine'].str.contains('|'.join(cuisine_list))]\n",
    "    lunch_df = df[df['course'].str.contains('lunch') & df['cuisine'].str.contains('|'.join(cuisine_list))]\n",
    "    dinner_df = df[df['course'].str.contains('main dishes') & df['cuisine'].str.contains('|'.join(cuisine_list))]\n",
    "    \n",
    "    cals_per_g_fat = 9\n",
    "    cals_per_g_protein = 4\n",
    "    cals_per_g_carb = 4\n",
    "\n",
    "    percent_breakfast = percent_breakfast / 100\n",
    "    percent_lunch = percent_lunch / 100\n",
    "    percent_dinner = percent_dinner / 100\n",
    "    \n",
    "    calories_breakdown = {}\n",
    "\n",
    "    calories_columns = ['Calories_Breakfast', 'Calories_Lunch', 'Calories_Dinner']\n",
    "\n",
    "    calories_breakdown['Calories_Breakfast'] = total_calories * percent_breakfast\n",
    "    calories_breakdown['Calories_Lunch'] = total_calories * percent_lunch\n",
    "    calories_breakdown['Calories_Dinner'] = total_calories * percent_dinner\n",
    "    \n",
    "    breakfast_df = df[df['course'].str.contains('breakfast') & df['cuisine'].str.contains('|'.join(cuisine_list)) & ((calories_breakdown['Calories_Breakfast'] - 75) < df['energy_kcal']) & (df['energy_kcal'] < (calories_breakdown['Calories_Breakfast'] + 75))]\n",
    "    lunch_df = df[df['course'].str.contains('lunch') & df['cuisine'].str.contains('|'.join(cuisine_list)) & ((calories_breakdown['Calories_Lunch'] - 75) < df['energy_kcal']) & (df['energy_kcal'] < (calories_breakdown['Calories_Lunch'] + 75))]\n",
    "    dinner_df = df[df['course'].str.contains('main dishes') & df['cuisine'].str.contains('|'.join(cuisine_list)) & ((calories_breakdown['Calories_Dinner'] - 75) < df['energy_kcal']) & (df['energy_kcal'] < (calories_breakdown['Calories_Dinner'] + 75))]\n",
    "\n",
    "    percent_fat = percent_fat / 100\n",
    "    percent_protein = percent_protein / 100\n",
    "    percent_carb = percent_carb / 100\n",
    "    \n",
    "    breakfast_recipes = []\n",
    "    \n",
    "    g_fat = total_calories * percent_fat / cals_per_g_fat\n",
    "    g_protein = total_calories * percent_protein / cals_per_g_protein\n",
    "    g_carbs = total_calories * percent_carb / cals_per_g_carb\n",
    "    \n",
    "    g_fat_breakfast = g_fat * percent_breakfast\n",
    "    g_fat_lunch = g_fat * percent_lunch\n",
    "    g_fat_dinner = g_fat * percent_dinner\n",
    "    \n",
    "    g_protein_breakfast = g_protein * percent_breakfast\n",
    "    g_protein_lunch = g_protein * percent_lunch\n",
    "    g_protein_dinner = g_protein * percent_dinner\n",
    "    \n",
    "    g_carbs_breakfast = g_carbs * percent_breakfast\n",
    "    g_carbs_lunch = g_carbs * percent_lunch\n",
    "    g_carbs_dinner = g_carbs * percent_dinner\n",
    "    \n",
    "    ideal_breakfast_recipe_vec = [calories_breakdown['Calories_Breakfast'], g_fat_breakfast, g_protein_breakfast, g_carbs_breakfast]\n",
    "    ideal_lunch_recipe_vec = [calories_breakdown['Calories_Lunch'], g_fat_lunch, g_protein_lunch, g_carbs_lunch]\n",
    "    ideal_dinner_recipe_vec = [calories_breakdown['Calories_Dinner'], g_fat_dinner, g_protein_dinner, g_carbs_dinner]\n",
    "    \n",
    "    breakfast_recipe_vecs = [(index, row['name'], row[['energy_kcal', 'fat_g', 'protein_g', 'carbs_g']].values, row['source_url'], row['recipe_image']) for index, row in breakfast_df.iterrows()]\n",
    "    lunch_recipe_vecs = [(index, row['name'], row[['energy_kcal', 'fat_g', 'protein_g', 'carbs_g']].values, row['source_url'], row['recipe_image']) for index, row in lunch_df.iterrows()]\n",
    "    dinner_recipe_vecs = [(index, row['name'], row[['energy_kcal', 'fat_g', 'protein_g', 'carbs_g']].values, row['source_url'], row['recipe_image']) for index, row in dinner_df.iterrows()]\n",
    "\n",
    "    breakfast_recipes = get_closest_recipes(ideal_breakfast_recipe_vec, breakfast_recipe_vecs)\n",
    "    lunch_recipes = get_closest_recipes(ideal_lunch_recipe_vec, lunch_recipe_vecs)\n",
    "    dinner_recipes = get_closest_recipes(ideal_dinner_recipe_vec, dinner_recipe_vecs)\n",
    "\n",
    "    return breakfast_recipes, lunch_recipes, dinner_recipes   "
   ]
  },
  {
   "cell_type": "code",
   "execution_count": 186,
   "metadata": {
    "ExecuteTime": {
     "end_time": "2018-09-16T02:44:50.192319Z",
     "start_time": "2018-09-16T02:44:50.160629Z"
    }
   },
   "outputs": [],
   "source": [
    "yummly_df = pd.read_pickle(\"Data/Yummly_Data/Yummly_DF.pkl\")"
   ]
  },
  {
   "cell_type": "code",
   "execution_count": 187,
   "metadata": {
    "ExecuteTime": {
     "end_time": "2018-09-16T02:44:50.542647Z",
     "start_time": "2018-09-16T02:44:50.539666Z"
    }
   },
   "outputs": [],
   "source": [
    "# cuisine_list = ['american', 'japanese', 'greek']"
   ]
  },
  {
   "cell_type": "code",
   "execution_count": 188,
   "metadata": {
    "ExecuteTime": {
     "end_time": "2018-09-16T02:44:51.156442Z",
     "start_time": "2018-09-16T02:44:51.052926Z"
    }
   },
   "outputs": [
    {
     "data": {
      "text/plain": [
       "([['Southern Style Country Sausage Gravy',\n",
       "   ('389.52 Calories', '29.84 g Fat', '17.83 g Protein', '11.65 g Carbs'),\n",
       "   'http://carrieshomecooking.com/country-sausage-gravy/',\n",
       "   'https://lh3.googleusercontent.com/wUruFHdtBTHvSHE4atDd3sEh9gXCyePq9wzCkytyEBBHWcblCEurJ25nmKrtzzERnCDMGdVzmmMZPa--dvdwIA=s360',\n",
       "   0.80652993892996],\n",
       "  ['Greek-style Omelette',\n",
       "   ('354.01 Calories', '29.81 g Fat', '17.91 g Protein', '4.95 g Carbs'),\n",
       "   'http://www.themediterraneandietitian.com/recipe/greek-style-omelette/',\n",
       "   'https://lh3.googleusercontent.com/WY9kN3_F1i7s3bUYJyxSDj1jbL1gORbu9hxa5Uj5-sde3wQno8tFMp7q-hmZvVBMc2ILvQZT8C3p1tZ3YdXGlis=s360',\n",
       "   0.7473220039381573],\n",
       "  ['Spinach Feta Quiche with Flakey Phyllo Dough Crust',\n",
       "   ('329.93 Calories', '20.4 g Fat', '13.62 g Protein', '23.26 g Carbs'),\n",
       "   'http://www.wellplated.com/spinach-feta-quiche/',\n",
       "   'https://lh3.googleusercontent.com/0Cf1QG1-iLjNS9mGKKZLZcySW3yUMmYO5Hx7_WW9wxGh2bOxyVIqq-irJQod9EVekCWzF8sxuABqBCYSfEHw=s360',\n",
       "   0.8598246794949054],\n",
       "  ['Hearty Pancakes',\n",
       "   ('349.19 Calories', '9.36 g Fat', '9.14 g Protein', '60.91 g Carbs'),\n",
       "   'http://www.health.com/health/recipe/0,,10000000780384,00.html',\n",
       "   'http://lh5.ggpht.com/dai8ZRWRKr3NH9niGkYesBJ4iuk_GQtU_RqmvBIHBsmwwQY_U12Mb7K-Ifl52TGKVltwzPBVhojmhO-J0UGxexA=s360',\n",
       "   0.6573189152563054]],\n",
       " [['Baked Pimiento Cheese',\n",
       "   ('812.17 Calories', '66.55 g Fat', '29.61 g Protein', '24.55 g Carbs'),\n",
       "   'http://www.myrecipes.com/recipe/baked-pimiento-cheese-0',\n",
       "   'http://lh4.ggpht.com/eLlzMJ8IcJSL9RYqcdr5BwqMBcyYEykKdJ3N2iwmKRUGjK7g6QNbp5XBApeDRAflq8HzLH_bUWIqJwyiMG0AQQ=s360',\n",
       "   0.742143456166653],\n",
       "  ['Baked Pimiento Cheese',\n",
       "   ('812.17 Calories', '66.55 g Fat', '29.61 g Protein', '24.55 g Carbs'),\n",
       "   'http://www.myrecipes.com/recipe/baked-pimiento-cheese-0',\n",
       "   'http://lh4.ggpht.com/eLlzMJ8IcJSL9RYqcdr5BwqMBcyYEykKdJ3N2iwmKRUGjK7g6QNbp5XBApeDRAflq8HzLH_bUWIqJwyiMG0AQQ=s360',\n",
       "   0.742143456166653],\n",
       "  ['Okonomiyaki (Japanese Cabbage Pancakes)',\n",
       "   ('771.04 Calories', '39.27 g Fat', '27.1 g Protein', '75.83 g Carbs'),\n",
       "   'http://www.rotinrice.com/2015/09/okonomiyaki-japanese-cabbage-pancakes/',\n",
       "   'http://lh3.googleusercontent.com/YCmbOW8xlZmwZnuGHI1oY5W786lIM1tpFE7zNgpj6N9nsPeMt8lgV6KjXbpPYhVTuY1idCAkgY1xY6GDowYqfg=s360',\n",
       "   0.8068954472592608],\n",
       "  ['Southwestern Pizza',\n",
       "   ('740.75 Calories', '39.62 g Fat', '42.32 g Protein', '53.38 g Carbs'),\n",
       "   'http://www.myrecipes.com/recipe/southwestern-pizza',\n",
       "   'http://lh3.ggpht.com/NhTAR6bVNmwUtPBFxtD2JnJe0ithIXuLPIUmNYULIhOMGRT1gAgPDkbZrrt1NBh8oGDqaBI8eqCYwKwmHWl71w=s360',\n",
       "   0.9308903522706105]],\n",
       " [['Kentucky Hot Brown Mac and Cheese',\n",
       "   ('729.59 Calories', '42.08 g Fat', '41.22 g Protein', '45.16 g Carbs'),\n",
       "   'http://www.plainchicken.com/2017/04/kentucky-hot-brown-mac-and-cheese.html',\n",
       "   'https://lh3.googleusercontent.com/bhWmWgO7gfsDJLSjHpHCRiyGysfa-6234scR3EuBqar7ewLcev4KnPqoPjLN_LIsd8I8o1LQooR7D_ia_dXvug=s360',\n",
       "   0.9310367383126368],\n",
       "  ['Greek Orzo Salad with Grilled Chicken',\n",
       "   ('767.77 Calories', '47.63 g Fat', '21.89 g Protein', '64.71 g Carbs'),\n",
       "   'https://thecozycook.com/greek-orzo-salad/',\n",
       "   'https://lh3.googleusercontent.com/SualCqfqgyK3ncpkb06wu9zftDUaCYcxnx6Xv0BBLn2K0YM9zIsy5z_ieyrtuleni-vG1nyOfD-Cnk1B_TNvhAc=s360',\n",
       "   0.7819230662285944],\n",
       "  ['Teriyaki Chicken (Tori no Teriyaki)',\n",
       "   ('801.64 Calories', '46.34 g Fat', '56.5 g Protein', '19.29 g Carbs'),\n",
       "   'http://www.asiansupper.com/recipe/teriyaki-chicken-tori-no-teriyaki',\n",
       "   'https://lh3.googleusercontent.com/S-9uFu3vKO_fOxei730YNNW_8th-pqRiK1t0A_N2WProRuS_X6pJPRWpZ4hcLL5z1gju7R5xUP1cZEgWVnVmNw=s360',\n",
       "   0.9225657988352449],\n",
       "  ['One Pan Greek Lemon Chicken and Potatoes',\n",
       "   ('847.23 Calories', '42.0 g Fat', '63.68 g Protein', '54.71 g Carbs'),\n",
       "   'http://foodlove.com/one-pan-greek-lemon-chicken-and-potatoes/',\n",
       "   'https://lh3.googleusercontent.com/R1A6pRNxZv-iN5Qte8Dj9TNuNKlEa3qzo4SgJmxBwbXMo7psn9AFfROaThb-nHk5ofRYHi6RRWEJxxI-Q0AkDw=s360',\n",
       "   0.979772714393483],\n",
       "  ['Feta Meatballs with Spinach Couscous & Tzatziki',\n",
       "   ('801.64 Calories', '50.59 g Fat', '43.39 g Protein', '44.86 g Carbs'),\n",
       "   'https://www.cinnamonspiceandeverythingnice.com/greek-meatballs-with-spinach-couscous-tzatziki/',\n",
       "   'https://lh3.googleusercontent.com/PHbj08QpzYeRUVbTc3bzrSjzBUY73ZyfmLcfDDd6uVnK-hSWuCHavpGkbwyaUvZaXVxW3sCjAAWz4-vVCVfZ7w=s360',\n",
       "   0.9132141620918215]])"
      ]
     },
     "execution_count": 188,
     "metadata": {},
     "output_type": "execute_result"
    }
   ],
   "source": [
    "food_recommendations(yummly_df, converted_data)"
   ]
  },
  {
   "cell_type": "code",
   "execution_count": 198,
   "metadata": {
    "ExecuteTime": {
     "end_time": "2018-09-16T03:06:54.478384Z",
     "start_time": "2018-09-16T03:06:54.357751Z"
    }
   },
   "outputs": [],
   "source": [
    "breakfast_recipes, lunch_recipes, dinner_recipes = food_recommendations(yummly_df, converted_data)\n",
    "breakfast_recipe_names = [i[0] for i in breakfast_recipes]\n",
    "breakfast_recipe_urls = [i[1] for i in breakfast_recipes]\n",
    "breakfast_recipe_images = [i[2] for i in breakfast_recipes]\n",
    "\n",
    "lunch_recipe_names = [i[0] for i in lunch_recipes]\n",
    "lunch_recipe_urls = [i[1] for i in lunch_recipes]\n",
    "lunch_recipe_images = [i[2] for i in lunch_recipes]\n",
    "\n",
    "dinner_recipe_names = [i[0] for i in dinner_recipes]\n",
    "dinner_recipe_urls = [i[1] for i in dinner_recipes]\n",
    "dinner_recipe_images = [i[2] for i in dinner_recipes]"
   ]
  },
  {
   "cell_type": "code",
   "execution_count": 199,
   "metadata": {
    "ExecuteTime": {
     "end_time": "2018-09-16T03:06:55.053738Z",
     "start_time": "2018-09-16T03:06:55.050029Z"
    }
   },
   "outputs": [
    {
     "data": {
      "text/plain": [
       "['Southern Style Country Sausage Gravy',\n",
       " 'Greek-style Omelette',\n",
       " 'Spinach Feta Quiche with Flakey Phyllo Dough Crust',\n",
       " 'Hearty Pancakes']"
      ]
     },
     "execution_count": 199,
     "metadata": {},
     "output_type": "execute_result"
    }
   ],
   "source": [
    "breakfast_recipe_names"
   ]
  },
  {
   "cell_type": "code",
   "execution_count": 200,
   "metadata": {
    "ExecuteTime": {
     "end_time": "2018-09-16T03:06:55.911640Z",
     "start_time": "2018-09-16T03:06:55.907061Z"
    }
   },
   "outputs": [
    {
     "data": {
      "text/plain": [
       "[['Southern Style Country Sausage Gravy',\n",
       "  ('389.52 Calories', '29.84 g Fat', '17.83 g Protein', '11.65 g Carbs'),\n",
       "  'http://carrieshomecooking.com/country-sausage-gravy/',\n",
       "  'https://lh3.googleusercontent.com/wUruFHdtBTHvSHE4atDd3sEh9gXCyePq9wzCkytyEBBHWcblCEurJ25nmKrtzzERnCDMGdVzmmMZPa--dvdwIA=s360',\n",
       "  0.80652993892996],\n",
       " ['Greek-style Omelette',\n",
       "  ('354.01 Calories', '29.81 g Fat', '17.91 g Protein', '4.95 g Carbs'),\n",
       "  'http://www.themediterraneandietitian.com/recipe/greek-style-omelette/',\n",
       "  'https://lh3.googleusercontent.com/WY9kN3_F1i7s3bUYJyxSDj1jbL1gORbu9hxa5Uj5-sde3wQno8tFMp7q-hmZvVBMc2ILvQZT8C3p1tZ3YdXGlis=s360',\n",
       "  0.7473220039381573],\n",
       " ['Spinach Feta Quiche with Flakey Phyllo Dough Crust',\n",
       "  ('329.93 Calories', '20.4 g Fat', '13.62 g Protein', '23.26 g Carbs'),\n",
       "  'http://www.wellplated.com/spinach-feta-quiche/',\n",
       "  'https://lh3.googleusercontent.com/0Cf1QG1-iLjNS9mGKKZLZcySW3yUMmYO5Hx7_WW9wxGh2bOxyVIqq-irJQod9EVekCWzF8sxuABqBCYSfEHw=s360',\n",
       "  0.8598246794949054],\n",
       " ['Hearty Pancakes',\n",
       "  ('349.19 Calories', '9.36 g Fat', '9.14 g Protein', '60.91 g Carbs'),\n",
       "  'http://www.health.com/health/recipe/0,,10000000780384,00.html',\n",
       "  'http://lh5.ggpht.com/dai8ZRWRKr3NH9niGkYesBJ4iuk_GQtU_RqmvBIHBsmwwQY_U12Mb7K-Ifl52TGKVltwzPBVhojmhO-J0UGxexA=s360',\n",
       "  0.6573189152563054]]"
      ]
     },
     "execution_count": 200,
     "metadata": {},
     "output_type": "execute_result"
    }
   ],
   "source": [
    "breakfast_recipes"
   ]
  },
  {
   "cell_type": "code",
   "execution_count": 201,
   "metadata": {
    "ExecuteTime": {
     "end_time": "2018-09-16T03:06:56.957410Z",
     "start_time": "2018-09-16T03:06:56.943536Z"
    }
   },
   "outputs": [
    {
     "data": {
      "text/plain": [
       "[['Southern Style Country Sausage Gravy',\n",
       "  ('389.52 Calories', '29.84 g Fat', '17.83 g Protein', '11.65 g Carbs'),\n",
       "  'http://carrieshomecooking.com/country-sausage-gravy/'],\n",
       " ['Greek-style Omelette',\n",
       "  ('354.01 Calories', '29.81 g Fat', '17.91 g Protein', '4.95 g Carbs'),\n",
       "  'http://www.themediterraneandietitian.com/recipe/greek-style-omelette/'],\n",
       " ['Spinach Feta Quiche with Flakey Phyllo Dough Crust',\n",
       "  ('329.93 Calories', '20.4 g Fat', '13.62 g Protein', '23.26 g Carbs'),\n",
       "  'http://www.wellplated.com/spinach-feta-quiche/'],\n",
       " ['Hearty Pancakes',\n",
       "  ('349.19 Calories', '9.36 g Fat', '9.14 g Protein', '60.91 g Carbs'),\n",
       "  'http://www.health.com/health/recipe/0,,10000000780384,00.html']]"
      ]
     },
     "execution_count": 201,
     "metadata": {},
     "output_type": "execute_result"
    }
   ],
   "source": [
    "breakfast_recipe_info = [i[0:3] for i in breakfast_recipes]\n",
    "breakfast_recipe_info"
   ]
  },
  {
   "cell_type": "code",
   "execution_count": null,
   "metadata": {
    "ExecuteTime": {
     "end_time": "2018-09-13T22:19:32.318519Z",
     "start_time": "2018-09-13T22:19:32.308816Z"
    }
   },
   "outputs": [],
   "source": []
  },
  {
   "cell_type": "code",
   "execution_count": 202,
   "metadata": {
    "ExecuteTime": {
     "end_time": "2018-09-16T03:07:02.297032Z",
     "start_time": "2018-09-16T03:07:02.253678Z"
    }
   },
   "outputs": [],
   "source": [
    "def prophet_forecast_weight(features, df, periods, date, cap=None, floor=170):\n",
    "    future = prophet_final.make_future_dataframe(periods=periods)\n",
    "    future['floor'] = 170\n",
    "    \n",
    "    steps_regressors_df = df[['Date','Steps','Minutes_Sedentary', 'Minutes_Lightly_Active',\n",
    "       'Minutes_Fairly_Active', 'Minutes_Very_Active', 'Calories_Breakfast',\n",
    "       'Saturated_Fat_Breakfast', 'Cholesterol_Breakfast',\n",
    "       'Polyunsaturated_Fat_Breakfast', 'Monounsaturated_Fat_Breakfast',\n",
    "       'Trans_Fat_Breakfast', 'Carbohydrates_(g)_Breakfast', 'Sugar_Breakfast',\n",
    "       'Sodium_(mg)_Breakfast',\n",
    "       'Protein_(g)_Breakfast', 'Calories_Lunch', 'Saturated_Fat_Lunch',\n",
    "       'Polyunsaturated_Fat_Lunch', 'Monounsaturated_Fat_Lunch',\n",
    "       'Trans_Fat_Lunch', 'Cholesterol_Lunch', 'Sodium_(mg)_Lunch',\n",
    "       'Carbohydrates_(g)_Lunch', 'Sugar_Lunch', 'Protein_(g)_Lunch',\n",
    "       'Calories_Dinner', 'Saturated_Fat_Dinner', 'Polyunsaturated_Fat_Dinner',\n",
    "       'Monounsaturated_Fat_Dinner', 'Trans_Fat_Dinner', 'Cholesterol_Dinner',\n",
    "       'Sodium_(mg)_Dinner', 'Carbohydrates_(g)_Dinner',\n",
    "       'Sugar_Dinner', 'Protein_(g)_Dinner']]\n",
    "    \n",
    "    columns = ['Steps','Minutes_Sedentary', 'Minutes_Lightly_Active',\n",
    "       'Minutes_Fairly_Active', 'Minutes_Very_Active', 'Calories_Breakfast',\n",
    "       'Saturated_Fat_Breakfast', 'Cholesterol_Breakfast',\n",
    "       'Polyunsaturated_Fat_Breakfast', 'Monounsaturated_Fat_Breakfast',\n",
    "       'Trans_Fat_Breakfast', 'Carbohydrates_(g)_Breakfast', 'Sugar_Breakfast',\n",
    "       'Sodium_(mg)_Breakfast',\n",
    "       'Protein_(g)_Breakfast', 'Calories_Lunch', 'Saturated_Fat_Lunch',\n",
    "       'Polyunsaturated_Fat_Lunch', 'Monounsaturated_Fat_Lunch',\n",
    "       'Trans_Fat_Lunch', 'Cholesterol_Lunch', 'Sodium_(mg)_Lunch',\n",
    "       'Carbohydrates_(g)_Lunch', 'Sugar_Lunch', 'Protein_(g)_Lunch',\n",
    "       'Calories_Dinner', 'Saturated_Fat_Dinner', 'Polyunsaturated_Fat_Dinner',\n",
    "       'Monounsaturated_Fat_Dinner', 'Trans_Fat_Dinner', 'Cholesterol_Dinner',\n",
    "       'Sodium_(mg)_Dinner', 'Carbohydrates_(g)_Dinner',\n",
    "       'Sugar_Dinner', 'Protein_(g)_Dinner']\n",
    "\n",
    "    future = future.merge(steps_regressors_df, left_on='ds', right_on='Date', how='left')\n",
    "    \n",
    "    for i in columns:\n",
    "        future[i].iloc[-periods:] = features[i]\n",
    "        \n",
    "    forecast = prophet_final.predict(future)\n",
    "    \n",
    "    predicted_weight = np.round(forecast[forecast['ds'] == date]['yhat'].values[0],2)\n",
    "    predicted_weight_upper = np.round(forecast[forecast['ds'] == date]['yhat_upper'].values[0],2)\n",
    "    predicted_weight_lower = np.round(forecast[forecast['ds'] == date]['yhat_lower'].values[0],2)\n",
    "    \n",
    "    result = {\n",
    "        \n",
    "        'predicted_weight':predicted_weight,\n",
    "        'predicted_weight_upper': predicted_weight_upper,\n",
    "        'predicted_weight_lower': predicted_weight_lower\n",
    "        \n",
    "    }\n",
    "        \n",
    "    return predicted_weight, predicted_weight_upper, predicted_weight_lower"
   ]
  },
  {
   "cell_type": "code",
   "execution_count": 203,
   "metadata": {
    "ExecuteTime": {
     "end_time": "2018-09-16T03:07:02.651635Z",
     "start_time": "2018-09-16T03:07:02.643238Z"
    }
   },
   "outputs": [],
   "source": [
    "from PIL import Image\n",
    "import urllib\n",
    "from io import BytesIO\n",
    "\n",
    "def get_image(image):\n",
    "    file = BytesIO(urllib.request.urlopen(breakfast_img).read())\n",
    "    img = Image.open(file)\n",
    "    return img"
   ]
  },
  {
   "cell_type": "code",
   "execution_count": 204,
   "metadata": {
    "ExecuteTime": {
     "end_time": "2018-09-16T03:07:03.064089Z",
     "start_time": "2018-09-16T03:07:02.996240Z"
    }
   },
   "outputs": [],
   "source": [
    "def flask_output(features, df, yummly_df, periods=90, date=converted_data['Date']):\n",
    "    \n",
    "    predicted_weight, predicted_weight_upper, predicted_weight_lower = prophet_forecast_weight(features, df, periods=90, date=converted_data['Date'])\n",
    "    \n",
    "    breakfast_recipes, lunch_recipes, dinner_recipes = food_recommendations(yummly_df, converted_data)\n",
    "    \n",
    "    breakfast_recipe_names = [i[0] for i in breakfast_recipes]\n",
    "    lunch_recipe_names = [i[0] for i in lunch_recipes]\n",
    "    dinner_recipe_names = [i[0] for i in dinner_recipes]\n",
    "    \n",
    "    breakfast_recipe_urls = [i[1] for i in breakfast_recipes]\n",
    "    lunch_recipe_urls = [i[1] for i in lunch_recipes]\n",
    "    dinner_recipe_urls = [i[1] for i in dinner_recipes]\n",
    "    \n",
    "    first_breakfast_recipe_name, first_breakfast_recipe_url = breakfast_recipe_names[0], breakfast_recipe_urls[0]\n",
    "    second_breakfast_recipe_name, second_breakfast_recipe_url = breakfast_recipe_names[1], breakfast_recipe_urls[1]\n",
    "    third_breakfast_recipe_name, third_breakfast_recipe_url = breakfast_recipe_names[2], breakfast_recipe_urls[2]\n",
    "    fourth_breakfast_recipe_name, fourth_breakfast_recipe_url = breakfast_recipe_names[3], breakfast_recipe_urls[3]\n",
    "    fifth_breakfast_recipe_name, fifth_breakfast_recipe_url = breakfast_recipe_names[4], breakfast_recipe_urls[4]\n",
    "    \n",
    "    first_lunch_recipe_name, first_lunch_recipe_url = lunch_recipe_names[0], lunch_recipe_urls[0]\n",
    "    second_lunch_recipe_name, second_lunch_recipe_url = lunch_recipe_names[1], lunch_recipe_urls[1]\n",
    "    third_lunch_recipe_name, third_lunch_recipe_url = lunch_recipe_names[2], lunch_recipe_urls[2]\n",
    "    fourth_lunch_recipe_name, fourth_lunch_recipe_url = lunch_recipe_names[3], lunch_recipe_urls[3]\n",
    "    fifth_lunch_recipe_name, fifth_lunch_recipe_url = lunch_recipe_names[4], lunch_recipe_urls[4]\n",
    "    \n",
    "    first_dinner_recipe_name, first_dinner_recipe_url = dinner_recipe_names[0], dinner_recipe_urls[0]\n",
    "    second_dinner_recipe_name, second_dinner_recipe_url = dinner_recipe_names[1], dinner_recipe_urls[1]\n",
    "    third_dinner_recipe_name, third_dinner_recipe_url = dinner_recipe_names[2], dinner_recipe_urls[2]\n",
    "    fourth_dinner_recipe_name, fourth_dinner_recipe_url = dinner_recipe_names[3], dinner_recipe_urls[3]\n",
    "    fifth_dinner_recipe_name, fifth_dinner_recipe_url = dinner_recipe_names[4], dinner_recipe_urls[4]\n",
    "    \n",
    "    \n",
    "    breakfast_image = str(get_image(random.choice([i[2] for i in breakfast_recipes])))\n",
    "    lunch_image = str(get_image(random.choice([i[2] for i in lunch_recipes])))\n",
    "    dinner_image = str(get_image(random.choice([i[2] for i in dinner_recipes])))\n",
    "    \n",
    "    \n",
    "    result = {\n",
    "        \n",
    "        'predicted_weight': predicted_weight,\n",
    "        'predicted_weight_upper': predicted_weight_upper,\n",
    "        'predicted_weight_lower': predicted_weight_lower,\n",
    "        'breakfast_image': breakfast_image,\n",
    "        'lunch_image': lunch_image,\n",
    "        'dinner_image': dinner_image,\n",
    "        'first_breakfast_recipe_name': first_breakfast_recipe_name,\n",
    "        'second_breakfast_recipe_name': second_breakfast_recipe_name,\n",
    "        'third_breakfast_recipe_name': third_breakfast_recipe_name,\n",
    "        'fourth_breakfast_recipe_name': fourth_breakfast_recipe_name,\n",
    "        'fifth_breakfast_recipe_name': fifth_breakfast_recipe_name,\n",
    "        'first_breakfast_recipe_url': first_breakfast_recipe_url,\n",
    "        'second_breakfast_recipe_url': second_breakfast_recipe_url,\n",
    "        'third_breakfast_recipe_url': third_breakfast_recipe_url,\n",
    "        'fourth_breakfast_recipe_url': fourth_breakfast_recipe_url,\n",
    "        'fifth_breakfast_recipe_url': fifth_breakfast_recipe_url,\n",
    "        'first_lunch_recipe_name': first_lunch_recipe_name,\n",
    "        'second_lunch_recipe_name': second_lunch_recipe_name,\n",
    "        'third_lunch_recipe_name': third_lunch_recipe_name,\n",
    "        'fourth_lunch_recipe_name': fourth_lunch_recipe_name,\n",
    "        'fifth_lunch_recipe_name': fifth_lunch_recipe_name,\n",
    "        'first_lunch_recipe_url': first_lunch_recipe_url,\n",
    "        'second_lunch_recipe_url': second_lunch_recipe_url,\n",
    "        'third_lunch_recipe_url': third_lunch_recipe_url,\n",
    "        'fourth_lunch_recipe_url': fourth_lunch_recipe_url,\n",
    "        'fifth_lunch_recipe_url': fifth_lunch_recipe_url,\n",
    "        'first_dinner_recipe_name': first_dinner_recipe_name,\n",
    "        'second_dinner_recipe_name': second_dinner_recipe_name,\n",
    "        'third_dinner_recipe_name':third_dinner_recipe_name,\n",
    "        'fourth_dinner_recipe_name': fourth_dinner_recipe_name,\n",
    "        'fifth_dinner_recipe_name': fifth_dinner_recipe_name,\n",
    "        'first_dinner_recipe_url': first_dinner_recipe_url,\n",
    "        'second_dinner_recipe_url': second_dinner_recipe_url,\n",
    "        'third_dinner_recipe_url': third_dinner_recipe_url,\n",
    "        'fourth_dinner_recipe_url': fourth_dinner_recipe_url,\n",
    "        'fifth_dinner_recipe_url': fifth_dinner_recipe_url\n",
    "        \n",
    "    }\n",
    "    \n",
    "    return result"
   ]
  },
  {
   "cell_type": "code",
   "execution_count": 205,
   "metadata": {
    "ExecuteTime": {
     "end_time": "2018-09-16T03:07:13.948002Z",
     "start_time": "2018-09-16T03:07:03.647684Z"
    }
   },
   "outputs": [
    {
     "name": "stderr",
     "output_type": "stream",
     "text": [
      "/Users/brendenrossin/anaconda3/lib/python3.6/site-packages/pandas/core/indexing.py:189: SettingWithCopyWarning: \n",
      "A value is trying to be set on a copy of a slice from a DataFrame\n",
      "\n",
      "See the caveats in the documentation: http://pandas.pydata.org/pandas-docs/stable/indexing.html#indexing-view-versus-copy\n",
      "  self._setitem_with_indexer(indexer, value)\n"
     ]
    },
    {
     "ename": "IndexError",
     "evalue": "list index out of range",
     "output_type": "error",
     "traceback": [
      "\u001b[0;31m---------------------------------------------------------------------------\u001b[0m",
      "\u001b[0;31mIndexError\u001b[0m                                Traceback (most recent call last)",
      "\u001b[0;32m<ipython-input-205-8be573a866d9>\u001b[0m in \u001b[0;36m<module>\u001b[0;34m()\u001b[0m\n\u001b[0;32m----> 1\u001b[0;31m \u001b[0mflask_output\u001b[0m\u001b[0;34m(\u001b[0m\u001b[0mfeatures\u001b[0m\u001b[0;34m,\u001b[0m \u001b[0mdf\u001b[0m\u001b[0;34m,\u001b[0m \u001b[0myummly_df\u001b[0m\u001b[0;34m,\u001b[0m \u001b[0mperiods\u001b[0m\u001b[0;34m=\u001b[0m\u001b[0;36m90\u001b[0m\u001b[0;34m,\u001b[0m \u001b[0mdate\u001b[0m\u001b[0;34m=\u001b[0m\u001b[0mconverted_data\u001b[0m\u001b[0;34m[\u001b[0m\u001b[0;34m'Date'\u001b[0m\u001b[0;34m]\u001b[0m\u001b[0;34m)\u001b[0m\u001b[0;34m\u001b[0m\u001b[0m\n\u001b[0m",
      "\u001b[0;32m<ipython-input-204-19ddf1a9365c>\u001b[0m in \u001b[0;36mflask_output\u001b[0;34m(features, df, yummly_df, periods, date)\u001b[0m\n\u001b[1;32m     17\u001b[0m     \u001b[0mthird_breakfast_recipe_name\u001b[0m\u001b[0;34m,\u001b[0m \u001b[0mthird_breakfast_recipe_url\u001b[0m \u001b[0;34m=\u001b[0m \u001b[0mbreakfast_recipe_names\u001b[0m\u001b[0;34m[\u001b[0m\u001b[0;36m2\u001b[0m\u001b[0;34m]\u001b[0m\u001b[0;34m,\u001b[0m \u001b[0mbreakfast_recipe_urls\u001b[0m\u001b[0;34m[\u001b[0m\u001b[0;36m2\u001b[0m\u001b[0;34m]\u001b[0m\u001b[0;34m\u001b[0m\u001b[0m\n\u001b[1;32m     18\u001b[0m     \u001b[0mfourth_breakfast_recipe_name\u001b[0m\u001b[0;34m,\u001b[0m \u001b[0mfourth_breakfast_recipe_url\u001b[0m \u001b[0;34m=\u001b[0m \u001b[0mbreakfast_recipe_names\u001b[0m\u001b[0;34m[\u001b[0m\u001b[0;36m3\u001b[0m\u001b[0;34m]\u001b[0m\u001b[0;34m,\u001b[0m \u001b[0mbreakfast_recipe_urls\u001b[0m\u001b[0;34m[\u001b[0m\u001b[0;36m3\u001b[0m\u001b[0;34m]\u001b[0m\u001b[0;34m\u001b[0m\u001b[0m\n\u001b[0;32m---> 19\u001b[0;31m     \u001b[0mfifth_breakfast_recipe_name\u001b[0m\u001b[0;34m,\u001b[0m \u001b[0mfifth_breakfast_recipe_url\u001b[0m \u001b[0;34m=\u001b[0m \u001b[0mbreakfast_recipe_names\u001b[0m\u001b[0;34m[\u001b[0m\u001b[0;36m4\u001b[0m\u001b[0;34m]\u001b[0m\u001b[0;34m,\u001b[0m \u001b[0mbreakfast_recipe_urls\u001b[0m\u001b[0;34m[\u001b[0m\u001b[0;36m4\u001b[0m\u001b[0;34m]\u001b[0m\u001b[0;34m\u001b[0m\u001b[0m\n\u001b[0m\u001b[1;32m     20\u001b[0m \u001b[0;34m\u001b[0m\u001b[0m\n\u001b[1;32m     21\u001b[0m     \u001b[0mfirst_lunch_recipe_name\u001b[0m\u001b[0;34m,\u001b[0m \u001b[0mfirst_lunch_recipe_url\u001b[0m \u001b[0;34m=\u001b[0m \u001b[0mlunch_recipe_names\u001b[0m\u001b[0;34m[\u001b[0m\u001b[0;36m0\u001b[0m\u001b[0;34m]\u001b[0m\u001b[0;34m,\u001b[0m \u001b[0mlunch_recipe_urls\u001b[0m\u001b[0;34m[\u001b[0m\u001b[0;36m0\u001b[0m\u001b[0;34m]\u001b[0m\u001b[0;34m\u001b[0m\u001b[0m\n",
      "\u001b[0;31mIndexError\u001b[0m: list index out of range"
     ]
    }
   ],
   "source": [
    "flask_output(features, df, yummly_df, periods=90, date=converted_data['Date'])"
   ]
  },
  {
   "cell_type": "code",
   "execution_count": null,
   "metadata": {
    "ExecuteTime": {
     "end_time": "2018-09-16T03:07:13.952462Z",
     "start_time": "2018-09-16T03:07:04.167Z"
    }
   },
   "outputs": [],
   "source": [
    "trial = flask_output(features, df, yummly_df, periods=90, date=converted_data['Date'])\n",
    "\n",
    "trial"
   ]
  },
  {
   "cell_type": "code",
   "execution_count": null,
   "metadata": {
    "ExecuteTime": {
     "end_time": "2018-09-16T03:07:13.956234Z",
     "start_time": "2018-09-16T03:07:04.944Z"
    }
   },
   "outputs": [],
   "source": [
    "breakfast_img = trial['breakfast_image']\n",
    "\n",
    "breakfast_img"
   ]
  },
  {
   "cell_type": "code",
   "execution_count": null,
   "metadata": {},
   "outputs": [],
   "source": []
  },
  {
   "cell_type": "code",
   "execution_count": 146,
   "metadata": {
    "ExecuteTime": {
     "end_time": "2018-09-14T02:30:44.350002Z",
     "start_time": "2018-09-14T02:30:44.031553Z"
    }
   },
   "outputs": [],
   "source": [
    "from PIL import Image\n",
    "import urllib\n",
    "from io import BytesIO\n",
    "\n",
    "file = BytesIO(urllib.request.urlopen(breakfast_img).read())\n",
    "img = Image.open(file)"
   ]
  },
  {
   "cell_type": "code",
   "execution_count": 147,
   "metadata": {
    "ExecuteTime": {
     "end_time": "2018-09-14T02:30:47.027585Z",
     "start_time": "2018-09-14T02:30:46.981573Z"
    }
   },
   "outputs": [
    {
     "data": {
      "image/png": "[encoded data removed]",
      "text/plain": [
       "<PIL.JpegImagePlugin.JpegImageFile image mode=RGB size=360x240 at 0x1A2A1BE668>"
      ]
     },
     "execution_count": 147,
     "metadata": {},
     "output_type": "execute_result"
    }
   ],
   "source": [
    "img"
   ]
  },
  {
   "cell_type": "code",
   "execution_count": null,
   "metadata": {},
   "outputs": [],
   "source": [
    "from PIL import Image\n",
    "import urllib\n",
    "from io import BytesIO\n",
    "\n",
    "def get_image(image):\n",
    "    file = BytesIO(urllib.request.urlopen(breakfast_img).read())\n",
    "    img = Image.open(file)\n",
    "    return img"
   ]
  },
  {
   "cell_type": "code",
   "execution_count": null,
   "metadata": {},
   "outputs": [],
   "source": [
    "breakfast_recipe_names = [i[0] for i in breakfast_recipes]\n",
    "lunch_recipe_names = [i[0] for i in lunch_recipes]\n",
    "dinner_recipe_names = [i[0] for i in dinner_recipes]\n",
    "\n",
    "breakfast_recipe_info = [i[1] for i in breakfast_recipes]\n",
    "lunch_recipe_info = [i[1] for i in lunch_recipes]\n",
    "dinner_recipe_info = [i[1] for i in dinner_recipes]\n",
    "\n",
    "breakfast_recipe_urls = [i[2] for i in breakfast_recipes]\n",
    "lunch_recipe_urls = [i[2] for i in lunch_recipes]\n",
    "dinner_recipe_urls = [i[2] for i in dinner_recipes]\n",
    "\n",
    "\n",
    "\n",
    "first_breakfast_recipe_name, first_breakfast_recipe_info, first_breakfast_recipe_url = breakfast_recipe_names[\n",
    "    0], breakfast_recipe_urls[0]\n",
    "second_breakfast_recipe_name, second_breakfast_recipe_url = breakfast_recipe_names[\n",
    "    1], breakfast_recipe_urls[1]\n",
    "third_breakfast_recipe_name, third_breakfast_recipe_url = breakfast_recipe_names[\n",
    "    2], breakfast_recipe_urls[2]\n",
    "fourth_breakfast_recipe_name, fourth_breakfast_recipe_url = breakfast_recipe_names[\n",
    "    3], breakfast_recipe_urls[3]\n",
    "fifth_breakfast_recipe_name, fifth_breakfast_recipe_url = breakfast_recipe_names[\n",
    "    4], breakfast_recipe_urls[4]\n",
    "\n",
    "first_lunch_recipe_name, first_lunch_recipe_url = lunch_recipe_names[0], lunch_recipe_urls[0]\n",
    "second_lunch_recipe_name, second_lunch_recipe_url = lunch_recipe_names[1], lunch_recipe_urls[1]\n",
    "third_lunch_recipe_name, third_lunch_recipe_url = lunch_recipe_names[2], lunch_recipe_urls[2]\n",
    "fourth_lunch_recipe_name, fourth_lunch_recipe_url = lunch_recipe_names[3], lunch_recipe_urls[3]\n",
    "fifth_lunch_recipe_name, fifth_lunch_recipe_url = lunch_recipe_names[4], lunch_recipe_urls[4]\n",
    "\n",
    "first_dinner_recipe_name, first_dinner_recipe_url = dinner_recipe_names[0], dinner_recipe_urls[0]\n",
    "second_dinner_recipe_name, second_dinner_recipe_url = dinner_recipe_names[1], dinner_recipe_urls[1]\n",
    "third_dinner_recipe_name, third_dinner_recipe_url = dinner_recipe_names[2], dinner_recipe_urls[2]\n",
    "fourth_dinner_recipe_name, fourth_dinner_recipe_url = dinner_recipe_names[3], dinner_recipe_urls[3]\n",
    "fifth_dinner_recipe_name, fifth_dinner_recipe_url = dinner_recipe_names[4], dinner_recipe_urls[4]"
   ]
  },
  {
   "cell_type": "code",
   "execution_count": 216,
   "metadata": {
    "ExecuteTime": {
     "end_time": "2018-09-16T03:13:32.894101Z",
     "start_time": "2018-09-16T03:13:32.884685Z"
    }
   },
   "outputs": [],
   "source": [
    "ordinal_list = ['first', 'second', 'third', 'fourth', 'fifth']\n",
    "meal_name = 'breakfast'\n",
    "\n",
    "def get_recipe_info(recipe_list, ordinal_list, meal_name):\n",
    "    d={}\n",
    "    d[\"{0}_recipe_names\".format(meal_name)] = [i[0] for i in recipe_list]\n",
    "    d[\"{0}_recipe_info\".format(meal_name)] = [i[1] for i in recipe_list]\n",
    "    d[\"{0}_recipe_urls\".format(meal_name)] = [i[2] for i in recipe_list]\n",
    "    for index, ordinal in enumerate(ordinal_list):\n",
    "        try:\n",
    "            d[\"{0}_{1}_recipe_name\".format(ordinal, meal_name)] = d[\"{0}_recipe_names\".format(meal_name)][index]\n",
    "            d[\"{0}_{1}_recipe_info\".format(ordinal, meal_name)] = d[\"{0}_recipe_info\".format(meal_name)][index]\n",
    "            d[\"{0}_{1}_recipe_url\".format(ordinal, meal_name)] = d[\"{0}_recipe_urls\".format(meal_name)][index]\n",
    "        except:\n",
    "            d[\"{0}_{1}_recipe_name\".format(ordinal, meal_name)] = 'More recipes coming soon!'\n",
    "            d[\"{0}_{1}_recipe_name\".format(ordinal, meal_name)] = ''\n",
    "            d[\"{0}_{1}_recipe_name\".format(ordinal, meal_name)] = ''\n",
    "    return d"
   ]
  },
  {
   "cell_type": "code",
   "execution_count": 217,
   "metadata": {
    "ExecuteTime": {
     "end_time": "2018-09-16T03:13:33.460372Z",
     "start_time": "2018-09-16T03:13:33.455481Z"
    }
   },
   "outputs": [
    {
     "data": {
      "text/plain": [
       "{'breakfast_recipe_info': [('389.52 Calories',\n",
       "   '29.84 g Fat',\n",
       "   '17.83 g Protein',\n",
       "   '11.65 g Carbs'),\n",
       "  ('354.01 Calories', '29.81 g Fat', '17.91 g Protein', '4.95 g Carbs'),\n",
       "  ('329.93 Calories', '20.4 g Fat', '13.62 g Protein', '23.26 g Carbs'),\n",
       "  ('349.19 Calories', '9.36 g Fat', '9.14 g Protein', '60.91 g Carbs')],\n",
       " 'breakfast_recipe_names': ['Southern Style Country Sausage Gravy',\n",
       "  'Greek-style Omelette',\n",
       "  'Spinach Feta Quiche with Flakey Phyllo Dough Crust',\n",
       "  'Hearty Pancakes'],\n",
       " 'breakfast_recipe_urls': ['http://carrieshomecooking.com/country-sausage-gravy/',\n",
       "  'http://www.themediterraneandietitian.com/recipe/greek-style-omelette/',\n",
       "  'http://www.wellplated.com/spinach-feta-quiche/',\n",
       "  'http://www.health.com/health/recipe/0,,10000000780384,00.html'],\n",
       " 'fifth_breakfast_recipe_name': '',\n",
       " 'first_breakfast_recipe_info': ('389.52 Calories',\n",
       "  '29.84 g Fat',\n",
       "  '17.83 g Protein',\n",
       "  '11.65 g Carbs'),\n",
       " 'first_breakfast_recipe_name': 'Southern Style Country Sausage Gravy',\n",
       " 'first_breakfast_recipe_url': 'http://carrieshomecooking.com/country-sausage-gravy/',\n",
       " 'fourth_breakfast_recipe_info': ('349.19 Calories',\n",
       "  '9.36 g Fat',\n",
       "  '9.14 g Protein',\n",
       "  '60.91 g Carbs'),\n",
       " 'fourth_breakfast_recipe_name': 'Hearty Pancakes',\n",
       " 'fourth_breakfast_recipe_url': 'http://www.health.com/health/recipe/0,,10000000780384,00.html',\n",
       " 'second_breakfast_recipe_info': ('354.01 Calories',\n",
       "  '29.81 g Fat',\n",
       "  '17.91 g Protein',\n",
       "  '4.95 g Carbs'),\n",
       " 'second_breakfast_recipe_name': 'Greek-style Omelette',\n",
       " 'second_breakfast_recipe_url': 'http://www.themediterraneandietitian.com/recipe/greek-style-omelette/',\n",
       " 'third_breakfast_recipe_info': ('329.93 Calories',\n",
       "  '20.4 g Fat',\n",
       "  '13.62 g Protein',\n",
       "  '23.26 g Carbs'),\n",
       " 'third_breakfast_recipe_name': 'Spinach Feta Quiche with Flakey Phyllo Dough Crust',\n",
       " 'third_breakfast_recipe_url': 'http://www.wellplated.com/spinach-feta-quiche/'}"
      ]
     },
     "execution_count": 217,
     "metadata": {},
     "output_type": "execute_result"
    }
   ],
   "source": [
    "get_recipe_info(breakfast_recipes, ordinal_list, meal_name)"
   ]
  },
  {
   "cell_type": "code",
   "execution_count": 209,
   "metadata": {
    "ExecuteTime": {
     "end_time": "2018-09-16T03:07:26.279613Z",
     "start_time": "2018-09-16T03:07:26.273443Z"
    }
   },
   "outputs": [
    {
     "data": {
      "text/plain": [
       "[['Southern Style Country Sausage Gravy',\n",
       "  ('389.52 Calories', '29.84 g Fat', '17.83 g Protein', '11.65 g Carbs'),\n",
       "  'http://carrieshomecooking.com/country-sausage-gravy/',\n",
       "  'https://lh3.googleusercontent.com/wUruFHdtBTHvSHE4atDd3sEh9gXCyePq9wzCkytyEBBHWcblCEurJ25nmKrtzzERnCDMGdVzmmMZPa--dvdwIA=s360',\n",
       "  0.80652993892996],\n",
       " ['Greek-style Omelette',\n",
       "  ('354.01 Calories', '29.81 g Fat', '17.91 g Protein', '4.95 g Carbs'),\n",
       "  'http://www.themediterraneandietitian.com/recipe/greek-style-omelette/',\n",
       "  'https://lh3.googleusercontent.com/WY9kN3_F1i7s3bUYJyxSDj1jbL1gORbu9hxa5Uj5-sde3wQno8tFMp7q-hmZvVBMc2ILvQZT8C3p1tZ3YdXGlis=s360',\n",
       "  0.7473220039381573],\n",
       " ['Spinach Feta Quiche with Flakey Phyllo Dough Crust',\n",
       "  ('329.93 Calories', '20.4 g Fat', '13.62 g Protein', '23.26 g Carbs'),\n",
       "  'http://www.wellplated.com/spinach-feta-quiche/',\n",
       "  'https://lh3.googleusercontent.com/0Cf1QG1-iLjNS9mGKKZLZcySW3yUMmYO5Hx7_WW9wxGh2bOxyVIqq-irJQod9EVekCWzF8sxuABqBCYSfEHw=s360',\n",
       "  0.8598246794949054],\n",
       " ['Hearty Pancakes',\n",
       "  ('349.19 Calories', '9.36 g Fat', '9.14 g Protein', '60.91 g Carbs'),\n",
       "  'http://www.health.com/health/recipe/0,,10000000780384,00.html',\n",
       "  'http://lh5.ggpht.com/dai8ZRWRKr3NH9niGkYesBJ4iuk_GQtU_RqmvBIHBsmwwQY_U12Mb7K-Ifl52TGKVltwzPBVhojmhO-J0UGxexA=s360',\n",
       "  0.6573189152563054]]"
      ]
     },
     "execution_count": 209,
     "metadata": {},
     "output_type": "execute_result"
    }
   ],
   "source": [
    "breakfast_recipes"
   ]
  },
  {
   "cell_type": "code",
   "execution_count": 243,
   "metadata": {
    "ExecuteTime": {
     "end_time": "2018-09-16T04:09:13.241166Z",
     "start_time": "2018-09-16T04:09:05.928413Z"
    }
   },
   "outputs": [],
   "source": [
    "example = {\n",
    "    'Steps': df.describe()['Steps']['mean'],\n",
    "    'Minutes_Sedentary': df.describe()['Minutes_Sedentary']['mean'],\n",
    "    'Minutes_Lightly_Active': df.describe()['Minutes_Lightly_Active']['mean'],\n",
    "    'Minutes_Fairly_Active': df.describe()['Minutes_Fairly_Active']['mean'],\n",
    "    'Minutes_Very_Active': df.describe()['Minutes_Very_Active']['mean'],\n",
    "    'Calories_Breakfast': df.describe()['Calories_Breakfast']['mean'],\n",
    "    'Saturated_Fat_Breakfast': df.describe()['Saturated_Fat_Breakfast']['mean'],\n",
    "    'Cholesterol_Breakfast': df.describe()['Cholesterol_Breakfast']['mean'],\n",
    "    'Polyunsaturated_Fat_Breakfast': df.describe()['Polyunsaturated_Fat_Breakfast']['mean'],\n",
    "    'Monounsaturated_Fat_Breakfast': df.describe()['Monounsaturated_Fat_Breakfast']['mean'],\n",
    "    'Trans_Fat_Breakfast': df.describe()['Trans_Fat_Breakfast']['mean'],\n",
    "    'Carbohydrates_(g)_Breakfast': df.describe()['Carbohydrates_(g)_Breakfast']['mean'],\n",
    "    'Sugar_Breakfast': df.describe()['Sugar_Breakfast']['mean'],\n",
    "    'Sodium_(mg)_Breakfast': df.describe()['Sodium_(mg)_Breakfast']['mean'],\n",
    "    'Protein_(g)_Breakfast': df.describe()['Protein_(g)_Breakfast']['mean'],\n",
    "    'Calories_Lunch': df.describe()['Calories_Lunch']['mean'],\n",
    "    'Saturated_Fat_Lunch': df.describe()['Saturated_Fat_Lunch']['mean'],\n",
    "    'Polyunsaturated_Fat_Lunch': df.describe()['Polyunsaturated_Fat_Lunch']['mean'],\n",
    "    'Monounsaturated_Fat_Lunch': df.describe()['Monounsaturated_Fat_Lunch']['mean'],\n",
    "    'Trans_Fat_Lunch': df.describe()['Trans_Fat_Lunch']['mean'],\n",
    "    'Cholesterol_Lunch': df.describe()['Cholesterol_Lunch']['mean'],\n",
    "    'Sodium_(mg)_Lunch': df.describe()['Sodium_(mg)_Lunch']['mean'],\n",
    "    'Carbohydrates_(g)_Lunch': df.describe()['Carbohydrates_(g)_Lunch']['mean'],\n",
    "    'Sugar_Lunch': df.describe()['Sugar_Lunch']['mean'],\n",
    "    'Protein_(g)_Lunch': df.describe()['Protein_(g)_Lunch']['mean'],\n",
    "    'Calories_Dinner': df.describe()['Calories_Dinner']['mean'],\n",
    "    'Saturated_Fat_Dinner': df.describe()['Saturated_Fat_Dinner']['mean'],\n",
    "    'Polyunsaturated_Fat_Dinner': df.describe()['Polyunsaturated_Fat_Dinner']['mean'],\n",
    "    'Monounsaturated_Fat_Dinner': df.describe()['Monounsaturated_Fat_Dinner']['mean'],\n",
    "    'Trans_Fat_Dinner': df.describe()['Trans_Fat_Dinner']['mean'],\n",
    "    'Cholesterol_Dinner': df.describe()['Cholesterol_Dinner']['mean'],\n",
    "    'Sodium_(mg)_Dinner': df.describe()['Sodium_(mg)_Dinner']['mean'],\n",
    "    'Carbohydrates_(g)_Dinner': df.describe()['Carbohydrates_(g)_Dinner']['mean'],\n",
    "    'Sugar_Dinner': df.describe()['Sugar_Dinner']['mean'],\n",
    "    'Protein_(g)_Dinner': df.describe()['Protein_(g)_Dinner']['mean'],\n",
    "}\n",
    "\n",
    "\n",
    "def prophet_forecast_weight(features, df, periods, date, cap=None, floor=170):\n",
    "    future = prophet_final.make_future_dataframe(periods=periods)\n",
    "    future['floor'] = 170\n",
    "\n",
    "    steps_regressors_df = df[['Date', 'Steps', 'Minutes_Sedentary', 'Minutes_Lightly_Active',\n",
    "                              'Minutes_Fairly_Active', 'Minutes_Very_Active', 'Calories_Breakfast',\n",
    "                              'Saturated_Fat_Breakfast', 'Cholesterol_Breakfast',\n",
    "                              'Polyunsaturated_Fat_Breakfast', 'Monounsaturated_Fat_Breakfast',\n",
    "                              'Trans_Fat_Breakfast', 'Carbohydrates_(g)_Breakfast', 'Sugar_Breakfast',\n",
    "                              'Sodium_(mg)_Breakfast',\n",
    "                              'Protein_(g)_Breakfast', 'Calories_Lunch', 'Saturated_Fat_Lunch',\n",
    "                              'Polyunsaturated_Fat_Lunch', 'Monounsaturated_Fat_Lunch',\n",
    "                              'Trans_Fat_Lunch', 'Cholesterol_Lunch', 'Sodium_(mg)_Lunch',\n",
    "                              'Carbohydrates_(g)_Lunch', 'Sugar_Lunch', 'Protein_(g)_Lunch',\n",
    "                              'Calories_Dinner', 'Saturated_Fat_Dinner', 'Polyunsaturated_Fat_Dinner',\n",
    "                              'Monounsaturated_Fat_Dinner', 'Trans_Fat_Dinner', 'Cholesterol_Dinner',\n",
    "                              'Sodium_(mg)_Dinner', 'Carbohydrates_(g)_Dinner',\n",
    "                              'Sugar_Dinner', 'Protein_(g)_Dinner']]\n",
    "\n",
    "    columns = ['Steps', 'Minutes_Sedentary', 'Minutes_Lightly_Active',\n",
    "               'Minutes_Fairly_Active', 'Minutes_Very_Active', 'Calories_Breakfast',\n",
    "               'Saturated_Fat_Breakfast', 'Cholesterol_Breakfast',\n",
    "               'Polyunsaturated_Fat_Breakfast', 'Monounsaturated_Fat_Breakfast',\n",
    "               'Trans_Fat_Breakfast', 'Carbohydrates_(g)_Breakfast', 'Sugar_Breakfast',\n",
    "               'Sodium_(mg)_Breakfast',\n",
    "               'Protein_(g)_Breakfast', 'Calories_Lunch', 'Saturated_Fat_Lunch',\n",
    "               'Polyunsaturated_Fat_Lunch', 'Monounsaturated_Fat_Lunch',\n",
    "               'Trans_Fat_Lunch', 'Cholesterol_Lunch', 'Sodium_(mg)_Lunch',\n",
    "               'Carbohydrates_(g)_Lunch', 'Sugar_Lunch', 'Protein_(g)_Lunch',\n",
    "               'Calories_Dinner', 'Saturated_Fat_Dinner', 'Polyunsaturated_Fat_Dinner',\n",
    "               'Monounsaturated_Fat_Dinner', 'Trans_Fat_Dinner', 'Cholesterol_Dinner',\n",
    "               'Sodium_(mg)_Dinner', 'Carbohydrates_(g)_Dinner',\n",
    "               'Sugar_Dinner', 'Protein_(g)_Dinner']\n",
    "\n",
    "    future = future.merge(steps_regressors_df, left_on='ds', right_on='Date', how='left')\n",
    "\n",
    "    for i in columns:\n",
    "        future[i].iloc[-periods:] = features[i]\n",
    "\n",
    "    forecast = prophet_final.predict(future)\n",
    "\n",
    "    predicted_weight = np.round(forecast[forecast['ds'] == date]['yhat'].values[0], 2)\n",
    "    predicted_weight_upper = np.round(forecast[forecast['ds'] == date]['yhat_upper'].values[0], 2)\n",
    "    predicted_weight_lower = np.round(forecast[forecast['ds'] == date]['yhat_lower'].values[0], 2)\n",
    "\n",
    "    result = {\n",
    "\n",
    "        'predicted_weight': predicted_weight,\n",
    "        'predicted_weight_upper': predicted_weight_upper,\n",
    "        'predicted_weight_lower': predicted_weight_lower\n",
    "\n",
    "    }\n",
    "\n",
    "    return predicted_weight, predicted_weight_upper, predicted_weight_lower\n",
    "\n",
    "\n",
    "def nutritional_breakdown(df, converted_data):\n",
    "\n",
    "    total_calories = converted_data['Daily_Calories']\n",
    "    percent_fat = converted_data['Daily_Fat']\n",
    "    percent_protein = converted_data['Daily_Protein']\n",
    "    percent_carb = converted_data['Daily_Carbs']\n",
    "    percent_breakfast = converted_data['Percent_Breakfast']\n",
    "    percent_lunch = converted_data['Percent_Lunch']\n",
    "    percent_dinner = converted_data['Percent_Dinner']\n",
    "\n",
    "    nutrient_breakdown = {\n",
    "        'Calories_Breakfast': np.mean(df['Calories_Breakfast']),\n",
    "        'Saturated_Fat_Breakfast': np.mean(df['Saturated_Fat_Breakfast']),\n",
    "        'Cholesterol_Breakfast': np.mean(df['Cholesterol_Breakfast']),\n",
    "        'Polyunsaturated_Fat_Breakfast': np.mean(df['Polyunsaturated_Fat_Breakfast']),\n",
    "        'Monounsaturated_Fat_Breakfast': np.mean(df['Monounsaturated_Fat_Breakfast']),\n",
    "        'Trans_Fat_Breakfast': np.mean(df['Trans_Fat_Breakfast']),\n",
    "        'Carbohydrates_(g)_Breakfast': np.mean(df['Carbohydrates_(g)_Breakfast']),\n",
    "        'Sugar_Breakfast': np.mean(df['Sugar_Breakfast']),\n",
    "        'Sodium_(mg)_Breakfast': np.mean(df['Sodium_(mg)_Breakfast']),\n",
    "        'Protein_(g)_Breakfast': np.mean(df['Protein_(g)_Breakfast']),\n",
    "        'Calories_Lunch': np.mean(df['Calories_Lunch']),\n",
    "        'Saturated_Fat_Lunch': np.mean(df['Saturated_Fat_Lunch']),\n",
    "        'Polyunsaturated_Fat_Lunch': np.mean(df['Polyunsaturated_Fat_Lunch']),\n",
    "        'Monounsaturated_Fat_Lunch': np.mean(df['Monounsaturated_Fat_Lunch']),\n",
    "        'Trans_Fat_Lunch': np.mean(df['Trans_Fat_Lunch']),\n",
    "        'Cholesterol_Lunch': np.mean(df['Cholesterol_Lunch']),\n",
    "        'Sodium_(mg)_Lunch': np.mean(df['Sodium_(mg)_Lunch']),\n",
    "        'Carbohydrates_(g)_Lunch': np.mean(df['Carbohydrates_(g)_Lunch']),\n",
    "        'Sugar_Lunch': np.mean(df['Sugar_Lunch']),\n",
    "        'Protein_(g)_Lunch': np.mean(df['Protein_(g)_Lunch']),\n",
    "        'Calories_Dinner': np.mean(df['Calories_Dinner']),\n",
    "        'Saturated_Fat_Dinner': np.mean(df['Saturated_Fat_Dinner']),\n",
    "        'Polyunsaturated_Fat_Dinner': np.mean(df['Polyunsaturated_Fat_Dinner']),\n",
    "        'Monounsaturated_Fat_Dinner': np.mean(df['Monounsaturated_Fat_Dinner']),\n",
    "        'Trans_Fat_Dinner': np.mean(df['Trans_Fat_Dinner']),\n",
    "        'Cholesterol_Dinner': np.mean(df['Cholesterol_Dinner']),\n",
    "        'Sodium_(mg)_Dinner': np.mean(df['Sodium_(mg)_Dinner']),\n",
    "        'Carbohydrates_(g)_Dinner': np.mean(df['Carbohydrates_(g)_Dinner']),\n",
    "        'Sugar_Dinner': np.mean(df['Sugar_Dinner']),\n",
    "        'Protein_(g)_Dinner': np.mean(df['Protein_(g)_Dinner'])\n",
    "    }\n",
    "\n",
    "    cals_per_g_fat = 9\n",
    "    cals_per_g_protein = 4\n",
    "    cals_per_g_carb = 4\n",
    "\n",
    "    percent_breakfast = percent_breakfast / 100\n",
    "    percent_lunch = percent_lunch / 100\n",
    "    percent_dinner = percent_dinner / 100\n",
    "\n",
    "    percent_fat = percent_fat / 100\n",
    "    percent_protein = percent_protein / 100\n",
    "    percent_carb = percent_carb / 100\n",
    "\n",
    "    breakfast_multiplier = percent_breakfast / np.mean(df['Calories_Breakfast'] / df['Calories'])\n",
    "    lunch_multiplier = percent_lunch / np.mean(df['Calories_Lunch'] / df['Calories'])\n",
    "    dinner_multiplier = percent_dinner / np.mean(df['Calories_Dinner'] / df['Calories'])\n",
    "\n",
    "    g_fat = total_calories * percent_fat / cals_per_g_fat\n",
    "    g_protein = total_calories * percent_protein / cals_per_g_protein\n",
    "    g_carbs = total_calories * percent_carb / cals_per_g_carb\n",
    "\n",
    "    fat_multiplier = g_fat / np.mean(df['Fat (g)'])\n",
    "    protein_multiplier = g_protein / np.mean(df['Protein (g)'])\n",
    "    carb_multiplier = g_carbs / np.mean(df['Carbohydrates (g)'])\n",
    "\n",
    "    fat_breakdown = {}\n",
    "\n",
    "    fat_columns = ['Saturated_Fat_Breakfast', 'Cholesterol_Breakfast',\n",
    "                   'Polyunsaturated_Fat_Breakfast', 'Monounsaturated_Fat_Breakfast',\n",
    "                   'Trans_Fat_Breakfast', 'Sodium_(mg)_Breakfast', 'Saturated_Fat_Lunch',\n",
    "                   'Polyunsaturated_Fat_Lunch', 'Monounsaturated_Fat_Lunch', 'Sodium_(mg)_Lunch',\n",
    "                   'Trans_Fat_Lunch', 'Cholesterol_Lunch', 'Saturated_Fat_Dinner', 'Polyunsaturated_Fat_Dinner',\n",
    "                   'Monounsaturated_Fat_Dinner', 'Trans_Fat_Dinner', 'Cholesterol_Dinner', 'Sodium_(mg)_Dinner']\n",
    "\n",
    "    for i in range(len(fat_columns)):\n",
    "        if i <= 5:\n",
    "            fat_breakdown[fat_columns[i]] = nutrient_breakdown[fat_columns[i]] * \\\n",
    "                fat_multiplier * percent_breakfast\n",
    "        elif i <= 11:\n",
    "            fat_breakdown[fat_columns[i]] = nutrient_breakdown[fat_columns[i]] * \\\n",
    "                fat_multiplier * percent_lunch\n",
    "        else:\n",
    "            fat_breakdown[fat_columns[i]] = nutrient_breakdown[fat_columns[i]] * \\\n",
    "                fat_multiplier * percent_dinner\n",
    "\n",
    "    protein_breakdown = {}\n",
    "\n",
    "    protein_columns = ['Protein_(g)_Breakfast', 'Protein_(g)_Lunch', 'Protein_(g)_Dinner']\n",
    "\n",
    "    protein_breakdown['Protein_(g)_Breakfast'] = nutrient_breakdown['Protein_(g)_Breakfast'] * \\\n",
    "        protein_multiplier * percent_breakfast\n",
    "    protein_breakdown['Protein_(g)_Lunch'] = nutrient_breakdown['Protein_(g)_Lunch'] * \\\n",
    "        protein_multiplier * percent_lunch\n",
    "    protein_breakdown['Protein_(g)_Dinner'] = nutrient_breakdown['Protein_(g)_Dinner'] * \\\n",
    "        protein_multiplier * percent_dinner\n",
    "\n",
    "    carb_breakdown = {}\n",
    "\n",
    "    carb_columns = ['Carbohydrates_(g)_Breakfast', 'Sugar_Breakfast', 'Carbohydrates_(g)_Lunch',\n",
    "                    'Sugar_Lunch', 'Carbohydrates_(g)_Dinner', 'Sugar_Dinner']\n",
    "\n",
    "    for i in range(len(carb_columns)):\n",
    "        if i <= 1:\n",
    "            carb_breakdown[carb_columns[i]] = nutrient_breakdown[carb_columns[i]] * \\\n",
    "                carb_multiplier * percent_breakfast\n",
    "        elif i <= 3:\n",
    "            carb_breakdown[carb_columns[i]] = nutrient_breakdown[carb_columns[i]] * \\\n",
    "                carb_multiplier * percent_lunch\n",
    "        else:\n",
    "            carb_breakdown[carb_columns[i]] = nutrient_breakdown[carb_columns[i]] * \\\n",
    "                carb_multiplier * percent_dinner\n",
    "\n",
    "    calories_breakdown = {}\n",
    "\n",
    "    calories_columns = ['Calories_Breakfast', 'Calories_Lunch', 'Calories_Dinner']\n",
    "\n",
    "    calories_breakdown['Calories_Breakfast'] = total_calories * percent_breakfast\n",
    "    calories_breakdown['Calories_Lunch'] = total_calories * percent_lunch\n",
    "    calories_breakdown['Calories_Dinner'] = total_calories * percent_dinner\n",
    "\n",
    "    return fat_breakdown, protein_breakdown, carb_breakdown, calories_breakdown\n",
    "\n",
    "\n",
    "def get_image(image):\n",
    "    file = BytesIO(urllib.request.urlopen(image).read())\n",
    "    img = Image.open(file)\n",
    "    return img\n",
    "\n",
    "\n",
    "def get_features(converted_data, fat_breakdown, protein_breakdown, carb_breakdown, calorie_breakdown):\n",
    "    minutes_sedentary = (1440 - converted_data['Minutes_Lightly_Active'] -\n",
    "                         converted_data['Minutes_Fairly_Active'] - converted_data['Minutes_Very_Active'])\n",
    "\n",
    "    features = {\n",
    "        'Steps': converted_data['Steps'],\n",
    "        'Minutes_Sedentary': minutes_sedentary,\n",
    "        'Minutes_Lightly_Active': converted_data['Minutes_Lightly_Active'],\n",
    "        'Minutes_Fairly_Active': converted_data['Minutes_Fairly_Active'],\n",
    "        'Minutes_Very_Active': converted_data['Minutes_Very_Active'],\n",
    "        'Calories_Breakfast': calorie_breakdown['Calories_Breakfast'],\n",
    "        'Saturated_Fat_Breakfast': fat_breakdown['Saturated_Fat_Breakfast'],\n",
    "        'Cholesterol_Breakfast': fat_breakdown['Cholesterol_Breakfast'],\n",
    "        'Polyunsaturated_Fat_Breakfast': fat_breakdown['Polyunsaturated_Fat_Breakfast'],\n",
    "        'Monounsaturated_Fat_Breakfast': fat_breakdown['Monounsaturated_Fat_Breakfast'],\n",
    "        'Trans_Fat_Breakfast': fat_breakdown['Trans_Fat_Breakfast'],\n",
    "        'Carbohydrates_(g)_Breakfast': carb_breakdown['Carbohydrates_(g)_Breakfast'],\n",
    "        'Sugar_Breakfast': carb_breakdown['Sugar_Breakfast'],\n",
    "        'Sodium_(mg)_Breakfast': fat_breakdown['Sodium_(mg)_Breakfast'],\n",
    "        'Protein_(g)_Breakfast': protein_breakdown['Protein_(g)_Breakfast'],\n",
    "        'Calories_Lunch': calorie_breakdown['Calories_Lunch'],\n",
    "        'Saturated_Fat_Lunch': fat_breakdown['Saturated_Fat_Lunch'],\n",
    "        'Polyunsaturated_Fat_Lunch': fat_breakdown['Polyunsaturated_Fat_Lunch'],\n",
    "        'Monounsaturated_Fat_Lunch': fat_breakdown['Monounsaturated_Fat_Lunch'],\n",
    "        'Trans_Fat_Lunch': fat_breakdown['Trans_Fat_Lunch'],\n",
    "        'Cholesterol_Lunch': fat_breakdown['Cholesterol_Lunch'],\n",
    "        'Sodium_(mg)_Lunch': fat_breakdown['Sodium_(mg)_Lunch'],\n",
    "        'Carbohydrates_(g)_Lunch': carb_breakdown['Carbohydrates_(g)_Lunch'],\n",
    "        'Sugar_Lunch': carb_breakdown['Sugar_Lunch'],\n",
    "        'Protein_(g)_Lunch': protein_breakdown['Protein_(g)_Lunch'],\n",
    "        'Calories_Dinner': calorie_breakdown['Calories_Dinner'],\n",
    "        'Saturated_Fat_Dinner': fat_breakdown['Saturated_Fat_Dinner'],\n",
    "        'Polyunsaturated_Fat_Dinner': fat_breakdown['Polyunsaturated_Fat_Dinner'],\n",
    "        'Monounsaturated_Fat_Dinner': fat_breakdown['Monounsaturated_Fat_Dinner'],\n",
    "        'Trans_Fat_Dinner': fat_breakdown['Trans_Fat_Dinner'],\n",
    "        'Cholesterol_Dinner': fat_breakdown['Cholesterol_Dinner'],\n",
    "        'Sodium_(mg)_Dinner': fat_breakdown['Sodium_(mg)_Dinner'],\n",
    "        'Carbohydrates_(g)_Dinner': carb_breakdown['Carbohydrates_(g)_Dinner'],\n",
    "        'Sugar_Dinner': carb_breakdown['Sugar_Dinner'],\n",
    "        'Protein_(g)_Dinner': protein_breakdown['Protein_(g)_Dinner']\n",
    "    }\n",
    "\n",
    "    return features\n",
    "\n",
    "\n",
    "def recipe_cosine_similarity(ideal_recipe_vec, new_recipe_vec):\n",
    "    # ideal_recipe_vec == array of [ideal_meal_cals, ideal_meal_fat, ideal_meal_protein, ideal_meal_carb]\n",
    "    # new_recipe_vec == array of [new_meal_cals, new_meal_fat, new_meal_protein, new_meal_carb]\n",
    "    return np.dot(ideal_recipe_vec, new_recipe_vec) / np.sqrt(np.dot(ideal_recipe_vec, ideal_recipe_vec) * np.dot(new_recipe_vec, new_recipe_vec))\n",
    "\n",
    "\n",
    "def get_closest_recipes(ideal_recipe_vec, new_recipe_vecs):\n",
    "    recipe_similarities = []\n",
    "    for i in new_recipe_vecs:\n",
    "        new_recipe_vec = i[2]\n",
    "        recipe_info = (str(new_recipe_vec[0]) + ' Calories', str(new_recipe_vec[1]) + ' g Fat', str(\n",
    "            new_recipe_vec[2]) + ' g Protein', str(new_recipe_vec[3]) + ' g Carbs')\n",
    "        cosine_sim = recipe_cosine_similarity(ideal_recipe_vec[1:], new_recipe_vec[1:])\n",
    "        if np.isnan(cosine_sim) == False:\n",
    "            recipe_similarities.append([i[1], recipe_info, i[3], i[4], cosine_sim])\n",
    "\n",
    "    recipe_similarities = sorted(recipe_similarities, key=lambda x: x[3], reverse=True)\n",
    "\n",
    "    return recipe_similarities[:5]\n",
    "\n",
    "\n",
    "def food_recommendations(df, converted_data):\n",
    "\n",
    "    cuisine_list = [key for key, value in converted_data.items() if value != 0.0]\n",
    "\n",
    "    total_calories = converted_data['Daily_Calories']\n",
    "    percent_fat = converted_data['Daily_Fat']\n",
    "    percent_protein = converted_data['Daily_Protein']\n",
    "    percent_carb = converted_data['Daily_Carbs']\n",
    "    percent_breakfast = converted_data['Percent_Breakfast']\n",
    "    percent_lunch = converted_data['Percent_Lunch']\n",
    "    percent_dinner = converted_data['Percent_Dinner']\n",
    "\n",
    "    breakfast_df = df[df['course'].str.contains(\n",
    "        'breakfast') & df['cuisine'].str.contains('|'.join(cuisine_list))]\n",
    "    lunch_df = df[df['course'].str.contains(\n",
    "        'lunch') & df['cuisine'].str.contains('|'.join(cuisine_list))]\n",
    "    dinner_df = df[df['course'].str.contains(\n",
    "        'main dishes') & df['cuisine'].str.contains('|'.join(cuisine_list))]\n",
    "\n",
    "    cals_per_g_fat = 9\n",
    "    cals_per_g_protein = 4\n",
    "    cals_per_g_carb = 4\n",
    "\n",
    "    percent_breakfast = percent_breakfast / 100\n",
    "    percent_lunch = percent_lunch / 100\n",
    "    percent_dinner = percent_dinner / 100\n",
    "\n",
    "    calories_breakdown = {}\n",
    "\n",
    "    calories_columns = ['Calories_Breakfast', 'Calories_Lunch', 'Calories_Dinner']\n",
    "\n",
    "    calories_breakdown['Calories_Breakfast'] = total_calories * percent_breakfast\n",
    "    calories_breakdown['Calories_Lunch'] = total_calories * percent_lunch\n",
    "    calories_breakdown['Calories_Dinner'] = total_calories * percent_dinner\n",
    "\n",
    "    breakfast_df = df[df['course'].str.contains('breakfast') & df['cuisine'].str.contains('|'.join(cuisine_list)) & (\n",
    "        (calories_breakdown['Calories_Breakfast'] - 150) < df['energy_kcal']) & (df['energy_kcal'] < (calories_breakdown['Calories_Breakfast'] + 150))]\n",
    "    lunch_df = df[df['course'].str.contains('lunch') & df['cuisine'].str.contains('|'.join(cuisine_list)) & (\n",
    "        (calories_breakdown['Calories_Lunch'] - 150) < df['energy_kcal']) & (df['energy_kcal'] < (calories_breakdown['Calories_Lunch'] + 150))]\n",
    "    dinner_df = df[df['course'].str.contains('main dishes') & df['cuisine'].str.contains('|'.join(cuisine_list)) & (\n",
    "        (calories_breakdown['Calories_Dinner'] - 150) < df['energy_kcal']) & (df['energy_kcal'] < (calories_breakdown['Calories_Dinner'] + 150))]\n",
    "\n",
    "    percent_fat = percent_fat / 100\n",
    "    percent_protein = percent_protein / 100\n",
    "    percent_carb = percent_carb / 100\n",
    "\n",
    "    breakfast_recipes = []\n",
    "\n",
    "    g_fat = total_calories * percent_fat / cals_per_g_fat\n",
    "    g_protein = total_calories * percent_protein / cals_per_g_protein\n",
    "    g_carbs = total_calories * percent_carb / cals_per_g_carb\n",
    "\n",
    "    g_fat_breakfast = g_fat * percent_breakfast\n",
    "    g_fat_lunch = g_fat * percent_lunch\n",
    "    g_fat_dinner = g_fat * percent_dinner\n",
    "\n",
    "    g_protein_breakfast = g_protein * percent_breakfast\n",
    "    g_protein_lunch = g_protein * percent_lunch\n",
    "    g_protein_dinner = g_protein * percent_dinner\n",
    "\n",
    "    g_carbs_breakfast = g_carbs * percent_breakfast\n",
    "    g_carbs_lunch = g_carbs * percent_lunch\n",
    "    g_carbs_dinner = g_carbs * percent_dinner\n",
    "\n",
    "    ideal_breakfast_recipe_vec = [calories_breakdown['Calories_Breakfast'],\n",
    "                                  g_fat_breakfast, g_protein_breakfast, g_carbs_breakfast]\n",
    "    ideal_lunch_recipe_vec = [calories_breakdown['Calories_Lunch'],\n",
    "                              g_fat_lunch, g_protein_lunch, g_carbs_lunch]\n",
    "    ideal_dinner_recipe_vec = [calories_breakdown['Calories_Dinner'],\n",
    "                               g_fat_dinner, g_protein_dinner, g_carbs_dinner]\n",
    "\n",
    "    breakfast_recipe_vecs = [(index, row['name'], row[['energy_kcal', 'fat_g', 'protein_g', 'carbs_g']].values,\n",
    "                              row['source_url'], row['recipe_image']) for index, row in breakfast_df.iterrows()]\n",
    "    lunch_recipe_vecs = [(index, row['name'], row[['energy_kcal', 'fat_g', 'protein_g', 'carbs_g']\n",
    "                                                  ].values, row['source_url'], row['recipe_image']) for index, row in lunch_df.iterrows()]\n",
    "    dinner_recipe_vecs = [(index, row['name'], row[['energy_kcal', 'fat_g', 'protein_g', 'carbs_g']\n",
    "                                                   ].values, row['source_url'], row['recipe_image']) for index, row in dinner_df.iterrows()]\n",
    "\n",
    "    breakfast_recipes = get_closest_recipes(ideal_breakfast_recipe_vec, breakfast_recipe_vecs)\n",
    "    lunch_recipes = get_closest_recipes(ideal_lunch_recipe_vec, lunch_recipe_vecs)\n",
    "    dinner_recipes = get_closest_recipes(ideal_dinner_recipe_vec, dinner_recipe_vecs)\n",
    "    \n",
    "    ideals = {\n",
    "        \n",
    "        'breakfast_calories' : int(calories_breakdown['Calories_Breakfast']),\n",
    "        'lunch_calories' : int(calories_breakdown['Calories_Lunch']),\n",
    "        'dinner_calories' : int(calories_breakdown['Calories_Dinner']),\n",
    "        'breakfast_g_fat' : int(g_fat_breakfast),\n",
    "        'lunch_g_fat' : int(g_fat_lunch),\n",
    "        'dinner_g_fat' : int(g_fat_dinner),\n",
    "        'breakfast_g_protein' : int(g_protein_breakfast),\n",
    "        'lunch_g_protein' : int(g_protein_lunch),\n",
    "        'dinner_g_protein' : int(g_protein_dinner),\n",
    "        'breakfast_g_carbs' : int(g_carbs_breakfast),\n",
    "        'lunch_g_carbs' : int(g_carbs_lunch),\n",
    "        'dinner_g_carbs' : int(g_carbs_dinner)\n",
    "        \n",
    "    }\n",
    "\n",
    "    return breakfast_recipes, lunch_recipes, dinner_recipes, ideals\n",
    "\n",
    "def get_recipe_info(recipe_list, ordinal_list, meal_name):\n",
    "        d={}\n",
    "        d[\"{0}_recipe_names\".format(meal_name)] = [i[0] for i in recipe_list]\n",
    "        d[\"{0}_recipe_info\".format(meal_name)] = [i[1] for i in recipe_list]\n",
    "        d[\"{0}_recipe_urls\".format(meal_name)] = [i[2] for i in recipe_list]\n",
    "        for index, ordinal in enumerate(ordinal_list):\n",
    "            d[\"{0}_{1}_recipe_name\".format(ordinal, meal_name)] = d[\"{0}_recipe_names\".format(meal_name)][index]\n",
    "            d[\"{0}_{1}_recipe_info\".format(ordinal, meal_name)] = d[\"{0}_recipe_info\".format(meal_name)][index]\n",
    "            d[\"{0}_{1}_recipe_url\".format(ordinal, meal_name)] = d[\"{0}_recipe_urls\".format(meal_name)][index]\n",
    "                \n",
    "        return d\n",
    "\n",
    "\n",
    "def flask_output(features, df, yummly_df, converted_data, periods=90):\n",
    "\n",
    "    predicted_weight, predicted_weight_upper, predicted_weight_lower = prophet_forecast_weight(\n",
    "        features, df, periods=90, date=converted_data['Date'])\n",
    "\n",
    "    breakfast_recipes, lunch_recipes, dinner_recipes, ideals = food_recommendations(\n",
    "        yummly_df, converted_data)\n",
    "\n",
    "    ordinal_list = ['first', 'second', 'third', 'fourth', 'fifth']\n",
    "    \n",
    "    breakfast = get_recipe_info(breakfast_recipes, ordinal_list, 'breakfast')\n",
    "    lunch = get_recipe_info(lunch_recipes, ordinal_list, 'lunch')\n",
    "    dinner = get_recipe_info(dinner_recipes, ordinal_list, 'dinner')\n",
    "\n",
    "    # breakfast_image = random.choice([i[2] for i in breakfast_recipes])\n",
    "    # lunch_image = random.choice([i[2] for i in lunch_recipes])\n",
    "    # dinner_image = random.choice([i[2] for i in dinner_recipes])\n",
    "\n",
    "    result = {\n",
    "\n",
    "        'predicted_weight': predicted_weight,\n",
    "        'predicted_weight_upper': predicted_weight_upper,\n",
    "        'predicted_weight_lower': predicted_weight_lower,\n",
    "        'first_breakfast_recipe_name': breakfast['first_breakfast_recipe_name'],\n",
    "        'second_breakfast_recipe_name': breakfast['second_breakfast_recipe_name'],\n",
    "        'third_breakfast_recipe_name': breakfast['third_breakfast_recipe_name'],\n",
    "        'fourth_breakfast_recipe_name': breakfast['fourth_breakfast_recipe_name'],\n",
    "        'fifth_breakfast_recipe_name': breakfast['fifth_breakfast_recipe_name'],\n",
    "        'first_breakfast_recipe_url': breakfast['first_breakfast_recipe_url'],\n",
    "        'second_breakfast_recipe_url': breakfast['second_breakfast_recipe_url'],\n",
    "        'third_breakfast_recipe_url': breakfast['third_breakfast_recipe_url'],\n",
    "        'fourth_breakfast_recipe_url': breakfast['fourth_breakfast_recipe_url'],\n",
    "        'fifth_breakfast_recipe_url': breakfast['fifth_breakfast_recipe_url'],\n",
    "        'first_lunch_recipe_name': lunch['first_lunch_recipe_name'],\n",
    "        'second_lunch_recipe_name': lunch['second_lunch_recipe_name'],\n",
    "        'third_lunch_recipe_name': lunch['third_lunch_recipe_name'],\n",
    "        'fourth_lunch_recipe_name': lunch['fourth_lunch_recipe_name'],\n",
    "        'fifth_lunch_recipe_name': lunch['fifth_lunch_recipe_name'],\n",
    "        'first_lunch_recipe_url': lunch['first_lunch_recipe_url'],\n",
    "        'second_lunch_recipe_url': lunch['second_lunch_recipe_url'],\n",
    "        'third_lunch_recipe_url': lunch['third_lunch_recipe_url'],\n",
    "        'fourth_lunch_recipe_url': lunch['fourth_lunch_recipe_url'],\n",
    "        'fifth_lunch_recipe_url': lunch['fifth_lunch_recipe_url'],\n",
    "        'first_dinner_recipe_name': dinner['first_dinner_recipe_name'],\n",
    "        'second_dinner_recipe_name': dinner['second_dinner_recipe_name'],\n",
    "        'third_dinner_recipe_name': dinner['third_dinner_recipe_name'],\n",
    "        'fourth_dinner_recipe_name': dinner['fourth_dinner_recipe_name'],\n",
    "        'fifth_dinner_recipe_name': dinner['fifth_dinner_recipe_name'],\n",
    "        'first_dinner_recipe_url': dinner['first_dinner_recipe_url'],\n",
    "        'second_dinner_recipe_url': dinner['second_dinner_recipe_url'],\n",
    "        'third_dinner_recipe_url': dinner['third_dinner_recipe_url'],\n",
    "        'fourth_dinner_recipe_url': dinner['fourth_dinner_recipe_url'],\n",
    "        'fifth_dinner_recipe_url': dinner['fifth_dinner_recipe_url'],\n",
    "        'breakfast_calories' : ideals['breakfast_calories'],\n",
    "        'lunch_calories' : ideals['lunch_calories'],\n",
    "        'dinner_calories' : ideals['dinner_calories'],\n",
    "        'breakfast_g_fat' : ideals['breakfast_g_fat'],\n",
    "        'lunch_g_fat' : ideals['lunch_g_fat'],\n",
    "        'dinner_g_fat' : ideals['dinner_g_fat'],\n",
    "        'breakfast_g_protein' : ideals['breakfast_g_protein'],\n",
    "        'lunch_g_protein' : ideals['lunch_g_protein'],\n",
    "        'dinner_g_protein' : ideals['dinner_g_protein'],\n",
    "        'breakfast_g_carbs' : ideals['breakfast_g_carbs'],\n",
    "        'lunch_g_carbs' : ideals['lunch_g_carbs'],\n",
    "        'dinner_g_carbs' : ideals['dinner_g_carbs']\n",
    "        \n",
    "\n",
    "    }\n",
    "\n",
    "    return result"
   ]
  },
  {
   "cell_type": "code",
   "execution_count": 244,
   "metadata": {
    "ExecuteTime": {
     "end_time": "2018-09-16T04:09:22.385296Z",
     "start_time": "2018-09-16T04:09:13.419814Z"
    }
   },
   "outputs": [
    {
     "name": "stderr",
     "output_type": "stream",
     "text": [
      "/Users/brendenrossin/anaconda3/lib/python3.6/site-packages/pandas/core/indexing.py:189: SettingWithCopyWarning: \n",
      "A value is trying to be set on a copy of a slice from a DataFrame\n",
      "\n",
      "See the caveats in the documentation: http://pandas.pydata.org/pandas-docs/stable/indexing.html#indexing-view-versus-copy\n",
      "  self._setitem_with_indexer(indexer, value)\n"
     ]
    },
    {
     "data": {
      "text/plain": [
       "{'breakfast_calories': 400,\n",
       " 'breakfast_g_carbs': 25,\n",
       " 'breakfast_g_fat': 15,\n",
       " 'breakfast_g_protein': 40,\n",
       " 'dinner_calories': 800,\n",
       " 'dinner_g_carbs': 50,\n",
       " 'dinner_g_fat': 31,\n",
       " 'dinner_g_protein': 80,\n",
       " 'fifth_breakfast_recipe_name': 'Greek Egg White Frittata',\n",
       " 'fifth_breakfast_recipe_url': 'http://afitphilosophy.com/2016/07/greek-egg-white-frittata.html',\n",
       " 'fifth_dinner_recipe_name': 'Grilled Salmon with Avocado Greek Salsa and Orzo',\n",
       " 'fifth_dinner_recipe_url': 'https://www.cookingclassy.com/grilled-salmon-avocado-greek-salsa-orzo/',\n",
       " 'fifth_lunch_recipe_name': 'Okonomiyaki (Japanese Cabbage Pancakes)',\n",
       " 'fifth_lunch_recipe_url': 'http://www.rotinrice.com/2015/09/okonomiyaki-japanese-cabbage-pancakes/',\n",
       " 'first_breakfast_recipe_name': 'Eggs with Tomatoes, Olives and Feta (Greek island of Crete)',\n",
       " 'first_breakfast_recipe_url': 'https://www.mediterraneanliving.com/recipe-items/eggs-and-tomatoes-the-cretan-way/',\n",
       " 'first_dinner_recipe_name': 'Southern Fried Catfish',\n",
       " 'first_dinner_recipe_url': 'https://www.lemonsforlulu.com/southern-fried-catfish-recipe/',\n",
       " 'first_lunch_recipe_name': 'Chicken Yakisoba',\n",
       " 'first_lunch_recipe_url': 'http://iamafoodblog.com/chicken-yakisoba/',\n",
       " 'fourth_breakfast_recipe_name': 'Greek-style Omelette',\n",
       " 'fourth_breakfast_recipe_url': 'http://www.themediterraneandietitian.com/recipe/greek-style-omelette/',\n",
       " 'fourth_dinner_recipe_name': 'Japanese Braised Pork Belly (Kakuni)',\n",
       " 'fourth_dinner_recipe_url': 'http://www.wenthere8this.com/japanese-braised-pork-belly-kakuni/',\n",
       " 'fourth_lunch_recipe_name': 'Baked Pimiento Cheese',\n",
       " 'fourth_lunch_recipe_url': 'http://www.myrecipes.com/recipe/baked-pimiento-cheese-0',\n",
       " 'lunch_calories': 800,\n",
       " 'lunch_g_carbs': 50,\n",
       " 'lunch_g_fat': 31,\n",
       " 'lunch_g_protein': 80,\n",
       " 'predicted_weight': 171.08,\n",
       " 'predicted_weight_lower': 168.58,\n",
       " 'predicted_weight_upper': 173.74,\n",
       " 'second_breakfast_recipe_name': 'Eggs with Tomatoes, Olives and Feta (Greek island of Crete)',\n",
       " 'second_breakfast_recipe_url': 'https://www.mediterraneanliving.com/recipe-items/eggs-and-tomatoes-the-cretan-way/',\n",
       " 'second_dinner_recipe_name': 'Chicken Yakisoba',\n",
       " 'second_dinner_recipe_url': 'http://iamafoodblog.com/chicken-yakisoba/',\n",
       " 'second_lunch_recipe_name': 'Hot Dog Maki Roll #SundaySupper',\n",
       " 'second_lunch_recipe_url': 'http://www.kimchimom.com/2016/07/hot-dog-maki-roll-sundaysupper/',\n",
       " 'third_breakfast_recipe_name': 'Southern Style Country Sausage Gravy',\n",
       " 'third_breakfast_recipe_url': 'http://carrieshomecooking.com/country-sausage-gravy/',\n",
       " 'third_dinner_recipe_name': 'Barbecue Yakitori Chicken',\n",
       " 'third_dinner_recipe_url': 'http://www.goodfood.com.au/recipes/barbecue-yakitori-chicken-20140805-3d64t',\n",
       " 'third_lunch_recipe_name': 'Baked Pimiento Cheese',\n",
       " 'third_lunch_recipe_url': 'http://www.myrecipes.com/recipe/baked-pimiento-cheese-0'}"
      ]
     },
     "execution_count": 244,
     "metadata": {},
     "output_type": "execute_result"
    }
   ],
   "source": [
    "flask_output(example, df, yummly_df, converted_data, periods=90)"
   ]
  },
  {
   "cell_type": "code",
   "execution_count": null,
   "metadata": {},
   "outputs": [],
   "source": [
    "def get_recipe_info(recipe_list, ordinal_list, meal_name):\n",
    "        d={}\n",
    "        d[\"{0}_recipe_names\".format(meal_name)] = [i[0] for i in recipe_list]\n",
    "        d[\"{0}_recipe_info\".format(meal_name)] = [i[1] for i in recipe_list]\n",
    "        d[\"{0}_recipe_urls\".format(meal_name)] = [i[2] for i in recipe_list]\n",
    "        for index, ordinal in enumerate(ordinal_list):\n",
    "            if index > len(d[\"{0}_recipe_names\".format(meal_name)]):\n",
    "                d[\"{0}_{1}_recipe_name\".format(ordinal, meal_name)] = 'More recipes coming soon!'\n",
    "                d[\"{0}_{1}_recipe_name\".format(ordinal, meal_name)] = 'Nutritional info on the way!'\n",
    "                d[\"{0}_{1}_recipe_name\".format(ordinal, meal_name)] = 'Url coming soon!'\n",
    "            else:\n",
    "                d[\"{0}_{1}_recipe_name\".format(ordinal, meal_name)] = d[\"{0}_recipe_names\".format(meal_name)][index]\n",
    "                d[\"{0}_{1}_recipe_info\".format(ordinal, meal_name)] = d[\"{0}_recipe_info\".format(meal_name)][index]\n",
    "                d[\"{0}_{1}_recipe_url\".format(ordinal, meal_name)] = d[\"{0}_recipe_urls\".format(meal_name)][index]\n",
    "                \n",
    "        return d"
   ]
  },
  {
   "cell_type": "code",
   "execution_count": 228,
   "metadata": {
    "ExecuteTime": {
     "end_time": "2018-09-16T03:30:30.934993Z",
     "start_time": "2018-09-16T03:30:30.930923Z"
    }
   },
   "outputs": [
    {
     "data": {
      "text/plain": [
       "5"
      ]
     },
     "execution_count": 228,
     "metadata": {},
     "output_type": "execute_result"
    }
   ],
   "source": [
    "len(ordinal_list)"
   ]
  },
  {
   "cell_type": "code",
   "execution_count": 239,
   "metadata": {
    "ExecuteTime": {
     "end_time": "2018-09-16T03:40:43.636807Z",
     "start_time": "2018-09-16T03:40:33.685620Z"
    }
   },
   "outputs": [
    {
     "name": "stderr",
     "output_type": "stream",
     "text": [
      "/Users/brendenrossin/anaconda3/lib/python3.6/site-packages/pandas/core/indexing.py:189: SettingWithCopyWarning: \n",
      "A value is trying to be set on a copy of a slice from a DataFrame\n",
      "\n",
      "See the caveats in the documentation: http://pandas.pydata.org/pandas-docs/stable/indexing.html#indexing-view-versus-copy\n",
      "  self._setitem_with_indexer(indexer, value)\n"
     ]
    }
   ],
   "source": [
    "result = flask_output(example, df, yummly_df, converted_data, periods=90)"
   ]
  },
  {
   "cell_type": "code",
   "execution_count": 240,
   "metadata": {
    "ExecuteTime": {
     "end_time": "2018-09-16T03:40:45.190880Z",
     "start_time": "2018-09-16T03:40:45.186899Z"
    }
   },
   "outputs": [
    {
     "data": {
      "text/plain": [
       "('663.68 Calories', '38.59 g Fat', '33.46 g Protein', '46.57 g Carbs')"
      ]
     },
     "execution_count": 240,
     "metadata": {},
     "output_type": "execute_result"
    }
   ],
   "source": [
    "result['fifth_dinner_recipe_info']"
   ]
  },
  {
   "cell_type": "code",
   "execution_count": null,
   "metadata": {},
   "outputs": [],
   "source": []
  }
 ],
 "metadata": {
  "kernelspec": {
   "display_name": "Python 3",
   "language": "python",
   "name": "python3"
  },
  "language_info": {
   "codemirror_mode": {
    "name": "ipython",
    "version": 3
   },
   "file_extension": ".py",
   "mimetype": "text/x-python",
   "name": "python",
   "nbconvert_exporter": "python",
   "pygments_lexer": "ipython3",
   "version": "3.6.6"
  },
  "varInspector": {
   "cols": {
    "lenName": 16,
    "lenType": 16,
    "lenVar": 40
   },
   "kernels_config": {
    "python": {
     "delete_cmd_postfix": "",
     "delete_cmd_prefix": "del ",
     "library": "var_list.py",
     "varRefreshCmd": "print(var_dic_list())"
    },
    "r": {
     "delete_cmd_postfix": ") ",
     "delete_cmd_prefix": "rm(",
     "library": "var_list.r",
     "varRefreshCmd": "cat(var_dic_list()) "
    }
   },
   "types_to_exclude": [
    "module",
    "function",
    "builtin_function_or_method",
    "instance",
    "_Feature"
   ],
   "window_display": false
  }
 },
 "nbformat": 4,
 "nbformat_minor": 2
}
